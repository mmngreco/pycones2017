{
 "cells": [
  {
   "cell_type": "markdown",
   "metadata": {},
   "source": [
    "<img src=\"./images/TODO.svg\"/>\n",
    "\n",
    "[Photo](https://en.wikipedia.org/wiki/Kalaripayattu#/media/File:Kalarippayattu.jpg) by Leelavathy B.M / [CC BY-SA 3.0](https://creativecommons.org/licenses/by-sa/3.0/) / Not actually Kung Fu\n",
    "\n",
    "TODO --> reemplazar con nuestra propia imagen"
   ]
  },
  {
   "cell_type": "code",
   "execution_count": 4,
   "metadata": {
    "collapsed": true
   },
   "outputs": [],
   "source": [
    "# TODO: find way to HIDE (but run) this block.\n",
    "# Stubs so the examples works\n",
    "class DeathRay(object):\n",
    "    def __init__(self, *args, **kwargs): pass\n",
    "    def vaporize(self, *args, **kwargs): pass\n",
    "class TimeMachine(object):\n",
    "    def go(self, *args, **kwargs):\n",
    "        pass"
   ]
  },
  {
   "cell_type": "markdown",
   "metadata": {
    "slideshow": {
     "slide_type": "subslide"
    }
   },
   "source": [
    "# The Cyborg class"
   ]
  },
  {
   "cell_type": "code",
   "execution_count": 5,
   "metadata": {
    "collapsed": true,
    "scrolled": true
   },
   "outputs": [],
   "source": [
    "import time\n",
    "\n",
    "class Cyborg(object):\n",
    "\n",
    "    def __init__(self, name):\n",
    "        self.name = name\n",
    "        self.weapon = DeathRay(ammunition=25)\n",
    "        self.teleporter = TimeMachine()\n",
    "\n",
    "    def travel(self, destination, year):\n",
    "        self.teleporter.go(destination, year)\n",
    "        time.sleep(0.25)  # not instant, but almost\n",
    "\n",
    "    def attack(self, target):\n",
    "        self.weapon.vaporize(target)"
   ]
  },
  {
   "cell_type": "markdown",
   "metadata": {},
   "source": [
    "This is our class, and we want to log the calls to _every_ method."
   ]
  },
  {
   "cell_type": "markdown",
   "metadata": {
    "slideshow": {
     "slide_type": "subslide"
    }
   },
   "source": [
    "# Attempt 1: print() calls everywhere"
   ]
  },
  {
   "cell_type": "markdown",
   "metadata": {},
   "source": [
    "No point in denying it: this is what many of us _would_ do if not supervised by an adult. "
   ]
  },
  {
   "cell_type": "code",
   "execution_count": 6,
   "metadata": {
    "collapsed": true,
    "scrolled": true
   },
   "outputs": [],
   "source": [
    "import time\n",
    "\n",
    "class Cyborg(object):\n",
    "\n",
    "    def __init__(self, name):\n",
    "        print(\"Creating new Cyborg with name '{}'\".format(name))\n",
    "        self.name = name\n",
    "        self.weapon = DeathRay(ammunition=25)\n",
    "        self.teleporter = TimeMachine()\n",
    "\n",
    "    def travel(self, destination, year):\n",
    "        print(\"Travelling to {} and year {}\".format(destination, year))\n",
    "        self.teleporter.go(destination, year)\n",
    "        time.sleep(0.25)  # not instant, but almost\n",
    "\n",
    "    def attack(self, target):\n",
    "        print(\"Attacking {}\".format(target))\n",
    "        self.weapon.vaporize(target)"
   ]
  },
  {
   "cell_type": "markdown",
   "metadata": {
    "slideshow": {
     "slide_type": "subslide"
    }
   },
   "source": [
    "\"The most effective debugging tool is still careful thought, coupled with judiciously placed print statements\"  [Brian W. Kernighan](https://en.wikipedia.org/wiki/Brian_Kernighan)."
   ]
  },
  {
   "cell_type": "code",
   "execution_count": 7,
   "metadata": {
    "scrolled": true
   },
   "outputs": [
    {
     "name": "stdout",
     "output_type": "stream",
     "text": [
      "Creating new Cyborg with name 'T-1000'\n",
      "Travelling to Los Angeles and year 1995\n",
      "Attacking Sarah Connor\n",
      "Attacking John Connor\n"
     ]
    }
   ],
   "source": [
    "robot = Cyborg('T-1000')\n",
    "robot.travel('Los Angeles', 1995)\n",
    "robot.attack('Sarah Connor')\n",
    "robot.attack('John Connor')"
   ]
  },
  {
   "cell_type": "markdown",
   "metadata": {
    "slideshow": {
     "slide_type": "subslide"
    }
   },
   "source": [
    "# Attempt 2: the `logging` module"
   ]
  },
  {
   "cell_type": "code",
   "execution_count": 8,
   "metadata": {
    "collapsed": true,
    "scrolled": true,
    "slideshow": {
     "slide_type": "-"
    }
   },
   "outputs": [],
   "source": [
    "import time\n",
    "import logging\n",
    "logging.basicConfig(format='%(asctime)s %(message)s', level=logging.DEBUG)\n",
    "\n",
    "class Cyborg(object):\n",
    "\n",
    "    def __init__(self, name):\n",
    "        logging.info(\"Creating new Cyborg with name '%s'\", name)\n",
    "        self.name = name\n",
    "        self.weapon = DeathRay(ammunition=25)\n",
    "        self.teleporter = TimeMachine()\n",
    "\n",
    "    def travel(self, destination, year):\n",
    "        logging.info(\"Travelling to %s and year %s\", destination, year)\n",
    "        self.teleporter.go(destination, year)\n",
    "        time.sleep(0.25)  # not instant, but almost\n",
    "\n",
    "    def attack(self, target):\n",
    "        logging.info(\"Attacking %s\", target)\n",
    "        self.weapon.vaporize(target)"
   ]
  },
  {
   "cell_type": "code",
   "execution_count": 9,
   "metadata": {
    "slideshow": {
     "slide_type": "subslide"
    }
   },
   "outputs": [
    {
     "name": "stderr",
     "output_type": "stream",
     "text": [
      "2017-09-10 11:26:12,687 Creating new Cyborg with name 'T-1000'\n",
      "2017-09-10 11:26:12,688 Travelling to Los Angeles and year 1995\n",
      "2017-09-10 11:26:12,939 Attacking Sarah Connor\n",
      "2017-09-10 11:26:12,940 Attacking John Connor\n"
     ]
    }
   ],
   "source": [
    "robot = Cyborg('T-1000')\n",
    "robot.travel('Los Angeles', 1995)\n",
    "robot.attack('Sarah Connor')\n",
    "robot.attack('John Connor')"
   ]
  },
  {
   "cell_type": "markdown",
   "metadata": {
    "slideshow": {
     "slide_type": "subslide"
    }
   },
   "source": [
    "# Problem: there're logging calls everywhere\n",
    "\n",
    "- We must add manually the call to e.g. `logging.info()` to every method.\n",
    "- Whoever adds a new method in the future might forget to do it.\n",
    "- What if we had three _hundred_ methods, instead of three?\n",
    "- Also, copy-pasting function calls is boring."
   ]
  },
  {
   "cell_type": "code",
   "execution_count": 10,
   "metadata": {
    "collapsed": true,
    "scrolled": true,
    "slideshow": {
     "slide_type": "subslide"
    }
   },
   "outputs": [],
   "source": [
    "import time\n",
    "import logging\n",
    "logging.basicConfig(format='%(asctime)s %(message)s', level=logging.DEBUG)\n",
    "\n",
    "class Cyborg(object):\n",
    "\n",
    "    def __init__(self, name):\n",
    "        logging.info(\"Creating new Cyborg with name '%s'\", name)\n",
    "        self.name = name\n",
    "        self.weapon = DeathRay(ammunition=25)\n",
    "        self.teleporter = TimeMachine()\n",
    "        self.alive = True\n",
    "\n",
    "    def travel(self, destination, year):\n",
    "        logging.info(\"Travelling to %s and year %s\", destination, year)\n",
    "        self.teleporter.go(destination, year)\n",
    "        time.sleep(0.25)  # not instant, but almost\n",
    "\n",
    "    def attack(self, target):\n",
    "        logging.info(\"Attacking %s\", target)\n",
    "        self.weapon.vaporize(target)\n",
    "        \n",
    "    def selfdestroy(self):\n",
    "        self.alive = False"
   ]
  },
  {
   "cell_type": "markdown",
   "metadata": {},
   "source": [
    "We added `Cyborg.selfdestroy()`, but forgot to add the logging call."
   ]
  },
  {
   "cell_type": "markdown",
   "metadata": {
    "slideshow": {
     "slide_type": "slide"
    }
   },
   "source": [
    "# Detour: Decorators Crash Course\n",
    "\n",
    "What are decorators and what are the useful for?\n",
    "\n",
    "# TODO IMAGE"
   ]
  },
  {
   "cell_type": "markdown",
   "metadata": {
    "slideshow": {
     "slide_type": "subslide"
    }
   },
   "source": [
    "# First-class objects\n",
    "\n",
    "> \"A first class object is an entity that can be dynamically created, destroyed, passed to a function, returned as a value, and have all the rights as other variables in the programming language have\" --- [StackOverflow](https://stackoverflow.com/a/245208)\n",
    "\n",
    "* Functions are first-class objects.\n",
    "* Classes are first-class objects too.\n",
    "* In fact, in Python _everything_ is a first-class object.\n",
    "\n",
    "This mean that if we take e.g. a function, we can...\n"
   ]
  },
  {
   "cell_type": "markdown",
   "metadata": {
    "slideshow": {
     "slide_type": "subslide"
    }
   },
   "source": [
    "## Assign it to a variable\n",
    "\n",
    "Take a function, for example. We can assign it to a variable like any other object."
   ]
  },
  {
   "cell_type": "code",
   "execution_count": 11,
   "metadata": {},
   "outputs": [
    {
     "name": "stdout",
     "output_type": "stream",
     "text": [
      "7\n"
     ]
    }
   ],
   "source": [
    "numbers = [3, 5, 7, 1]\n",
    "print(max(numbers))"
   ]
  },
  {
   "cell_type": "code",
   "execution_count": 12,
   "metadata": {},
   "outputs": [
    {
     "name": "stdout",
     "output_type": "stream",
     "text": [
      "7\n"
     ]
    }
   ],
   "source": [
    "func = max\n",
    "print(func(numbers))  # same as calling max()"
   ]
  },
  {
   "cell_type": "markdown",
   "metadata": {},
   "source": [
    "No parentheses because we are not calling the function."
   ]
  },
  {
   "cell_type": "markdown",
   "metadata": {
    "slideshow": {
     "slide_type": "subslide"
    }
   },
   "source": [
    "## Pass it as argument\n",
    "\n",
    "... _to_ another function:"
   ]
  },
  {
   "cell_type": "code",
   "execution_count": 13,
   "metadata": {},
   "outputs": [
    {
     "name": "stdout",
     "output_type": "stream",
     "text": [
      "7\n",
      "1\n"
     ]
    }
   ],
   "source": [
    "def call(func, values):\n",
    "    return func(values)\n",
    "\n",
    "print(call(max, numbers))\n",
    "print(call(min, numbers))"
   ]
  },
  {
   "cell_type": "markdown",
   "metadata": {},
   "source": [
    "This is used in real life for [callbacks][1], among others.\n",
    "\n",
    "[1]: https://en.wikipedia.org/wiki/Callback_(computer_programming)"
   ]
  },
  {
   "cell_type": "markdown",
   "metadata": {
    "slideshow": {
     "slide_type": "subslide"
    }
   },
   "source": [
    "## Return it\n",
    "\n",
    "... _from_ another function:"
   ]
  },
  {
   "cell_type": "code",
   "execution_count": 14,
   "metadata": {},
   "outputs": [
    {
     "name": "stdout",
     "output_type": "stream",
     "text": [
      "Function: <built-in function min>\n",
      "Result: 1\n"
     ]
    }
   ],
   "source": [
    "import random                                                               \n",
    "\n",
    "func = random.choice([max, min])\n",
    "print(\"Function:\", func)\n",
    "print(\"Result:\", func(numbers))"
   ]
  },
  {
   "cell_type": "markdown",
   "metadata": {
    "slideshow": {
     "slide_type": "subslide"
    }
   },
   "source": [
    "## Nested functions\n",
    "\n",
    "Define it within another function, and return it!"
   ]
  },
  {
   "cell_type": "code",
   "execution_count": 15,
   "metadata": {},
   "outputs": [
    {
     "name": "stdout",
     "output_type": "stream",
     "text": [
      "Number: 4\n",
      "Square: 16\n",
      "Cube  : 64\n"
     ]
    }
   ],
   "source": [
    "def get_power_function(exponent):\n",
    "    \"\"\"Returns a function to compute the exponent-th power.\"\"\"\n",
    "    \n",
    "    def power(n):\n",
    "        return n ** exponent\n",
    "    return power\n",
    "\n",
    "square = get_power_function(2)\n",
    "cube   = get_power_function(3)\n",
    "n = 4\n",
    "\n",
    "print(\"Number:\", 4)\n",
    "print(\"Square:\", square(n))\n",
    "print(\"Cube  :\", cube(n))"
   ]
  },
  {
   "cell_type": "markdown",
   "metadata": {
    "slideshow": {
     "slide_type": "subslide"
    }
   },
   "source": [
    "# So, decorators...\n",
    "\n",
    "... are \"wrappers\" that let us execute code _before_ and _after_ the function that they decorate without modifying the function itself. We:\n",
    "\n",
    "* Take the function as an argument.\n",
    "* Add some behaviour, wrapping it in a new function.\n",
    "* Return (and later use) the new function."
   ]
  },
  {
   "cell_type": "code",
   "execution_count": 16,
   "metadata": {
    "collapsed": true,
    "slideshow": {
     "slide_type": "subslide"
    }
   },
   "outputs": [],
   "source": [
    "import time\n",
    "\n",
    "def measure_time(func):\n",
    "    \"\"\"A decorator for measuring the execution time of a function.\"\"\"\n",
    "\n",
    "    def wrapped(*args):\n",
    "        tstart = time.time()\n",
    "        result = func(*args)\n",
    "        tend = time.time()\n",
    "        tdelta = tend - tstart\n",
    "        print(\"Function call took {} seconds\".format(tdelta))\n",
    "        return result\n",
    "    \n",
    "    return wrapped"
   ]
  },
  {
   "cell_type": "markdown",
   "metadata": {},
   "source": [
    "Note: no `**kwargs` for simplicity's sake."
   ]
  },
  {
   "cell_type": "markdown",
   "metadata": {
    "slideshow": {
     "slide_type": "subslide"
    }
   },
   "source": [
    "A more Pythonic approach, by the way, would be to use [finally](https://docs.python.org/3/tutorial/errors.html#defining-clean-up-actions):"
   ]
  },
  {
   "cell_type": "code",
   "execution_count": 17,
   "metadata": {
    "collapsed": true
   },
   "outputs": [],
   "source": [
    "import time\n",
    "\n",
    "def measure_time(func):\n",
    "    \"\"\"A decorator for measuring the execution time of a function.\"\"\"\n",
    "\n",
    "    def wrapped(*args):\n",
    "        try:\n",
    "            tstart = time.time()\n",
    "            return func(*args)\n",
    "        finally:\n",
    "            tend = time.time()\n",
    "            tdelta = tend - tstart\n",
    "            print(\"Function call took {} seconds\".format(tdelta))\n",
    "\n",
    "    return wrapped"
   ]
  },
  {
   "cell_type": "markdown",
   "metadata": {},
   "source": [
    "No need to store the result in a variable to return it later."
   ]
  },
  {
   "cell_type": "markdown",
   "metadata": {
    "slideshow": {
     "slide_type": "subslide"
    }
   },
   "source": [
    "Let's now decorate something:"
   ]
  },
  {
   "cell_type": "code",
   "execution_count": 18,
   "metadata": {},
   "outputs": [
    {
     "name": "stdout",
     "output_type": "stream",
     "text": [
      "Function call took 2.86102294921875e-06 seconds\n",
      "[9, 25, 49, 1]\n"
     ]
    }
   ],
   "source": [
    "def square_everything(numbers):\n",
    "    \"\"\"Return the square of all the numbers.\"\"\"\n",
    "    \n",
    "    result = []\n",
    "    for n in numbers:\n",
    "        result.append(n ** 2)\n",
    "    return result\n",
    "\n",
    "func = measure_time(square_everything)\n",
    "print(func(numbers))"
   ]
  },
  {
   "cell_type": "markdown",
   "metadata": {
    "slideshow": {
     "slide_type": "subslide"
    }
   },
   "source": [
    "# Missing attributes\n",
    "\n",
    "A problem with our decorated function is that we lose attributes such as the name or docstring."
   ]
  },
  {
   "cell_type": "code",
   "execution_count": 19,
   "metadata": {},
   "outputs": [
    {
     "name": "stdout",
     "output_type": "stream",
     "text": [
      "Name: square_everything\n",
      "Docstring: Return the square of all the numbers.\n"
     ]
    }
   ],
   "source": [
    "def square_everything(numbers):\n",
    "    \"\"\"Return the square of all the numbers.\"\"\"\n",
    "    \n",
    "    result = []\n",
    "    for n in numbers:\n",
    "        result.append(n ** 2)\n",
    "    return result\n",
    "\n",
    "print(\"Name:\", square_everything.__name__)\n",
    "print(\"Docstring:\", square_everything.__doc__)"
   ]
  },
  {
   "cell_type": "markdown",
   "metadata": {
    "slideshow": {
     "slide_type": "subslide"
    }
   },
   "source": [
    "However..."
   ]
  },
  {
   "cell_type": "code",
   "execution_count": 20,
   "metadata": {
    "slideshow": {
     "slide_type": "-"
    }
   },
   "outputs": [
    {
     "name": "stdout",
     "output_type": "stream",
     "text": [
      "Name: wrapped\n",
      "Docstring: None\n"
     ]
    }
   ],
   "source": [
    "func = measure_time(square_everything)\n",
    "\n",
    "print(\"Name:\", func.__name__)\n",
    "print(\"Docstring:\", func.__doc__)"
   ]
  },
  {
   "cell_type": "markdown",
   "metadata": {},
   "source": [
    "This is unfortunate, as these are great for e.g. debugging."
   ]
  },
  {
   "cell_type": "markdown",
   "metadata": {
    "slideshow": {
     "slide_type": "subslide"
    }
   },
   "source": [
    "# functools.wraps()\n",
    "\n",
    "[`wraps()`](https://docs.python.org/3/library/functools.html#functools.wraps) function allows us to overwrite the function attributes (`__name__`, `__doc__`, `__module__`, etc) attributes of the wrapper function with those of the _original_ function."
   ]
  },
  {
   "cell_type": "code",
   "execution_count": 21,
   "metadata": {
    "collapsed": true
   },
   "outputs": [],
   "source": [
    "import functools\n",
    "import time\n",
    "\n",
    "def measure_time(func):\n",
    "    \"\"\"A decorator for measuring the execution time of a function.\"\"\"\n",
    "\n",
    "    @functools.wraps(func)  # note this\n",
    "    def wrapped(*args):\n",
    "        try:\n",
    "            tstart = time.time()\n",
    "            return func(*args)\n",
    "        finally:\n",
    "            tend = time.time()\n",
    "            tdelta = tend - tstart\n",
    "            print(\"Function call took {} seconds\".format(tdelta))\n",
    "\n",
    "    return wrapped"
   ]
  },
  {
   "cell_type": "markdown",
   "metadata": {
    "slideshow": {
     "slide_type": "subslide"
    }
   },
   "source": [
    "In this manner, the changes to the function are transparent."
   ]
  },
  {
   "cell_type": "code",
   "execution_count": 22,
   "metadata": {},
   "outputs": [
    {
     "name": "stdout",
     "output_type": "stream",
     "text": [
      "Name: square_everything\n",
      "Docstring: Return the square of all the numbers.\n"
     ]
    }
   ],
   "source": [
    "def square_everything(numbers):\n",
    "    \"\"\"Return the square of all the numbers.\"\"\"\n",
    "    \n",
    "    result = []\n",
    "    for n in numbers:\n",
    "        result.append(n ** 2)\n",
    "    return result\n",
    "\n",
    "func = measure_time(square_everything)\n",
    "\n",
    "print(\"Name:\", func.__name__)\n",
    "print(\"Docstring:\", func.__doc__)"
   ]
  },
  {
   "cell_type": "markdown",
   "metadata": {
    "slideshow": {
     "slide_type": "subslide"
    }
   },
   "source": [
    "# Python's Decorator Syntax\n",
    "\n",
    "But we don't want to call our function `func`. Let's keep the original name:"
   ]
  },
  {
   "cell_type": "code",
   "execution_count": 23,
   "metadata": {},
   "outputs": [
    {
     "name": "stdout",
     "output_type": "stream",
     "text": [
      "Function call took 3.5762786865234375e-06 seconds\n",
      "[9, 25, 49, 1]\n"
     ]
    }
   ],
   "source": [
    "def square_everything(numbers):\n",
    "    \"\"\"Return the square of all the numbers.\"\"\"\n",
    "    \n",
    "    result = []\n",
    "    for n in numbers:\n",
    "        result.append(n ** 2)\n",
    "    return result\n",
    "\n",
    "square_everything = measure_time(square_everything)\n",
    "print(square_everything(numbers))"
   ]
  },
  {
   "cell_type": "markdown",
   "metadata": {
    "slideshow": {
     "slide_type": "subslide"
    }
   },
   "source": [
    "Instead of..."
   ]
  },
  {
   "cell_type": "code",
   "execution_count": 24,
   "metadata": {
    "collapsed": true
   },
   "outputs": [],
   "source": [
    "square_everything = measure_time(square_everything)"
   ]
  },
  {
   "cell_type": "markdown",
   "metadata": {},
   "source": [
    "... we can apply a decorator using this shortcut:"
   ]
  },
  {
   "cell_type": "code",
   "execution_count": 25,
   "metadata": {},
   "outputs": [
    {
     "name": "stdout",
     "output_type": "stream",
     "text": [
      "Function call took 4.0531158447265625e-06 seconds\n",
      "[9, 25, 49, 1]\n"
     ]
    }
   ],
   "source": [
    "@measure_time\n",
    "def square_everything(numbers):\n",
    "    result = []\n",
    "    for n in numbers:\n",
    "        result.append(n ** 2)\n",
    "    return result\n",
    "\n",
    "print(square_everything(numbers))"
   ]
  },
  {
   "cell_type": "markdown",
   "metadata": {},
   "source": [
    "That is: apply `measure_time` to `square_everything` and store it in `square_everything`. We're effective replacing it with the updated, wrapped version."
   ]
  },
  {
   "cell_type": "markdown",
   "metadata": {
    "slideshow": {
     "slide_type": "subslide"
    }
   },
   "source": [
    "# There's much more\n",
    "\n",
    "* We can chain decorators, applying 2+ to the same function.\n",
    "* We can have decorators that take arguments. \n",
    "* A closely-related concept are _closures_.\n",
    "\n",
    "But this is enough for now.\n",
    "\n",
    "### Recommended readings:\n",
    "\n",
    "* [Decorator Basics](https://stackoverflow.com/a/1594484) on Stack Overflow.\n",
    "* [The closures that moved Spielberg](https://www.youtube.com/watch?v=rrL3CQNOFRc) at PyConES 2016."
   ]
  },
  {
   "cell_type": "markdown",
   "metadata": {
    "slideshow": {
     "slide_type": "slide"
    }
   },
   "source": [
    "# Going back to our problem...\n",
    "\n",
    "We were here, with our login calls _everywhere_."
   ]
  },
  {
   "cell_type": "code",
   "execution_count": 26,
   "metadata": {
    "collapsed": true
   },
   "outputs": [],
   "source": [
    "import time\n",
    "import logging\n",
    "logging.basicConfig(format='%(asctime)s %(message)s', level=logging.DEBUG)\n",
    "\n",
    "class Cyborg(object):\n",
    "\n",
    "    def __init__(self, name):\n",
    "        logging.info(\"Creating new Cyborg with name '%s'\", name)\n",
    "        self.name = name\n",
    "        self.weapon = DeathRay(ammunition=25)\n",
    "        self.teleporter = TimeMachine()\n",
    "        self.alive = True\n",
    "\n",
    "    def travel(self, destination, year):\n",
    "        logging.info(\"Travelling to %s and year %s\", destination, year)\n",
    "        self.teleporter.go(destination, year)\n",
    "        time.sleep(0.25)  # not instant, but almost\n",
    "\n",
    "    def attack(self, target):\n",
    "        logging.info(\"Attacking %s\", target)\n",
    "        self.weapon.vaporize(target)"
   ]
  },
  {
   "cell_type": "markdown",
   "metadata": {
    "slideshow": {
     "slide_type": "subslide"
    }
   },
   "source": [
    "# Attempt 3: method decorators"
   ]
  },
  {
   "cell_type": "markdown",
   "metadata": {},
   "source": [
    "TODO -> aquí hay un salto repentino a los decoradores, y se empiezan a usar directamente. Creo que vendría bien un par de breves slides en las que hacer un crash course de 1 minuto (mejor que nada para la gente no sepa qué ocurre, al menos que entiendan el concepto)"
   ]
  },
  {
   "cell_type": "code",
   "execution_count": 27,
   "metadata": {
    "scrolled": true
   },
   "outputs": [
    {
     "name": "stderr",
     "output_type": "stream",
     "text": [
      "2017-09-10 11:26:13,328 Called cube, args=(2,)\n"
     ]
    },
    {
     "name": "stdout",
     "output_type": "stream",
     "text": [
      "8\n"
     ]
    }
   ],
   "source": [
    "import functools\n",
    "\n",
    "def log(func):\n",
    "    @functools.wraps(func)\n",
    "    def wrapped(*args):  # omit **kwargs for simplicity\n",
    "        logging.info('Called %s, args=%s', func.__name__, args)\n",
    "        return func(*args)\n",
    "    return wrapped\n",
    "\n",
    "@log\n",
    "def cube(n):\n",
    "    \"\"\"Return the third power of 'n'.\"\"\"\n",
    "    return n ** 3\n",
    "\n",
    "print(cube(2))"
   ]
  },
  {
   "cell_type": "markdown",
   "metadata": {
    "slideshow": {
     "slide_type": "subslide"
    }
   },
   "source": [
    "So going back to our `Cyborg` class..."
   ]
  },
  {
   "cell_type": "code",
   "execution_count": 28,
   "metadata": {
    "collapsed": true,
    "scrolled": true
   },
   "outputs": [],
   "source": [
    "import time\n",
    "import logging\n",
    "\n",
    "def log(func):\n",
    "    @functools.wraps(func)\n",
    "    def wrapped(*args):  # omit **kwargs for simplicity\n",
    "        # args[1:] so that we don't print 'self'\n",
    "        logging.info('Called %s%s', func.__name__, args[1:])\n",
    "        return func(*args)\n",
    "    return wrapped\n",
    "\n",
    "\n",
    "class Cyborg(object):\n",
    "    \n",
    "    @log\n",
    "    def __init__(self, name):\n",
    "        self.name = name\n",
    "        self.weapon = DeathRay(ammunition=25)\n",
    "        self.teleporter = TimeMachine()\n",
    "\n",
    "    @log\n",
    "    def travel(self, destination, year):\n",
    "        self.teleporter.go(destination, year)\n",
    "        time.sleep(0.25)  # not instant, but almost\n",
    "\n",
    "    @log\n",
    "    def attack(self, target):\n",
    "        self.weapon.vaporize(target)"
   ]
  },
  {
   "cell_type": "code",
   "execution_count": 29,
   "metadata": {
    "slideshow": {
     "slide_type": "subslide"
    }
   },
   "outputs": [
    {
     "name": "stderr",
     "output_type": "stream",
     "text": [
      "2017-09-10 11:26:13,379 Called __init__('T-1000',)\n",
      "2017-09-10 11:26:13,380 Called travel('Los Angeles', 1995)\n",
      "2017-09-10 11:26:13,634 Called attack('Sarah Connor',)\n",
      "2017-09-10 11:26:13,635 Called attack('John Connor',)\n"
     ]
    }
   ],
   "source": [
    "robot = Cyborg('T-1000')\n",
    "robot.travel('Los Angeles', 1995)\n",
    "robot.attack('Sarah Connor')\n",
    "robot.attack('John Connor')"
   ]
  },
  {
   "cell_type": "markdown",
   "metadata": {
    "slideshow": {
     "slide_type": "subslide"
    }
   },
   "source": [
    "# This didn't solve the problem, though\n",
    "\n",
    "- We have replaced calls to `logging.info()` with calls to `@log`.\n",
    "- Whoever adds a new method in the future might forget to _decorate_ it.\n",
    "- We still could have three _hundred_ methods instead of three.\n",
    "- Also, copy-pasting method decorations is still boring."
   ]
  },
  {
   "cell_type": "markdown",
   "metadata": {
    "slideshow": {
     "slide_type": "subslide"
    }
   },
   "source": [
    "# Attempt 4: class decorators\n",
    "\n",
    "Let a second decorator do the work for us $\\rightarrow$ decorate all the methods.\n",
    "\n"
   ]
  },
  {
   "cell_type": "code",
   "execution_count": 30,
   "metadata": {
    "collapsed": true
   },
   "outputs": [],
   "source": [
    "def decorate_all_methods(decorator):\n",
    "    def wrapped(cls):\n",
    "        for attr_name in cls.__dict__:\n",
    "            attr = getattr(cls, attr_name)\n",
    "            if callable(attr):\n",
    "                # It's a function, decorate it\n",
    "                setattr(cls, attr_name, decorator(attr))\n",
    "        return cls\n",
    "    return wrapped"
   ]
  },
  {
   "cell_type": "code",
   "execution_count": 35,
   "metadata": {
    "slideshow": {
     "slide_type": "subslide"
    }
   },
   "outputs": [],
   "source": [
    "@decorate_all_methods(log)\n",
    "class Cyborg(object):\n",
    "\n",
    "    def __init__(self, name):\n",
    "        self.name = name\n",
    "        self.weapon = DeathRay(ammunition=25)\n",
    "        self.teleporter = TimeMachine()\n",
    "\n",
    "    def travel(self, destination, year):\n",
    "        self.teleporter.go(destination, year)\n",
    "        time.sleep(0.25)  # not instant, but almost\n",
    "\n",
    "    def attack(self, target):\n",
    "        self.weapon.vaporize(target)"
   ]
  },
  {
   "cell_type": "code",
   "execution_count": 36,
   "metadata": {
    "slideshow": {
     "slide_type": "subslide"
    }
   },
   "outputs": [
    {
     "name": "stderr",
     "output_type": "stream",
     "text": [
      "2017-09-10 11:26:51,999 Called __init__('T-1000',)\n",
      "2017-09-10 11:26:52,001 Called travel('Los Angeles', 1995)\n",
      "2017-09-10 11:26:52,252 Called attack('Sarah Connor',)\n",
      "2017-09-10 11:26:52,253 Called attack('John Connor',)\n"
     ]
    }
   ],
   "source": [
    "robot = Cyborg('T-1000')\n",
    "robot.travel('Los Angeles', 1995)\n",
    "robot.attack('Sarah Connor')\n",
    "robot.attack('John Connor')"
   ]
  },
  {
   "cell_type": "markdown",
   "metadata": {
    "slideshow": {
     "slide_type": "subslide"
    }
   },
   "source": [
    "# We did it! Hoo-ray!"
   ]
  },
  {
   "cell_type": "code",
   "execution_count": 33,
   "metadata": {},
   "outputs": [],
   "source": [
    "@decorate_all_methods(log)\n",
    "class Cyborg(object):\n",
    "\n",
    "    def __init__(self, name):\n",
    "        self.name = name\n",
    "        self.weapon = DeathRay(ammunition=25)\n",
    "        self.teleporter = TimeMachine()\n",
    "\n",
    "    def travel(self, destination, year):\n",
    "        self.teleporter.go(destination, year)\n",
    "        time.sleep(0.25)  # not instant, but almost\n",
    "\n",
    "    def attack(self, target):\n",
    "        self.weapon.vaporize(target)"
   ]
  },
  {
   "cell_type": "markdown",
   "metadata": {
    "slideshow": {
     "slide_type": "subslide"
    }
   },
   "source": [
    "# We _didn't_ solve the problem, though\n",
    "\n",
    "- We just moved one level up the ladder of abstraction.\n",
    "- We have replaced decorating methods with decorating _classes_.\n",
    "- Whoever adds a new _class_ in the future might forget to _decorate_ it.\n",
    "- What if we had one _hundred_ classes instead of just one?"
   ]
  },
  {
   "cell_type": "code",
   "execution_count": 39,
   "metadata": {},
   "outputs": [],
   "source": [
    "@decorate_all_methods(log)\n",
    "class Ninja(object): pass\n",
    "    # ...\n",
    "    \n",
    "class Human(object): pass\n",
    "    # ...\n",
    "    \n",
    "class Terminator(object): pass\n",
    "    # ...  "
   ]
  },
  {
   "cell_type": "markdown",
   "metadata": {
    "slideshow": {
     "slide_type": "subslide"
    }
   },
   "source": [
    "# Nested classes\n",
    "\n",
    "Another limitation is that out decorator will also decorate _nested_ classes, even if that's not what we want."
   ]
  },
  {
   "cell_type": "code",
   "execution_count": 62,
   "metadata": {},
   "outputs": [
    {
     "name": "stderr",
     "output_type": "stream",
     "text": [
      "2017-09-10 11:46:59,920 Called __init__('T-1000',)\n",
      "2017-09-10 11:46:59,922 Called Chainsaw()\n",
      "2017-09-10 11:46:59,923 Called attack('Sarah Connor',)\n"
     ]
    }
   ],
   "source": [
    "@decorate_all_methods(log)\n",
    "class Cyborg(object):\n",
    "\n",
    "    class Chainsaw(object):\n",
    "        \n",
    "        # This method was also decorated.\n",
    "        def vaporize(self, victim): pass\n",
    "            # ...            \n",
    "    \n",
    "    def __init__(self, name):\n",
    "        self.name = name\n",
    "        self.weapon = Cyborg.Chainsaw()\n",
    "\n",
    "    def attack(self, target):\n",
    "        self.weapon.vaporize(target)\n",
    "\n",
    "robot = Cyborg('T-1000')\n",
    "robot.attack('Sarah Connor')"
   ]
  },
  {
   "cell_type": "raw",
   "metadata": {
    "slideshow": {
     "slide_type": "subslide"
    }
   },
   "source": [
    "# There are more limitations\n",
    "\n",
    "For example, if we want to be able to add _classes_:"
   ]
  },
  {
   "cell_type": "code",
   "execution_count": null,
   "metadata": {},
   "outputs": [],
   "source": [
    "Cyborg = Robot + Human  # get new class and use it\n",
    "terminator = Cyborg('T-800')"
   ]
  },
  {
   "cell_type": "markdown",
   "metadata": {},
   "source": [
    "### Recommended readings:\n",
    "\n",
    "* [Python metaclasses vs class decorators](https://stackoverflow.com/a/1779404) on Stack Overflow.\n",
    "* [What are Python metaclasses useful for?](https://stackoverflow.com/a/1779404), also by Alex Martelli."
   ]
  },
  {
   "cell_type": "markdown",
   "metadata": {},
   "source": [
    "# Help me, Obi-Wan Kenobi. You're my only hope\n",
    "\n",
    "There're things that simply _cannot_ be done with class decorators."
   ]
  },
  {
   "cell_type": "code",
   "execution_count": null,
   "metadata": {
    "collapsed": true,
    "slideshow": {
     "slide_type": "fragment"
    }
   },
   "outputs": [],
   "source": [
    "But _metaclasses_ can."
   ]
  },
  {
   "cell_type": "markdown",
   "metadata": {
    "slideshow": {
     "slide_type": "slide"
    }
   },
   "source": [
    "# Parting Words\n",
    "\n",
    "TODO"
   ]
  }
 ],
 "metadata": {
  "celltoolbar": "Slideshow",
  "kernelspec": {
   "display_name": "Python 3",
   "language": "python",
   "name": "python3"
  },
  "language_info": {
   "codemirror_mode": {
    "name": "ipython",
    "version": 3
   },
   "file_extension": ".py",
   "mimetype": "text/x-python",
   "name": "python",
   "nbconvert_exporter": "python",
   "pygments_lexer": "ipython3",
   "version": "3.4.3"
  }
 },
 "nbformat": 4,
 "nbformat_minor": 1
}
