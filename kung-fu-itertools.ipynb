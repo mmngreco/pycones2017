{
 "cells": [
  {
   "cell_type": "markdown",
   "metadata": {},
   "source": [
    "<img src=\"./images/Front_Kalaripayattu.svg\"/>\n",
    "\n",
    "[Photo](https://en.wikipedia.org/wiki/Kalaripayattu#/media/File:Kalarippayattu.jpg) by Leelavathy B.M / [CC BY-SA 3.0](https://creativecommons.org/licenses/by-sa/3.0/) / Not actually Kung Fu"
   ]
  },
  {
   "cell_type": "markdown",
   "metadata": {
    "slideshow": {
     "slide_type": "subslide"
    }
   },
   "source": [
    "# How do we loop over the elements on a list?"
   ]
  },
  {
   "cell_type": "code",
   "execution_count": 1,
   "metadata": {
    "collapsed": false,
    "scrolled": true
   },
   "outputs": [
    {
     "name": "stdout",
     "output_type": "stream",
     "text": [
      "1\n",
      "2\n",
      "3\n",
      "4\n",
      "5\n"
     ]
    }
   ],
   "source": [
    "numbers = [1, 2, 3, 4, 5]\n",
    "for n in numbers:\n",
    "    print(n)"
   ]
  },
  {
   "cell_type": "markdown",
   "metadata": {
    "slideshow": {
     "slide_type": "subslide"
    }
   },
   "source": [
    "# We all agree that's much better than:"
   ]
  },
  {
   "cell_type": "code",
   "execution_count": 2,
   "metadata": {
    "collapsed": false,
    "scrolled": true
   },
   "outputs": [
    {
     "name": "stdout",
     "output_type": "stream",
     "text": [
      "1\n",
      "2\n",
      "3\n",
      "4\n",
      "5\n"
     ]
    }
   ],
   "source": [
    "for index in range(0, len(numbers)):\n",
    "    print(numbers[index])"
   ]
  },
  {
   "cell_type": "markdown",
   "metadata": {},
   "source": [
    "Every time somebody loops over the indexes, a kitten dies."
   ]
  },
  {
   "cell_type": "markdown",
   "metadata": {
    "slideshow": {
     "slide_type": "subslide"
    }
   },
   "source": [
    "# ... or, even worse:"
   ]
  },
  {
   "cell_type": "code",
   "execution_count": 3,
   "metadata": {
    "collapsed": false,
    "scrolled": true
   },
   "outputs": [
    {
     "name": "stdout",
     "output_type": "stream",
     "text": [
      "1\n",
      "2\n",
      "3\n"
     ]
    }
   ],
   "source": [
    "index = 0\n",
    "while index < len(numbers):\n",
    "    print(numbers[index])\n",
    "    index += 1"
   ]
  },
  {
   "cell_type": "markdown",
   "metadata": {},
   "source": [
    "This is going to get at least *two* kittens dead."
   ]
  },
  {
   "cell_type": "markdown",
   "metadata": {
    "slideshow": {
     "slide_type": "subslide"
    }
   },
   "source": [
    "# Python's for loop\n",
    "- Known as 'for-each' in other programming languages.\n",
    "- **Higher abstraction** level $\\rightarrow$ more **readable** and clear.\n",
    "- We don't care about indexes or implementation details.\n",
    "- We just say *\"loop over this\"* (whatever it is)"
   ]
  },
  {
   "cell_type": "markdown",
   "metadata": {},
   "source": [
    "Recommended talk: [Loop Like a Native](https://www.youtube.com/watch?v=EnSu9hHGq5o), by Ned Batchelder."
   ]
  },
  {
   "cell_type": "markdown",
   "metadata": {
    "slideshow": {
     "slide_type": "subslide"
    }
   },
   "source": [
    "## It's safer\n",
    "- Not manipulating indexes $\\rightarrow$ fewer places were we can make mistakes.\n",
    "- Actually, we can arguably err nowhere using a for-each loop."
   ]
  },
  {
   "cell_type": "code",
   "execution_count": 4,
   "metadata": {
    "collapsed": false,
    "scrolled": true,
    "slideshow": {
     "slide_type": "-"
    }
   },
   "outputs": [
    {
     "name": "stdout",
     "output_type": "stream",
     "text": [
      "1\n",
      "2\n",
      "3\n"
     ]
    },
    {
     "ename": "IndexError",
     "evalue": "list index out of range",
     "output_type": "error",
     "traceback": [
      "\u001b[1;31m---------------------------------------------------------------------------\u001b[0m",
      "\u001b[1;31mIndexError\u001b[0m                                Traceback (most recent call last)",
      "\u001b[1;32m<ipython-input-394-fc860578de65>\u001b[0m in \u001b[0;36m<module>\u001b[1;34m()\u001b[0m\n\u001b[0;32m      1\u001b[0m \u001b[0mindex\u001b[0m \u001b[1;33m=\u001b[0m \u001b[1;36m0\u001b[0m\u001b[1;33m\u001b[0m\u001b[0m\n\u001b[0;32m      2\u001b[0m \u001b[1;32mwhile\u001b[0m \u001b[0mindex\u001b[0m \u001b[1;33m<=\u001b[0m \u001b[0mlen\u001b[0m\u001b[1;33m(\u001b[0m\u001b[0mnumbers\u001b[0m\u001b[1;33m)\u001b[0m\u001b[1;33m:\u001b[0m  \u001b[1;31m# Ooops!\u001b[0m\u001b[1;33m\u001b[0m\u001b[0m\n\u001b[1;32m----> 3\u001b[1;33m     \u001b[0mprint\u001b[0m\u001b[1;33m(\u001b[0m\u001b[0mnumbers\u001b[0m\u001b[1;33m[\u001b[0m\u001b[0mindex\u001b[0m\u001b[1;33m]\u001b[0m\u001b[1;33m)\u001b[0m\u001b[1;33m\u001b[0m\u001b[0m\n\u001b[0m\u001b[0;32m      4\u001b[0m     \u001b[0mindex\u001b[0m \u001b[1;33m+=\u001b[0m \u001b[1;36m1\u001b[0m\u001b[1;33m\u001b[0m\u001b[0m\n",
      "\u001b[1;31mIndexError\u001b[0m: list index out of range"
     ]
    }
   ],
   "source": [
    "index = 0\n",
    "while index <= len(numbers):  # Ooops!\n",
    "    print(numbers[index])\n",
    "    index += 1"
   ]
  },
  {
   "cell_type": "markdown",
   "metadata": {
    "slideshow": {
     "slide_type": "subslide"
    }
   },
   "source": [
    "# The for loop not only works with lists"
   ]
  },
  {
   "cell_type": "markdown",
   "metadata": {},
   "source": [
    "## Strings "
   ]
  },
  {
   "cell_type": "code",
   "execution_count": 5,
   "metadata": {
    "collapsed": false
   },
   "outputs": [
    {
     "name": "stdout",
     "output_type": "stream",
     "text": [
      "a\n",
      "e\n",
      "i\n",
      "o\n",
      "u\n"
     ]
    }
   ],
   "source": [
    "for letter in \"aeiou\":\n",
    "    print(letter)"
   ]
  },
  {
   "cell_type": "markdown",
   "metadata": {
    "slideshow": {
     "slide_type": "subslide"
    }
   },
   "source": [
    "## Sets"
   ]
  },
  {
   "cell_type": "code",
   "execution_count": 6,
   "metadata": {
    "collapsed": false,
    "scrolled": true
   },
   "outputs": [
    {
     "name": "stdout",
     "output_type": "stream",
     "text": [
      "two\n",
      "three\n",
      "one\n"
     ]
    }
   ],
   "source": [
    "numbers = {\"one\", \"two\", \"three\"}\n",
    "for n in numbers:\n",
    "    print(n)"
   ]
  },
  {
   "cell_type": "markdown",
   "metadata": {},
   "source": [
    "Note: no guarantees as for the order. See [All Your Ducks In A Row](https://www.youtube.com/watch?v=fYlnfvKVDoM), by Brandon Rhodes"
   ]
  },
  {
   "cell_type": "markdown",
   "metadata": {
    "slideshow": {
     "slide_type": "subslide"
    }
   },
   "source": [
    "## Dictionaries"
   ]
  },
  {
   "cell_type": "code",
   "execution_count": 7,
   "metadata": {
    "collapsed": false,
    "scrolled": true
   },
   "outputs": [
    {
     "name": "stdout",
     "output_type": "stream",
     "text": [
      "1 -> one\n",
      "2 -> two\n",
      "3 -> three\n"
     ]
    }
   ],
   "source": [
    "numbers = {1 : \"one\", 2 : \"two\", 3 : \"three\"}\n",
    "for key, value in numbers.items():\n",
    "    print(key, \"->\", value)"
   ]
  },
  {
   "cell_type": "markdown",
   "metadata": {
    "slideshow": {
     "slide_type": "subslide"
    }
   },
   "source": [
    "## Files"
   ]
  },
  {
   "cell_type": "code",
   "execution_count": 8,
   "metadata": {
    "collapsed": false,
    "scrolled": true
   },
   "outputs": [
    {
     "name": "stdout",
     "output_type": "stream",
     "text": [
      "In a village of La Mancha, the name of which I have no desire to call\n",
      "to mind, there lived not long since one of those gentlemen that keep a\n",
      "lance in the lance-rack, an old buckler, a lean hack, and a greyhound\n",
      "for coursing.\n"
     ]
    }
   ],
   "source": [
    "with open(\"quixote.txt\") as fd:\n",
    "    for line in fd:\n",
    "        print(line, end=\"\") # line already includes a newline"
   ]
  },
  {
   "cell_type": "markdown",
   "metadata": {
    "slideshow": {
     "slide_type": "subslide"
    }
   },
   "source": [
    "# We can use the for loop with anything that's *iterable*"
   ]
  },
  {
   "cell_type": "markdown",
   "metadata": {
    "slideshow": {
     "slide_type": "skip"
    }
   },
   "source": [
    "Advanced tip: we can use [Abstract Base Classes](https://docs.python.org/3/library/abc.html).\n",
    "\n",
    "[collections.abc.Iterable](https://docs.python.org/3/library/collections.abc.html#collections.abc.Iterable) is an ABC for classes that are iterable."
   ]
  },
  {
   "cell_type": "code",
   "execution_count": 9,
   "metadata": {
    "collapsed": false,
    "slideshow": {
     "slide_type": "skip"
    }
   },
   "outputs": [
    {
     "name": "stdout",
     "output_type": "stream",
     "text": [
      "True\n",
      "True\n"
     ]
    }
   ],
   "source": [
    "import collections.abc\n",
    "\n",
    "print(issubclass(list, collections.abc.Iterable))\n",
    "print(issubclass(str,  collections.abc.Iterable))"
   ]
  },
  {
   "cell_type": "code",
   "execution_count": 10,
   "metadata": {
    "collapsed": false,
    "slideshow": {
     "slide_type": "skip"
    }
   },
   "outputs": [
    {
     "data": {
      "text/plain": [
       "True"
      ]
     },
     "execution_count": 11,
     "metadata": {},
     "output_type": "execute_result"
    }
   ],
   "source": [
    "isinstance({1, 2}, collections.Iterable)\n",
    "isinstance(\"abcd\", collections.Iterable)"
   ]
  },
  {
   "cell_type": "markdown",
   "metadata": {
    "slideshow": {
     "slide_type": "subslide"
    }
   },
   "source": [
    "# Detour: What's an iterable?"
   ]
  },
  {
   "cell_type": "markdown",
   "metadata": {},
   "source": [
    "From the [Glossary](https://docs.python.org/3/glossary.html#term-iterable):\n",
    "> An object capable of returning its members one at a time. Examples of iterables include all sequence types (such as `list`, `str`, and `tuple`) and some non-sequence types like dict, file objects, and objects of any classes you define with an `__iter__()` or `__getitem__()` method. "
   ]
  },
  {
   "cell_type": "markdown",
   "metadata": {},
   "source": [
    "So our object will be iterable if it implements `__iter__()` [`*`]"
   ]
  },
  {
   "cell_type": "markdown",
   "metadata": {},
   "source": [
    "[`*`] ... or `__getitem__()`, but let's focus on  `__iter__()`."
   ]
  },
  {
   "cell_type": "markdown",
   "metadata": {
    "slideshow": {
     "slide_type": "subslide"
    }
   },
   "source": [
    "## What's `__iter__()`?"
   ]
  },
  {
   "cell_type": "markdown",
   "metadata": {
    "slideshow": {
     "slide_type": "-"
    }
   },
   "source": [
    "Again, [from the docs](https://docs.python.org/3/reference/datamodel.html#object.__iter__):\n",
    "\n",
    "> This method is called when an iterator is required for a container. This method should return a new iterator\n",
    "object that can iterate over all the objects in the container. For mappings, it should iterate over the keys of the container.\n",
    "\n",
    "- So we need to implement `__iter__()` and make it return an *iterator*\n",
    "- This method is called implicitly by the built-in `iter()`\n"
   ]
  },
  {
   "cell_type": "markdown",
   "metadata": {
    "slideshow": {
     "slide_type": "subslide"
    }
   },
   "source": [
    "### I don't believe you"
   ]
  },
  {
   "cell_type": "code",
   "execution_count": 12,
   "metadata": {
    "collapsed": false,
    "slideshow": {
     "slide_type": "-"
    }
   },
   "outputs": [
    {
     "name": "stdout",
     "output_type": "stream",
     "text": [
      "<method-wrapper '__iter__' of list object at 0x7fdbbc074788>\n"
     ]
    }
   ],
   "source": [
    "numbers = [1, 2, 3]\n",
    "\n",
    "print(numbers.__iter__)"
   ]
  },
  {
   "cell_type": "markdown",
   "metadata": {},
   "source": [
    "OK, `__iter__()` exists."
   ]
  },
  {
   "cell_type": "code",
   "execution_count": 13,
   "metadata": {
    "collapsed": false
   },
   "outputs": [
    {
     "name": "stdout",
     "output_type": "stream",
     "text": [
      "<list_iterator object at 0x7fdb9e410860>\n"
     ]
    }
   ],
   "source": [
    "it = iter(numbers) # calls __iter__()\n",
    "print(it)"
   ]
  },
  {
   "cell_type": "markdown",
   "metadata": {},
   "source": [
    "... and it returns an iterator."
   ]
  },
  {
   "cell_type": "markdown",
   "metadata": {
    "slideshow": {
     "slide_type": "subslide"
    }
   },
   "source": [
    "## But... what's an *iterator*?\n",
    "\n",
    "It's an object that conforms to the [**Iterator Protocol**](https://docs.python.org/3/library/stdtypes.html#iterator-types), implementing two methods."
   ]
  },
  {
   "cell_type": "markdown",
   "metadata": {
    "slideshow": {
     "slide_type": "subslide"
    }
   },
   "source": [
    "### `iterator.__iter__()`\n",
    "\n",
    "> Return the iterator object itself. This is required to allow both containers and iterators to be used with the for and in statements. This method corresponds to the `tp_iter` slot of the type structure for Python objects in the Python/C API.\n",
    "\n",
    "- TL;DR: implement `__iter__()`, make it return `self`.\n",
    "- We need to do this, for... whatever reasons."
   ]
  },
  {
   "cell_type": "markdown",
   "metadata": {
    "slideshow": {
     "slide_type": "subslide"
    }
   },
   "source": [
    "I'll follow the instructions, then."
   ]
  },
  {
   "cell_type": "code",
   "execution_count": 14,
   "metadata": {
    "collapsed": true
   },
   "outputs": [],
   "source": [
    "class MyIterator(object):    \n",
    "    \n",
    "    def __iter__(self):\n",
    "        return self"
   ]
  },
  {
   "cell_type": "markdown",
   "metadata": {},
   "source": [
    "This feels pointless."
   ]
  },
  {
   "cell_type": "markdown",
   "metadata": {
    "slideshow": {
     "slide_type": "subslide"
    }
   },
   "source": [
    "### `iterator.__next__()` \n",
    "\n",
    "> Return the next item from the container. If there are no further items, raise the `StopIteration` exception. This method corresponds to the `tp_iternext` slot of the type structure for Python objects in the Python/C API.\n",
    "\n",
    "- No, I did not understood the second sentence either.\n",
    "- This was `.next()` in the now long-forgotten, barely remembered Python 2."
   ]
  },
  {
   "cell_type": "code",
   "execution_count": 15,
   "metadata": {
    "collapsed": false,
    "slideshow": {
     "slide_type": "subslide"
    }
   },
   "outputs": [
    {
     "name": "stdout",
     "output_type": "stream",
     "text": [
      "1\n",
      "2\n",
      "3\n"
     ]
    }
   ],
   "source": [
    "class MyIterator(object):\n",
    "    \n",
    "    def __init__(self, elements):\n",
    "        self.elements = elements\n",
    "        self.index = 0\n",
    "    \n",
    "    def __iter__(self):\n",
    "        return self\n",
    "    \n",
    "    def __next__(self):\n",
    "        # No elements left, so raise exception.\n",
    "        if self.index >= len(self.elements):\n",
    "            raise StopIteration\n",
    "        \n",
    "        result = self.elements[self.index]\n",
    "        self.index += 1\n",
    "        return result\n",
    "\n",
    "    \n",
    "it = MyIterator([1, 2, 3])\n",
    "print(next(it)) # calls __next__()\n",
    "print(next(it))\n",
    "print(next(it))"
   ]
  },
  {
   "cell_type": "markdown",
   "metadata": {},
   "source": [
    "- We've built our own ugly, awkward iterator object. Yay!\n",
    "- Recommended reading: [Understanding Python Iterables and Iterators](http://www.shutupandship.com/2012/01/understanding-python-iterables-and.html)"
   ]
  },
  {
   "cell_type": "markdown",
   "metadata": {
    "slideshow": {
     "slide_type": "subslide"
    }
   },
   "source": [
    "The fourth time we call `next()`, `StopIteration` happens:"
   ]
  },
  {
   "cell_type": "code",
   "execution_count": 16,
   "metadata": {
    "collapsed": false,
    "scrolled": true
   },
   "outputs": [
    {
     "ename": "StopIteration",
     "evalue": "",
     "output_type": "error",
     "traceback": [
      "\u001b[1;31m---------------------------------------------------------------------------\u001b[0m",
      "\u001b[1;31mStopIteration\u001b[0m                             Traceback (most recent call last)",
      "\u001b[1;32m<ipython-input-404-0b06c37b8ba2>\u001b[0m in \u001b[0;36m<module>\u001b[1;34m()\u001b[0m\n\u001b[1;32m----> 1\u001b[1;33m \u001b[0mprint\u001b[0m\u001b[1;33m(\u001b[0m\u001b[0mnext\u001b[0m\u001b[1;33m(\u001b[0m\u001b[0mit\u001b[0m\u001b[1;33m)\u001b[0m\u001b[1;33m)\u001b[0m\u001b[1;33m\u001b[0m\u001b[0m\n\u001b[0m",
      "\u001b[1;32m<ipython-input-403-12960aa37f94>\u001b[0m in \u001b[0;36m__next__\u001b[1;34m(self)\u001b[0m\n\u001b[0;32m     11\u001b[0m         \u001b[1;31m# No elements left, so raise exception.\u001b[0m\u001b[1;33m\u001b[0m\u001b[1;33m\u001b[0m\u001b[0m\n\u001b[0;32m     12\u001b[0m         \u001b[1;32mif\u001b[0m \u001b[0mself\u001b[0m\u001b[1;33m.\u001b[0m\u001b[0mindex\u001b[0m \u001b[1;33m>=\u001b[0m \u001b[0mlen\u001b[0m\u001b[1;33m(\u001b[0m\u001b[0mself\u001b[0m\u001b[1;33m.\u001b[0m\u001b[0melements\u001b[0m\u001b[1;33m)\u001b[0m\u001b[1;33m:\u001b[0m\u001b[1;33m\u001b[0m\u001b[0m\n\u001b[1;32m---> 13\u001b[1;33m             \u001b[1;32mraise\u001b[0m \u001b[0mStopIteration\u001b[0m\u001b[1;33m\u001b[0m\u001b[0m\n\u001b[0m\u001b[0;32m     14\u001b[0m \u001b[1;33m\u001b[0m\u001b[0m\n\u001b[0;32m     15\u001b[0m         \u001b[0mresult\u001b[0m \u001b[1;33m=\u001b[0m \u001b[0mself\u001b[0m\u001b[1;33m.\u001b[0m\u001b[0melements\u001b[0m\u001b[1;33m[\u001b[0m\u001b[0mself\u001b[0m\u001b[1;33m.\u001b[0m\u001b[0mindex\u001b[0m\u001b[1;33m]\u001b[0m\u001b[1;33m\u001b[0m\u001b[0m\n",
      "\u001b[1;31mStopIteration\u001b[0m: "
     ]
    }
   ],
   "source": [
    "print(next(it))"
   ]
  },
  {
   "cell_type": "markdown",
   "metadata": {
    "slideshow": {
     "slide_type": "subslide"
    }
   },
   "source": [
    "## `next()` must be used on iterators\n",
    "\n",
    "Even if our class is iterable, we need an iterator to loop over it:"
   ]
  },
  {
   "cell_type": "code",
   "execution_count": 17,
   "metadata": {
    "collapsed": false
   },
   "outputs": [
    {
     "ename": "TypeError",
     "evalue": "'list' object is not an iterator",
     "output_type": "error",
     "traceback": [
      "\u001b[1;31m---------------------------------------------------------------------------\u001b[0m",
      "\u001b[1;31mTypeError\u001b[0m                                 Traceback (most recent call last)",
      "\u001b[1;32m<ipython-input-185-dafbb29f486a>\u001b[0m in \u001b[0;36m<module>\u001b[1;34m()\u001b[0m\n\u001b[0;32m      1\u001b[0m \u001b[0mnumbers\u001b[0m \u001b[1;33m=\u001b[0m \u001b[1;33m[\u001b[0m\u001b[1;36m1\u001b[0m\u001b[1;33m,\u001b[0m \u001b[1;36m2\u001b[0m\u001b[1;33m,\u001b[0m \u001b[1;36m3\u001b[0m\u001b[1;33m]\u001b[0m\u001b[1;33m\u001b[0m\u001b[0m\n\u001b[1;32m----> 2\u001b[1;33m \u001b[0mnext\u001b[0m\u001b[1;33m(\u001b[0m\u001b[0mnumbers\u001b[0m\u001b[1;33m)\u001b[0m\u001b[1;33m\u001b[0m\u001b[0m\n\u001b[0m",
      "\u001b[1;31mTypeError\u001b[0m: 'list' object is not an iterator"
     ]
    }
   ],
   "source": [
    "numbers = [1, 2, 3]\n",
    "next(numbers)"
   ]
  },
  {
   "cell_type": "code",
   "execution_count": 18,
   "metadata": {
    "collapsed": false,
    "slideshow": {
     "slide_type": "subslide"
    }
   },
   "outputs": [
    {
     "name": "stdout",
     "output_type": "stream",
     "text": [
      "Iterator: <list_iterator object at 0x7fdb9e3f0da0>\n"
     ]
    }
   ],
   "source": [
    "numbers = [1, 2, 3]\n",
    "it = iter(numbers) # calls __iter__(), returns iterator\n",
    "print(\"Iterator:\", it)  # it is an iterator indeed"
   ]
  },
  {
   "cell_type": "code",
   "execution_count": 19,
   "metadata": {
    "collapsed": false
   },
   "outputs": [
    {
     "name": "stdout",
     "output_type": "stream",
     "text": [
      "1\n",
      "2\n",
      "3\n"
     ]
    },
    {
     "ename": "StopIteration",
     "evalue": "",
     "output_type": "error",
     "traceback": [
      "\u001b[1;31m---------------------------------------------------------------------------\u001b[0m",
      "\u001b[1;31mStopIteration\u001b[0m                             Traceback (most recent call last)",
      "\u001b[1;32m<ipython-input-401-0d0dc1f8f762>\u001b[0m in \u001b[0;36m<module>\u001b[1;34m()\u001b[0m\n\u001b[0;32m      2\u001b[0m \u001b[0mprint\u001b[0m\u001b[1;33m(\u001b[0m\u001b[0mnext\u001b[0m\u001b[1;33m(\u001b[0m\u001b[0mit\u001b[0m\u001b[1;33m)\u001b[0m\u001b[1;33m)\u001b[0m \u001b[1;31m# returns 2\u001b[0m\u001b[1;33m\u001b[0m\u001b[0m\n\u001b[0;32m      3\u001b[0m \u001b[0mprint\u001b[0m\u001b[1;33m(\u001b[0m\u001b[0mnext\u001b[0m\u001b[1;33m(\u001b[0m\u001b[0mit\u001b[0m\u001b[1;33m)\u001b[0m\u001b[1;33m)\u001b[0m \u001b[1;31m# returns 3\u001b[0m\u001b[1;33m\u001b[0m\u001b[0m\n\u001b[1;32m----> 4\u001b[1;33m \u001b[0mprint\u001b[0m\u001b[1;33m(\u001b[0m\u001b[0mnext\u001b[0m\u001b[1;33m(\u001b[0m\u001b[0mit\u001b[0m\u001b[1;33m)\u001b[0m\u001b[1;33m)\u001b[0m \u001b[1;31m# raises StopIteration\u001b[0m\u001b[1;33m\u001b[0m\u001b[0m\n\u001b[0m",
      "\u001b[1;31mStopIteration\u001b[0m: "
     ]
    }
   ],
   "source": [
    "print(next(it)) # returns 1\n",
    "print(next(it)) # returns 2\n",
    "print(next(it)) # returns 3\n",
    "print(next(it)) # raises StopIteration"
   ]
  },
  {
   "cell_type": "markdown",
   "metadata": {
    "slideshow": {
     "slide_type": "subslide"
    }
   },
   "source": [
    "### This is exactly what the `for` loop does under the hood\n",
    "\n",
    "\n",
    "- Uses `iter()` to get an iterator.\n",
    "- Repeatedly calls `next()`.\n",
    "- Stops when `StopIteration` is raised."
   ]
  },
  {
   "cell_type": "code",
   "execution_count": 20,
   "metadata": {
    "collapsed": false
   },
   "outputs": [
    {
     "name": "stdout",
     "output_type": "stream",
     "text": [
      "1\n",
      "2\n",
      "3\n"
     ]
    }
   ],
   "source": [
    "numbers = [1, 2, 3]\n",
    "\n",
    "def awkward_for(iterable):\n",
    "    it = iter(iterable)\n",
    "    while True:\n",
    "        try:\n",
    "            print(next(it))\n",
    "        except StopIteration:\n",
    "            break\n",
    "            \n",
    "awkward_for(numbers)"
   ]
  },
  {
   "cell_type": "markdown",
   "metadata": {},
   "source": [
    "I'm so happy we have the built-in `for` instead of this monster."
   ]
  },
  {
   "cell_type": "markdown",
   "metadata": {
    "collapsed": false,
    "slideshow": {
     "slide_type": "subslide"
    }
   },
   "source": [
    "## `for` and `StopIteration`\n",
    "\n",
    "- Although the iterator *will* raise StopIteration, we don't have to worry about it.\n",
    "- It turns out that the for loop listens for StopIteration explicitly.\n",
    "- It doesn't catch other exceptions raised by the iterator...\n",
    "- ... or `StopIteration` raised within the body of the loop."
   ]
  },
  {
   "cell_type": "code",
   "execution_count": 21,
   "metadata": {
    "collapsed": false
   },
   "outputs": [
    {
     "ename": "StopIteration",
     "evalue": "",
     "output_type": "error",
     "traceback": [
      "\u001b[1;31m---------------------------------------------------------------------------\u001b[0m",
      "\u001b[1;31mStopIteration\u001b[0m                             Traceback (most recent call last)",
      "\u001b[1;32m<ipython-input-188-8042c0f44602>\u001b[0m in \u001b[0;36m<module>\u001b[1;34m()\u001b[0m\n\u001b[0;32m      2\u001b[0m \u001b[1;33m\u001b[0m\u001b[0m\n\u001b[0;32m      3\u001b[0m \u001b[1;32mfor\u001b[0m \u001b[0mn\u001b[0m \u001b[1;32min\u001b[0m \u001b[0mnumbers\u001b[0m\u001b[1;33m:\u001b[0m\u001b[1;33m\u001b[0m\u001b[0m\n\u001b[1;32m----> 4\u001b[1;33m     \u001b[1;32mraise\u001b[0m \u001b[0mStopIteration\u001b[0m \u001b[1;31m# break stuff\u001b[0m\u001b[1;33m\u001b[0m\u001b[0m\n\u001b[0m",
      "\u001b[1;31mStopIteration\u001b[0m: "
     ]
    }
   ],
   "source": [
    "numbers = [1, 2, 3]\n",
    "\n",
    "for n in numbers:\n",
    "    raise StopIteration # break stuff"
   ]
  },
  {
   "cell_type": "markdown",
   "metadata": {
    "slideshow": {
     "slide_type": "subslide"
    }
   },
   "source": [
    "# Detour: Generators\n",
    "\n",
    "Generators are a special type of iterator.\n",
    "\n",
    "How a normal function works:\n",
    "\n",
    "- The execution starts at the function's first line.\n",
    "- It continues until we reach a `return` statement...\n",
    "- ... or the end of the function — that returns `None` implicitly.\n",
    "- Whatever result we return, must be returned at once."
   ]
  },
  {
   "cell_type": "markdown",
   "metadata": {},
   "source": [
    "Recommended readings:\n",
    "- ['yield' and Generators Explained](https://jeffknupp.com/blog/2013/04/07/improve-your-python-yield-and-generators-explained/)\n",
    "- [Generator Tricks for Systems Programmers](http://www.dabeaz.com/generators/)"
   ]
  },
  {
   "cell_type": "markdown",
   "metadata": {
    "slideshow": {
     "slide_type": "subslide"
    }
   },
   "source": [
    "## Single exit point"
   ]
  },
  {
   "cell_type": "code",
   "execution_count": 22,
   "metadata": {
    "collapsed": false,
    "scrolled": true
   },
   "outputs": [
    {
     "name": "stdout",
     "output_type": "stream",
     "text": [
      "25\n"
     ]
    }
   ],
   "source": [
    "def foo(x):\n",
    "    \"\"\"Add one, then square.\"\"\"\n",
    "    \n",
    "    y = x + 1  # we first do this\n",
    "    z = y ** 2 # then we do this\n",
    "    return z   # exit the function here\n",
    "\n",
    "\n",
    "print(foo(4))"
   ]
  },
  {
   "cell_type": "markdown",
   "metadata": {
    "slideshow": {
     "slide_type": "subslide"
    }
   },
   "source": [
    "## Multiple exit points"
   ]
  },
  {
   "cell_type": "code",
   "execution_count": 23,
   "metadata": {
    "collapsed": false
   },
   "outputs": [
    {
     "name": "stdout",
     "output_type": "stream",
     "text": [
      "16\n",
      "3.5\n"
     ]
    }
   ],
   "source": [
    "import random\n",
    "\n",
    "def spam(x):\n",
    "    \"\"\"Square if even, halve if odd.\"\"\"\n",
    "    \n",
    "    if x % 2 == 0:\n",
    "        return x ** 2  # we may exit here...\n",
    "    return x / 2       # ... or here.\n",
    "\n",
    "\n",
    "print(spam(4)) # 4 ** 2 = 16\n",
    "print(spam(7)) # 7 / 2  = 3.5"
   ]
  },
  {
   "cell_type": "markdown",
   "metadata": {
    "slideshow": {
     "slide_type": "subslide"
    }
   },
   "source": [
    "## Implicit `None`"
   ]
  },
  {
   "cell_type": "code",
   "execution_count": 24,
   "metadata": {
    "collapsed": false,
    "slideshow": {
     "slide_type": "-"
    }
   },
   "outputs": [
    {
     "name": "stdout",
     "output_type": "stream",
     "text": [
      "None\n"
     ]
    }
   ],
   "source": [
    "def foobar(x):\n",
    "    y = x + 1  # do nothing with 'y'\n",
    "    # implicit `return None`\n",
    "    \n",
    "    \n",
    "print(foobar(2))"
   ]
  },
  {
   "cell_type": "markdown",
   "metadata": {
    "slideshow": {
     "slide_type": "subslide"
    }
   },
   "source": [
    "Let's say that we want to work with even numbers."
   ]
  },
  {
   "cell_type": "code",
   "execution_count": 25,
   "metadata": {
    "collapsed": false
   },
   "outputs": [],
   "source": [
    "def get_even(stop):\n",
    "    \"\"\"Return all the even numbers <= stop.\"\"\"\n",
    "    \n",
    "    numbers = []\n",
    "    n = 0\n",
    "    while n <= stop:\n",
    "        numbers.append(n)\n",
    "        n += 2\n",
    "    return numbers"
   ]
  },
  {
   "cell_type": "markdown",
   "metadata": {},
   "source": [
    "... or, of course, simply:"
   ]
  },
  {
   "cell_type": "code",
   "execution_count": 26,
   "metadata": {
    "collapsed": false
   },
   "outputs": [
    {
     "name": "stdout",
     "output_type": "stream",
     "text": [
      "[0, 2, 4, 6, 8, 10]\n",
      "Sum: 30\n"
     ]
    }
   ],
   "source": [
    "def get_even(stop):\n",
    "    return list(range(0, stop + 1, 2))\n",
    "\n",
    "\n",
    "print(get_even(10)) # [2 ... 10]\n",
    "print(\"Sum:\", sum(get_even(10))) "
   ]
  },
  {
   "cell_type": "markdown",
   "metadata": {
    "slideshow": {
     "slide_type": "subslide"
    }
   },
   "source": [
    "## When problems arise\n",
    "\n",
    "- The problem is that we're building the list...\n",
    "- ... and returning all the elements **at once**.\n",
    "- Working with large intervals becomes impractical, to say the least."
   ]
  },
  {
   "cell_type": "code",
   "execution_count": 27,
   "metadata": {
    "collapsed": false
   },
   "outputs": [
    {
     "ename": "MemoryError",
     "evalue": "",
     "output_type": "error",
     "traceback": [
      "\u001b[1;31m---------------------------------------------------------------------------\u001b[0m",
      "\u001b[1;31mMemoryError\u001b[0m                               Traceback (most recent call last)",
      "\u001b[1;32m<ipython-input-193-10a5d3f9d9e7>\u001b[0m in \u001b[0;36m<module>\u001b[1;34m()\u001b[0m\n\u001b[1;32m----> 1\u001b[1;33m \u001b[0msum\u001b[0m\u001b[1;33m(\u001b[0m\u001b[0mget_even\u001b[0m\u001b[1;33m(\u001b[0m\u001b[0mint\u001b[0m\u001b[1;33m(\u001b[0m\u001b[1;36m1e18\u001b[0m\u001b[1;33m)\u001b[0m\u001b[1;33m)\u001b[0m\u001b[1;33m)\u001b[0m  \u001b[1;31m# not enough RAM modules\u001b[0m\u001b[1;33m\u001b[0m\u001b[0m\n\u001b[0m",
      "\u001b[1;32m<ipython-input-192-07e09cd425f4>\u001b[0m in \u001b[0;36mget_even\u001b[1;34m(stop)\u001b[0m\n\u001b[0;32m     12\u001b[0m \u001b[1;33m\u001b[0m\u001b[0m\n\u001b[0;32m     13\u001b[0m \u001b[1;32mdef\u001b[0m \u001b[0mget_even\u001b[0m\u001b[1;33m(\u001b[0m\u001b[0mstop\u001b[0m\u001b[1;33m)\u001b[0m\u001b[1;33m:\u001b[0m\u001b[1;33m\u001b[0m\u001b[0m\n\u001b[1;32m---> 14\u001b[1;33m     \u001b[1;32mreturn\u001b[0m \u001b[0mlist\u001b[0m\u001b[1;33m(\u001b[0m\u001b[0mrange\u001b[0m\u001b[1;33m(\u001b[0m\u001b[1;36m0\u001b[0m\u001b[1;33m,\u001b[0m \u001b[0mstop\u001b[0m \u001b[1;33m+\u001b[0m \u001b[1;36m1\u001b[0m\u001b[1;33m,\u001b[0m \u001b[1;36m2\u001b[0m\u001b[1;33m)\u001b[0m\u001b[1;33m)\u001b[0m\u001b[1;33m\u001b[0m\u001b[0m\n\u001b[0m\u001b[0;32m     15\u001b[0m \u001b[1;33m\u001b[0m\u001b[0m\n\u001b[0;32m     16\u001b[0m \u001b[0mprint\u001b[0m\u001b[1;33m(\u001b[0m\u001b[0mget_even\u001b[0m\u001b[1;33m(\u001b[0m\u001b[1;36m10\u001b[0m\u001b[1;33m)\u001b[0m\u001b[1;33m)\u001b[0m\u001b[1;33m\u001b[0m\u001b[0m\n",
      "\u001b[1;31mMemoryError\u001b[0m: "
     ]
    }
   ],
   "source": [
    "sum(get_even(int(1e18)))  # not enough RAM modules"
   ]
  },
  {
   "cell_type": "markdown",
   "metadata": {
    "slideshow": {
     "slide_type": "subslide"
    }
   },
   "source": [
    "## Generators to the rescue\n",
    "- Generators are functions that are able to return values **one by one**.\n",
    "- The state of the function is frozen until the next value is requested.\n",
    "- They use they `yield` keyword instead of `return`.\n",
    "- If there's $\\gt 1$ `yield` in our function, it becomes a `generator function`.\n",
    "- Generator functions return generator iterators (generators, for short)"
   ]
  },
  {
   "cell_type": "code",
   "execution_count": 28,
   "metadata": {
    "collapsed": false,
    "slideshow": {
     "slide_type": "subslide"
    }
   },
   "outputs": [
    {
     "name": "stdout",
     "output_type": "stream",
     "text": [
      "<generator object simple_generator at 0x7fdbe0916a20>\n",
      "1\n",
      "2\n",
      "3\n"
     ]
    },
    {
     "ename": "StopIteration",
     "evalue": "",
     "output_type": "error",
     "traceback": [
      "\u001b[1;31m---------------------------------------------------------------------------\u001b[0m",
      "\u001b[1;31mStopIteration\u001b[0m                             Traceback (most recent call last)",
      "\u001b[1;32m<ipython-input-194-8bef9ecefc48>\u001b[0m in \u001b[0;36m<module>\u001b[1;34m()\u001b[0m\n\u001b[0;32m      9\u001b[0m \u001b[0mprint\u001b[0m\u001b[1;33m(\u001b[0m\u001b[0mnext\u001b[0m\u001b[1;33m(\u001b[0m\u001b[0mg\u001b[0m\u001b[1;33m)\u001b[0m\u001b[1;33m)\u001b[0m \u001b[1;31m# returns 2\u001b[0m\u001b[1;33m\u001b[0m\u001b[0m\n\u001b[0;32m     10\u001b[0m \u001b[0mprint\u001b[0m\u001b[1;33m(\u001b[0m\u001b[0mnext\u001b[0m\u001b[1;33m(\u001b[0m\u001b[0mg\u001b[0m\u001b[1;33m)\u001b[0m\u001b[1;33m)\u001b[0m \u001b[1;31m# returns 3\u001b[0m\u001b[1;33m\u001b[0m\u001b[0m\n\u001b[1;32m---> 11\u001b[1;33m \u001b[0mprint\u001b[0m\u001b[1;33m(\u001b[0m\u001b[0mnext\u001b[0m\u001b[1;33m(\u001b[0m\u001b[0mg\u001b[0m\u001b[1;33m)\u001b[0m\u001b[1;33m)\u001b[0m \u001b[1;31m# raises StopIteration\u001b[0m\u001b[1;33m\u001b[0m\u001b[0m\n\u001b[0m",
      "\u001b[1;31mStopIteration\u001b[0m: "
     ]
    }
   ],
   "source": [
    "def simple_generator():\n",
    "    yield 1  # will return this the first time\n",
    "    yield 2  # this the second time\n",
    "    yield 3  # and this the third time\n",
    "\n",
    "    \n",
    "g = simple_generator()\n",
    "print(g)\n",
    "print(next(g)) # returns 1\n",
    "print(next(g)) # returns 2\n",
    "print(next(g)) # returns 3\n",
    "print(next(g)) # raises StopIteration"
   ]
  },
  {
   "cell_type": "markdown",
   "metadata": {
    "slideshow": {
     "slide_type": "subslide"
    }
   },
   "source": [
    "Let's say that we want a function that returns **all** natural numbers:"
   ]
  },
  {
   "cell_type": "code",
   "execution_count": 29,
   "metadata": {
    "collapsed": false
   },
   "outputs": [
    {
     "name": "stdout",
     "output_type": "stream",
     "text": [
      "<generator object count at 0x7fdbe0930828>\n",
      "1\n",
      "2\n",
      "3\n"
     ]
    }
   ],
   "source": [
    "def count():\n",
    "    n = 1\n",
    "    while True:\n",
    "        yield n\n",
    "        n += 1\n",
    "        \n",
    "        \n",
    "numbers = count()\n",
    "print(numbers) # again, it's a generator\n",
    "print(next(numbers)) # 1\n",
    "print(next(numbers)) # 2\n",
    "print(next(numbers)) # 3"
   ]
  },
  {
   "cell_type": "markdown",
   "metadata": {},
   "source": [
    "... and so on, up to infinity and beyond."
   ]
  },
  {
   "cell_type": "markdown",
   "metadata": {
    "slideshow": {
     "slide_type": "subslide"
    }
   },
   "source": [
    "This is not possible with a normal function — we can't return *all* the natural numbers."
   ]
  },
  {
   "cell_type": "code",
   "execution_count": 30,
   "metadata": {
    "collapsed": false,
    "slideshow": {
     "slide_type": "-"
    }
   },
   "outputs": [],
   "source": [
    "def count():\n",
    "    \"\"\"Try to return all natural numbers, and fail.\"\"\"\n",
    "    \n",
    "    result = []\n",
    "    n = 1\n",
    "    while True:\n",
    "        result.append(n)\n",
    "        n += 1"
   ]
  },
  {
   "cell_type": "markdown",
   "metadata": {},
   "source": [
    "Don't run this code."
   ]
  },
  {
   "cell_type": "markdown",
   "metadata": {
    "slideshow": {
     "slide_type": "skip"
    }
   },
   "source": [
    "## Extra points: generator expressions\n",
    "\n",
    "- Like comprehension lists, but with **lazy** evaluation.\n",
    "- They generate the elements one by one, as needed."
   ]
  },
  {
   "cell_type": "code",
   "execution_count": 31,
   "metadata": {
    "collapsed": false,
    "slideshow": {
     "slide_type": "skip"
    }
   },
   "outputs": [],
   "source": [
    "g = (x ** 2 for x in range(1, 1000000))"
   ]
  },
  {
   "cell_type": "code",
   "execution_count": 32,
   "metadata": {
    "collapsed": false,
    "slideshow": {
     "slide_type": "skip"
    }
   },
   "outputs": [
    {
     "name": "stdout",
     "output_type": "stream",
     "text": [
      "<generator object <genexpr> at 0x7fdb9e428ab0>\n",
      "1\n",
      "4\n",
      "9\n"
     ]
    }
   ],
   "source": [
    "print(g) # it's a generator indeed\n",
    "print(next(g)) # computes the square of 1\n",
    "print(next(g)) # computes the square of 2\n",
    "print(next(g)) # computes the square of 3"
   ]
  },
  {
   "cell_type": "markdown",
   "metadata": {
    "slideshow": {
     "slide_type": "skip"
    }
   },
   "source": [
    "## Even more extra points:\n",
    "\n",
    "- `range()` is **not** a generator\n",
    "- In the old world of Python 2 it returned a list.\n",
    "- But now, in Python3, generates elements one by one."
   ]
  },
  {
   "cell_type": "code",
   "execution_count": 33,
   "metadata": {
    "collapsed": true,
    "slideshow": {
     "slide_type": "skip"
    }
   },
   "outputs": [],
   "source": [
    "numbers = range(1, 100)"
   ]
  },
  {
   "cell_type": "code",
   "execution_count": 34,
   "metadata": {
    "collapsed": false,
    "slideshow": {
     "slide_type": "skip"
    }
   },
   "outputs": [
    {
     "name": "stdout",
     "output_type": "stream",
     "text": [
      "range(1, 100)\n",
      "<class 'range'>\n"
     ]
    }
   ],
   "source": [
    "print(numbers) # range(1, 100) \n",
    "print(type(numbers)) # it's a 'range' object"
   ]
  },
  {
   "cell_type": "code",
   "execution_count": 35,
   "metadata": {
    "collapsed": false,
    "slideshow": {
     "slide_type": "skip"
    }
   },
   "outputs": [
    {
     "name": "stdout",
     "output_type": "stream",
     "text": [
      "1\n",
      "2\n"
     ]
    }
   ],
   "source": [
    "it = iter(numbers)\n",
    "print(next(it)) # returns the first element\n",
    "print(next(it)) # returns the second element"
   ]
  },
  {
   "cell_type": "markdown",
   "metadata": {
    "slideshow": {
     "slide_type": "skip"
    }
   },
   "source": [
    "## So...\n",
    "\n",
    "- `range` is a `sequence object` that produces numbers on demand.\n",
    "- `sequences` in Python are object that support random access.\n",
    "- It can also contain if the number is part of the range in $\\mathcal{O}(1)$...\n",
    "- ... instead of the $\\mathcal{O}(n)$ that it would take to scan through all of them."
   ]
  },
  {
   "cell_type": "code",
   "execution_count": 36,
   "metadata": {
    "collapsed": true,
    "slideshow": {
     "slide_type": "skip"
    }
   },
   "outputs": [],
   "source": [
    "odd = range(1, int(1e50), 2)"
   ]
  },
  {
   "cell_type": "code",
   "execution_count": 37,
   "metadata": {
    "collapsed": false,
    "slideshow": {
     "slide_type": "skip"
    }
   },
   "outputs": [
    {
     "name": "stdout",
     "output_type": "stream",
     "text": [
      "range(1, 100000000000000007629769841091887003294964970946560, 2)\n"
     ]
    }
   ],
   "source": [
    "print(odd)  # a really large range indeed"
   ]
  },
  {
   "cell_type": "raw",
   "metadata": {
    "collapsed": false,
    "slideshow": {
     "slide_type": "skip"
    }
   },
   "source": [
    "print(odd[9]) # tell me what's the 10th odd number"
   ]
  },
  {
   "cell_type": "code",
   "execution_count": 38,
   "metadata": {
    "collapsed": false,
    "slideshow": {
     "slide_type": "skip"
    }
   },
   "outputs": [
    {
     "name": "stdout",
     "output_type": "stream",
     "text": [
      "False\n"
     ]
    }
   ],
   "source": [
    "print(int(1e48) in odd) # completes before the heat death of the Universe"
   ]
  },
  {
   "cell_type": "markdown",
   "metadata": {
    "slideshow": {
     "slide_type": "subslide"
    }
   },
   "source": [
    "## Summary\n",
    "\n",
    "- Iterators are objects on which we can call `next()`\n",
    "- Generators generate elements one by one.\n",
    "- Every generator is an iterator, but not vice versa.\n",
    "- We could achieve the same with a custom iterator — but this is nicer.\n",
    "\n",
    "Recommended reading: [this answer by Alex Martelli on Stack Owerflow](http://stackoverflow.com/a/2776865)."
   ]
  },
  {
   "cell_type": "markdown",
   "metadata": {
    "slideshow": {
     "slide_type": "subslide"
    }
   },
   "source": [
    "## Extra: Measuring a generator\n",
    "\n",
    "How do we calculate the number of elements of a generator?"
   ]
  },
  {
   "cell_type": "code",
   "execution_count": 39,
   "metadata": {
    "collapsed": false
   },
   "outputs": [],
   "source": [
    "g = (x ** 2 for x in range(1, 101))"
   ]
  },
  {
   "cell_type": "markdown",
   "metadata": {},
   "source": [
    "This doesn't work."
   ]
  },
  {
   "cell_type": "code",
   "execution_count": 40,
   "metadata": {
    "collapsed": false
   },
   "outputs": [
    {
     "ename": "TypeError",
     "evalue": "object of type 'generator' has no len()",
     "output_type": "error",
     "traceback": [
      "\u001b[1;31m---------------------------------------------------------------------------\u001b[0m",
      "\u001b[1;31mTypeError\u001b[0m                                 Traceback (most recent call last)",
      "\u001b[1;32m<ipython-input-424-e61960e7cc40>\u001b[0m in \u001b[0;36m<module>\u001b[1;34m()\u001b[0m\n\u001b[1;32m----> 1\u001b[1;33m \u001b[0mlen\u001b[0m\u001b[1;33m(\u001b[0m\u001b[0mg\u001b[0m\u001b[1;33m)\u001b[0m \u001b[1;31m# TypeError\u001b[0m\u001b[1;33m\u001b[0m\u001b[0m\n\u001b[0m",
      "\u001b[1;31mTypeError\u001b[0m: object of type 'generator' has no len()"
     ]
    }
   ],
   "source": [
    "len(g) # TypeError"
   ]
  },
  {
   "cell_type": "markdown",
   "metadata": {
    "slideshow": {
     "slide_type": "subslide"
    }
   },
   "source": [
    "### Idea: cast to list"
   ]
  },
  {
   "cell_type": "code",
   "execution_count": 41,
   "metadata": {
    "collapsed": false,
    "slideshow": {
     "slide_type": "-"
    }
   },
   "outputs": [
    {
     "data": {
      "text/plain": [
       "100"
      ]
     },
     "execution_count": 42,
     "metadata": {},
     "output_type": "execute_result"
    }
   ],
   "source": [
    "g = (x ** 2 for x in range(1, 101))\n",
    "len(list(g))"
   ]
  },
  {
   "cell_type": "markdown",
   "metadata": {},
   "source": [
    "But we need a temporary list."
   ]
  },
  {
   "cell_type": "markdown",
   "metadata": {
    "slideshow": {
     "slide_type": "subslide"
    }
   },
   "source": [
    "### Better: use `sum()`"
   ]
  },
  {
   "cell_type": "code",
   "execution_count": 43,
   "metadata": {
    "collapsed": false
   },
   "outputs": [
    {
     "data": {
      "text/plain": [
       "100"
      ]
     },
     "execution_count": 44,
     "metadata": {},
     "output_type": "execute_result"
    }
   ],
   "source": [
    "g = (x ** 2 for x in range(1, 101))\n",
    "sum(1 for x in g)  # use another generator"
   ]
  },
  {
   "cell_type": "markdown",
   "metadata": {},
   "source": [
    "Or more idiomatic, as we don't care about the vale of the numbers:"
   ]
  },
  {
   "cell_type": "code",
   "execution_count": 45,
   "metadata": {
    "collapsed": false,
    "scrolled": true
   },
   "outputs": [
    {
     "data": {
      "text/plain": [
       "100"
      ]
     },
     "execution_count": 46,
     "metadata": {},
     "output_type": "execute_result"
    }
   ],
   "source": [
    "g = (x ** 2 for x in range(1, 101))\n",
    "sum(1 for _ in g)"
   ]
  },
  {
   "cell_type": "markdown",
   "metadata": {},
   "source": [
    "Use `_` as a throwaway variable."
   ]
  },
  {
   "cell_type": "markdown",
   "metadata": {
    "slideshow": {
     "slide_type": "slide"
    }
   },
   "source": [
    "# Finally, time for some Kung Fu\n",
    "\n",
    "<img src=\"./images/Deflected_Kick.jpg\" style=\"height: 400px; width:auto\"/>\n",
    "\n",
    "[Photo](https://www.flickr.com/photos/kurt-b/9453209945/) by Kurt Bauschardt / [CC BY-SA 2.0](https://creativecommons.org/licenses/by-sa/2.0/)"
   ]
  },
  {
   "cell_type": "markdown",
   "metadata": {
    "slideshow": {
     "slide_type": "subslide"
    }
   },
   "source": [
    "# Prime numbers\n",
    "\n",
    "How do we determine whether a number is prime?"
   ]
  },
  {
   "cell_type": "code",
   "execution_count": 47,
   "metadata": {
    "collapsed": false
   },
   "outputs": [
    {
     "name": "stdout",
     "output_type": "stream",
     "text": [
      "True\n",
      "True\n",
      "False\n"
     ]
    }
   ],
   "source": [
    "def is_prime(n):\n",
    "    \"\"\"Checks whether a number is prime.\"\"\"\n",
    "\n",
    "    divisor = 2\n",
    "    while divisor < n:\n",
    "        if n % divisor == 0:\n",
    "            return False\n",
    "        divisor += 1\n",
    "    return True\n",
    "\n",
    "\n",
    "print(is_prime(2)) # True\n",
    "print(is_prime(3)) # True\n",
    "print(is_prime(8)) # False"
   ]
  },
  {
   "cell_type": "markdown",
   "metadata": {
    "slideshow": {
     "slide_type": "subslide"
    }
   },
   "source": [
    "But we already now there's a much better way with `range()`!"
   ]
  },
  {
   "cell_type": "code",
   "execution_count": 48,
   "metadata": {
    "collapsed": false
   },
   "outputs": [
    {
     "name": "stdout",
     "output_type": "stream",
     "text": [
      "True\n",
      "False\n",
      "True\n"
     ]
    }
   ],
   "source": [
    "def is_prime(n):\n",
    "    \"\"\"Checks whether a number is prime.\"\"\"\n",
    "\n",
    "    for divisor in range(2, n):\n",
    "        if n % divisor == 0:\n",
    "            return False\n",
    "        divisor += 1\n",
    "    return True\n",
    "\n",
    "\n",
    "print(is_prime(5)) # True\n",
    "print(is_prime(6)) # False\n",
    "print(is_prime(7)) # True"
   ]
  },
  {
   "cell_type": "markdown",
   "metadata": {
    "slideshow": {
     "slide_type": "subslide"
    }
   },
   "source": [
    "## Mandatory optimization: check divisors only until $\\sqrt{n}$\n",
    "- Because a non-prime number $n$ will have a divisor $\\le \\sqrt{n}$\n",
    "- Brings us down from $\\mathcal{O}(n)$ to $\\mathcal{O}(\\sqrt{n})$. Not bad.\n",
    "- Recommended reading, with proof for humans: [this answer on Stack Overflow](http://stackoverflow.com/a/5811176)"
   ]
  },
  {
   "cell_type": "code",
   "execution_count": 49,
   "metadata": {
    "collapsed": false
   },
   "outputs": [
    {
     "name": "stdout",
     "output_type": "stream",
     "text": [
      "False\n",
      "True\n"
     ]
    }
   ],
   "source": [
    "import math\n",
    "\n",
    "def is_prime(n):\n",
    "    \"\"\"Checks whether a number is prime.\"\"\"\n",
    "\n",
    "    stop = int(math.sqrt(n)) + 1\n",
    "    for divisor in range(2, stop):\n",
    "        if n % divisor == 0:\n",
    "            return False\n",
    "        divisor += 1\n",
    "    return True\n",
    "\n",
    "\n",
    "print(is_prime(10))\n",
    "print(is_prime(13))"
   ]
  },
  {
   "cell_type": "markdown",
   "metadata": {
    "slideshow": {
     "slide_type": "slide"
    }
   },
   "source": [
    "# Integer factorization\n",
    "- Now we want to decompose a number into its prime factors.\n",
    "- For example, $8 = 2 \\times 2 \\times 2 = 2^3$, and $30 = 2 \\times 3 \\times 5$\n",
    "- Simplest method: [trial division](https://en.wikipedia.org/wiki/Trial_division), one by one\n",
    "- For this we'll need to loop over prime numbers"
   ]
  },
  {
   "cell_type": "markdown",
   "metadata": {
    "slideshow": {
     "slide_type": "subslide"
    }
   },
   "source": [
    "# Getting the first n prime numbers\n",
    "## Attempt 1"
   ]
  },
  {
   "cell_type": "code",
   "execution_count": 50,
   "metadata": {
    "collapsed": false,
    "slideshow": {
     "slide_type": "-"
    }
   },
   "outputs": [
    {
     "name": "stdout",
     "output_type": "stream",
     "text": [
      "[2, 3, 5, 7, 11]\n"
     ]
    }
   ],
   "source": [
    "def get_primes(how_many):\n",
    "    \"\"\"Return the first 'how_many' prime numbers.\"\"\"\n",
    "    \n",
    "    primes = []\n",
    "    n = 2\n",
    "    while len(primes) < how_many:\n",
    "        if is_prime(n):\n",
    "            primes.append(n)\n",
    "        n += 1\n",
    "    return primes\n",
    "\n",
    "\n",
    "print(get_primes(5))"
   ]
  },
  {
   "cell_type": "markdown",
   "metadata": {
    "slideshow": {
     "slide_type": "-"
    }
   },
   "source": [
    "**Problem:** we need to generate all the prime numbers at once.\n",
    "\n",
    "Let's use a generator instead!"
   ]
  },
  {
   "cell_type": "markdown",
   "metadata": {
    "slideshow": {
     "slide_type": "subslide"
    }
   },
   "source": [
    "## Attempt 2"
   ]
  },
  {
   "cell_type": "code",
   "execution_count": 51,
   "metadata": {
    "collapsed": false
   },
   "outputs": [
    {
     "name": "stdout",
     "output_type": "stream",
     "text": [
      "<generator object get_primes at 0x7fdbe0941120>\n",
      "[2, 3, 5, 7, 11]\n"
     ]
    }
   ],
   "source": [
    "def get_primes(how_many):\n",
    "    \"\"\"Return the first 'how_many' prime numbers.\"\"\"\n",
    "    \n",
    "    counter = 0\n",
    "    n = 2\n",
    "    while counter < how_many:\n",
    "        if is_prime(n):\n",
    "            yield n\n",
    "            counter += 1\n",
    "        n += 1"
   ]
  },
  {
   "cell_type": "markdown",
   "metadata": {},
   "source": [
    "Twice as many places where we can commit a mistake, as we're keeping track of:\n",
    "- How many prime numbers we have generated so far.\n",
    "- What's the next number we need to evaluate.\n",
    "\n",
    "`range()` is not an option because we don't know what the stop is. But we can use..."
   ]
  },
  {
   "cell_type": "markdown",
   "metadata": {
    "slideshow": {
     "slide_type": "subslide"
    }
   },
   "source": [
    "## itertools.count()\n",
    "\n",
    "- Makes an iterator that returns evenly spaced values starting with $n$.\n",
    "- By default, we start counting from zero.\n",
    "- The default step is one."
   ]
  },
  {
   "cell_type": "code",
   "execution_count": 52,
   "metadata": {
    "collapsed": false
   },
   "outputs": [
    {
     "name": "stdout",
     "output_type": "stream",
     "text": [
      "count(0)\n",
      "0\n",
      "1\n",
      "2\n"
     ]
    }
   ],
   "source": [
    "import itertools\n",
    "numbers = itertools.count()\n",
    "print(numbers) # tells us what the next element will be\n",
    "print(next(numbers)) # 0\n",
    "print(next(numbers)) # 1\n",
    "print(next(numbers)) # 2"
   ]
  },
  {
   "cell_type": "code",
   "execution_count": 53,
   "metadata": {
    "collapsed": false
   },
   "outputs": [
    {
     "name": "stdout",
     "output_type": "stream",
     "text": [
      "1\n",
      "3\n"
     ]
    }
   ],
   "source": [
    "odd = itertools.count(1, step=2)\n",
    "print(next(odd)) # first odd number\n",
    "print(next(odd)) # second odd number"
   ]
  },
  {
   "cell_type": "markdown",
   "metadata": {
    "slideshow": {
     "slide_type": "subslide"
    }
   },
   "source": [
    "## Attempt 3\n",
    "We can thus simplify our code a little bit:"
   ]
  },
  {
   "cell_type": "code",
   "execution_count": 54,
   "metadata": {
    "collapsed": false
   },
   "outputs": [],
   "source": [
    "def get_primes(how_many):\n",
    "    \"\"\"Return the first 'how_many' prime numbers.\"\"\"\n",
    "    \n",
    "    counter = 0\n",
    "    for n in itertools.count(2):\n",
    "        if is_prime(n):\n",
    "            yield n\n",
    "            counter += 1\n",
    "            if counter == how_many:\n",
    "                break"
   ]
  },
  {
   "cell_type": "markdown",
   "metadata": {},
   "source": [
    "However, this is still awkward, as our function does two things:\n",
    "\n",
    "- Generates prime numbers\n",
    "- Keeps track if how many we have generated so far. \n",
    "\n",
    "Let's split it in two different steps."
   ]
  },
  {
   "cell_type": "markdown",
   "metadata": {
    "slideshow": {
     "slide_type": "subslide"
    }
   },
   "source": [
    "## Attempt 4"
   ]
  },
  {
   "cell_type": "code",
   "execution_count": 55,
   "metadata": {
    "collapsed": false
   },
   "outputs": [],
   "source": [
    "def primes():\n",
    "    \"\"\"An endless generator of prime numbers.\"\"\"\n",
    "    \n",
    "    for n in itertools.count(2):\n",
    "        if is_prime(n):\n",
    "            yield n\n",
    "\n",
    "def get_primes(how_many):\n",
    "    \"\"\"Return the first 'how_many' prime numbers.\"\"\"\n",
    "    \n",
    "    counter = 0\n",
    "    all_primes = primes()\n",
    "    while counter < how_many:\n",
    "        yield next(all_primes)\n",
    "        counter += 1"
   ]
  },
  {
   "cell_type": "markdown",
   "metadata": {},
   "source": [
    "Good! But this can be simplified even further!"
   ]
  },
  {
   "cell_type": "markdown",
   "metadata": {
    "slideshow": {
     "slide_type": "subslide"
    }
   },
   "source": [
    "To get all the prime numbers we can use a generator expression"
   ]
  },
  {
   "cell_type": "code",
   "execution_count": 56,
   "metadata": {
    "collapsed": true
   },
   "outputs": [],
   "source": [
    "primes = (n for n in itertools.count(2) if is_prime(n))"
   ]
  },
  {
   "cell_type": "markdown",
   "metadata": {},
   "source": [
    "... or `filter()`:"
   ]
  },
  {
   "cell_type": "code",
   "execution_count": 57,
   "metadata": {
    "collapsed": false
   },
   "outputs": [],
   "source": [
    "primes = filter(is_prime, itertools.count(2))"
   ]
  },
  {
   "cell_type": "markdown",
   "metadata": {},
   "source": [
    "Notes:\n",
    "- generator expressions are usually shorter and more readable\n",
    "- But in this case `filter()` is arguably better — we're taking the value as it is.\n",
    "- `filter()` was `itertools.ifilter()` before...\n",
    "- ... but nobody uses Python 2 anymore."
   ]
  },
  {
   "cell_type": "markdown",
   "metadata": {
    "slideshow": {
     "slide_type": "subslide"
    }
   },
   "source": [
    "## Attempt 5"
   ]
  },
  {
   "cell_type": "code",
   "execution_count": 58,
   "metadata": {
    "collapsed": true,
    "slideshow": {
     "slide_type": "-"
    }
   },
   "outputs": [],
   "source": [
    "def get_primes(how_many):\n",
    "    \"\"\"Return the first 'how_many' prime numbers.\"\"\"\n",
    "    \n",
    "    counter = 0\n",
    "    primes = filter(is_prime, itertools.count(2))\n",
    "    while counter < how_many:\n",
    "        yield next(all_primes)\n",
    "        counter += 1"
   ]
  },
  {
   "cell_type": "markdown",
   "metadata": {
    "slideshow": {
     "slide_type": "subslide"
    }
   },
   "source": [
    "## Take how many?\n",
    "\n",
    "- This thing that we're doing in `get_primes()` is a common pattern.\n",
    "- *\"Give me the first n elements of this iterable\"*\n",
    "- We cannot use slice notation:"
   ]
  },
  {
   "cell_type": "code",
   "execution_count": 59,
   "metadata": {
    "collapsed": false
   },
   "outputs": [
    {
     "name": "stdout",
     "output_type": "stream",
     "text": [
      "[1, 2, 3]\n"
     ]
    },
    {
     "ename": "TypeError",
     "evalue": "'generator' object is not subscriptable",
     "output_type": "error",
     "traceback": [
      "\u001b[1;31m---------------------------------------------------------------------------\u001b[0m",
      "\u001b[1;31mTypeError\u001b[0m                                 Traceback (most recent call last)",
      "\u001b[1;32m<ipython-input-219-91eb4fe4ed49>\u001b[0m in \u001b[0;36m<module>\u001b[1;34m()\u001b[0m\n\u001b[0;32m      1\u001b[0m \u001b[0mnumbers\u001b[0m \u001b[1;33m=\u001b[0m \u001b[1;33m[\u001b[0m\u001b[1;36m1\u001b[0m\u001b[1;33m,\u001b[0m \u001b[1;36m2\u001b[0m\u001b[1;33m,\u001b[0m \u001b[1;36m3\u001b[0m\u001b[1;33m,\u001b[0m \u001b[1;36m4\u001b[0m\u001b[1;33m,\u001b[0m \u001b[1;36m5\u001b[0m\u001b[1;33m]\u001b[0m\u001b[1;33m\u001b[0m\u001b[0m\n\u001b[0;32m      2\u001b[0m \u001b[0mprint\u001b[0m\u001b[1;33m(\u001b[0m\u001b[0mnumbers\u001b[0m\u001b[1;33m[\u001b[0m\u001b[1;33m:\u001b[0m\u001b[1;36m3\u001b[0m\u001b[1;33m]\u001b[0m\u001b[1;33m)\u001b[0m \u001b[1;31m# the first three\u001b[0m\u001b[1;33m\u001b[0m\u001b[0m\n\u001b[1;32m----> 3\u001b[1;33m \u001b[0mprint\u001b[0m\u001b[1;33m(\u001b[0m\u001b[0mget_primes\u001b[0m\u001b[1;33m(\u001b[0m\u001b[1;36m10\u001b[0m\u001b[1;33m)\u001b[0m\u001b[1;33m[\u001b[0m\u001b[1;33m:\u001b[0m\u001b[1;36m5\u001b[0m\u001b[1;33m]\u001b[0m\u001b[1;33m)\u001b[0m \u001b[1;31m# slicing doesn't work with generators\u001b[0m\u001b[1;33m\u001b[0m\u001b[0m\n\u001b[0m",
      "\u001b[1;31mTypeError\u001b[0m: 'generator' object is not subscriptable"
     ]
    }
   ],
   "source": [
    "numbers = [1, 2, 3, 4, 5]\n",
    "print(numbers[:3]) # the first three\n",
    "print(get_primes(10)[:5]) # slicing doesn't work with generators"
   ]
  },
  {
   "cell_type": "markdown",
   "metadata": {
    "slideshow": {
     "slide_type": "subslide"
    }
   },
   "source": [
    "## itertools.islice()\n",
    "\n",
    "- Like slice notation, but works with all things iterable.\n",
    "- Lazy evaluation, of course, asking for elements once at a time."
   ]
  },
  {
   "cell_type": "code",
   "execution_count": 60,
   "metadata": {
    "collapsed": false
   },
   "outputs": [
    {
     "name": "stdout",
     "output_type": "stream",
     "text": [
      "0\n",
      "1\n",
      "2\n",
      "3\n",
      "4\n"
     ]
    }
   ],
   "source": [
    "for n in itertools.islice(itertools.count(), 5):\n",
    "    print(n)"
   ]
  },
  {
   "cell_type": "code",
   "execution_count": 61,
   "metadata": {
    "collapsed": false,
    "slideshow": {
     "slide_type": "subslide"
    }
   },
   "outputs": [
    {
     "name": "stdout",
     "output_type": "stream",
     "text": [
      "['a', 'b', 'c']\n"
     ]
    }
   ],
   "source": [
    "word = \"abcde\"\n",
    "print(list(itertools.islice(word, 3))) # the first three letters"
   ]
  },
  {
   "cell_type": "code",
   "execution_count": 62,
   "metadata": {
    "collapsed": false
   },
   "outputs": [
    {
     "name": "stdout",
     "output_type": "stream",
     "text": [
      "[121, 144, 169, 196, 225]\n"
     ]
    }
   ],
   "source": [
    "# If start != 0, skip elements until it's reached\n",
    "squares = (x ** 2 for x in itertools.count(1))\n",
    "print(list(itertools.islice(squares, 10, 15))) # start=10, stop=15"
   ]
  },
  {
   "cell_type": "code",
   "execution_count": 63,
   "metadata": {
    "collapsed": false,
    "slideshow": {
     "slide_type": "-"
    }
   },
   "outputs": [
    {
     "name": "stdout",
     "output_type": "stream",
     "text": [
      "[0, 2, 4, 6, 8, 10, 12, 14, 16, 18]\n"
     ]
    }
   ],
   "source": [
    "# We can use a step other than one.\n",
    "numbers = range(100000)\n",
    "print(list(itertools.islice(numbers, 0, 20, 2))) # step=2"
   ]
  },
  {
   "cell_type": "markdown",
   "metadata": {
    "slideshow": {
     "slide_type": "subslide"
    }
   },
   "source": [
    "So if we want the first $n$ prime numbers:"
   ]
  },
  {
   "cell_type": "code",
   "execution_count": 64,
   "metadata": {
    "collapsed": false
   },
   "outputs": [
    {
     "name": "stdout",
     "output_type": "stream",
     "text": [
      "2\n",
      "3\n",
      "5\n",
      "7\n",
      "11\n",
      "13\n",
      "17\n",
      "19\n",
      "23\n",
      "29\n"
     ]
    }
   ],
   "source": [
    "primes = filter(is_prime, itertools.count(2))\n",
    "for n in itertools.islice(primes, 10):\n",
    "    print(n)"
   ]
  },
  {
   "cell_type": "markdown",
   "metadata": {
    "slideshow": {
     "slide_type": "subslide"
    }
   },
   "source": [
    "## Attempt 6\n",
    "\n",
    "Let's rewrite our function:"
   ]
  },
  {
   "cell_type": "code",
   "execution_count": 65,
   "metadata": {
    "collapsed": false
   },
   "outputs": [
    {
     "name": "stdout",
     "output_type": "stream",
     "text": [
      "2\n",
      "3\n",
      "5\n",
      "7\n",
      "11\n"
     ]
    }
   ],
   "source": [
    "def get_primes(how_many):\n",
    "    \"\"\"Return the first 'how_many' prime numbers.\"\"\"\n",
    "\n",
    "    primes = filter(is_prime, itertools.count(2))\n",
    "    for n in itertools.islice(primes, how_many):\n",
    "        yield n\n",
    "        \n",
    "        \n",
    "for n in get_primes(5):\n",
    "    print(n)"
   ]
  },
  {
   "cell_type": "markdown",
   "metadata": {},
   "source": [
    "We're just looping over the elements of a iterator and in turn `yield`ing them. \n",
    "\n",
    "This is what `yield from` was invented for!"
   ]
  },
  {
   "cell_type": "markdown",
   "metadata": {
    "slideshow": {
     "slide_type": "subslide"
    }
   },
   "source": [
    "## yield from\n",
    "\n",
    "- Allows a generator to delegate part of its operations to another generator.\n",
    "- That is, each `next()` which ask the sub-generator for another value.\n",
    "- Usually we delegate to subgenerators, but it works with anything *iterable*.\n",
    "- `yield from iterable` $\\approx$ `for item in iterable: yield item`\n",
    "- It is also a transparent two-way channel from the caller to the sub-generator."
   ]
  },
  {
   "cell_type": "code",
   "execution_count": 66,
   "metadata": {
    "collapsed": false
   },
   "outputs": [
    {
     "name": "stdout",
     "output_type": "stream",
     "text": [
      "[1, 2, 3]\n"
     ]
    }
   ],
   "source": [
    "def foo():\n",
    "    yield 1\n",
    "    yield 2\n",
    "    yield 3\n",
    "    \n",
    "def spam():\n",
    "    yield from foo() # for x in foo(): yield x\n",
    "\n",
    "\n",
    "print(list(spam()))"
   ]
  },
  {
   "cell_type": "code",
   "execution_count": 67,
   "metadata": {
    "collapsed": false,
    "slideshow": {
     "slide_type": "subslide"
    }
   },
   "outputs": [
    {
     "name": "stdout",
     "output_type": "stream",
     "text": [
      "['a', 'e', 'i', 'o', 'u']\n"
     ]
    }
   ],
   "source": [
    "def vowels():\n",
    "    # Works with anything iterable\n",
    "    yield from \"aeiou\"\n",
    "\n",
    "    \n",
    "print(list(vowels()))"
   ]
  },
  {
   "cell_type": "markdown",
   "metadata": {},
   "source": [
    "Recommended reading:\n",
    "[A Curious Course on Coroutines and Concurrency](http://dabeaz.com/coroutines/)"
   ]
  },
  {
   "cell_type": "markdown",
   "metadata": {
    "slideshow": {
     "slide_type": "subslide"
    }
   },
   "source": [
    "## Attempt 7\n",
    "So we can rewrite our function as:"
   ]
  },
  {
   "cell_type": "code",
   "execution_count": 68,
   "metadata": {
    "collapsed": false
   },
   "outputs": [
    {
     "name": "stdout",
     "output_type": "stream",
     "text": [
      "2\n",
      "3\n",
      "5\n",
      "7\n",
      "11\n"
     ]
    }
   ],
   "source": [
    "def get_primes(how_many):\n",
    "    \"\"\"Return the first 'how_many' prime numbers.\"\"\"\n",
    "\n",
    "    primes = filter(is_prime, itertools.count(2))\n",
    "    yield from itertools.islice(primes, how_many)\n",
    "\n",
    "\n",
    "for n in get_primes(5):\n",
    "    print(n)"
   ]
  },
  {
   "cell_type": "markdown",
   "metadata": {
    "slideshow": {
     "slide_type": "skip"
    }
   },
   "source": [
    "Yet we can make this even shorter.\n",
    "\n",
    "- We're just defining a generator that delegates all the work to another generator.\n",
    "- The first argument to `islice()` is always the same: `primes`.\n",
    "- The only thing that changes is the second one, `how_many`. \n",
    "\n",
    "This is what `functools.partial()` was invented for!"
   ]
  },
  {
   "cell_type": "markdown",
   "metadata": {
    "slideshow": {
     "slide_type": "skip"
    }
   },
   "source": [
    "## functools.partial()\n",
    "\n",
    "- Used for partial function application. That's formal language for...\n",
    "- ... *\"freezing some portion of a function's arguments\"*.\n",
    "- It also supports freezing keyword arguments.\n",
    "- Allows us to simplifying a function signature.\n",
    "- You don't know you need it in your life until you come across it."
   ]
  },
  {
   "cell_type": "code",
   "execution_count": 69,
   "metadata": {
    "collapsed": false,
    "slideshow": {
     "slide_type": "skip"
    }
   },
   "outputs": [
    {
     "name": "stdout",
     "output_type": "stream",
     "text": [
      "functools.partial(<built-in function pow>, 2)\n"
     ]
    }
   ],
   "source": [
    "import functools\n",
    "\n",
    "power_two = functools.partial(math.pow, 2) # freeze 'math.pow(2, ...'\n",
    "print(power_two)"
   ]
  },
  {
   "cell_type": "code",
   "execution_count": 70,
   "metadata": {
    "collapsed": false,
    "slideshow": {
     "slide_type": "skip"
    }
   },
   "outputs": [
    {
     "name": "stdout",
     "output_type": "stream",
     "text": [
      "8.0\n",
      "32.0\n",
      "512.0\n"
     ]
    }
   ],
   "source": [
    "print(power_two(3)) # math.pow(2, 3)\n",
    "print(power_two(5)) # math.pow(2, 5)\n",
    "print(power_two(9)) # math.pow(2, 9)"
   ]
  },
  {
   "cell_type": "markdown",
   "metadata": {
    "slideshow": {
     "slide_type": "skip"
    }
   },
   "source": [
    "Used in real life to create handy shortcuts for a function we'll **call repeatedly**, and where some arguments are always the same:"
   ]
  },
  {
   "cell_type": "code",
   "execution_count": 71,
   "metadata": {
    "collapsed": false,
    "slideshow": {
     "slide_type": "skip"
    }
   },
   "outputs": [
    {
     "name": "stdout",
     "output_type": "stream",
     "text": [
      "/home/vterron/src/file1.py\n",
      "/home/vterron/src/file2.py\n",
      "/home/vterron/src/file3.py\n"
     ]
    }
   ],
   "source": [
    "import os.path\n",
    "\n",
    "src_dir = \"/home/vterron/src/\"\n",
    "print(os.path.join(src_dir, \"file1.py\"))\n",
    "print(os.path.join(src_dir, \"file2.py\"))\n",
    "print(os.path.join(src_dir, \"file3.py\"))\n",
    "# This is getting a little tedious..."
   ]
  },
  {
   "cell_type": "markdown",
   "metadata": {
    "slideshow": {
     "slide_type": "skip"
    }
   },
   "source": [
    "We can do instead:"
   ]
  },
  {
   "cell_type": "code",
   "execution_count": 72,
   "metadata": {
    "collapsed": false,
    "slideshow": {
     "slide_type": "skip"
    }
   },
   "outputs": [
    {
     "name": "stdout",
     "output_type": "stream",
     "text": [
      "/home/vterron/src/file1.py\n",
      "/home/vterron/src/file2.py\n",
      "/home/vterron/src/file3.py\n"
     ]
    }
   ],
   "source": [
    "get_src = functools.partial(os.path.join, \"/home/vterron/src/\")\n",
    "print(get_src(\"file1.py\")) # os.path.join(\"/home/vterron/src/\", \"file1.py\")\n",
    "print(get_src(\"file2.py\"))\n",
    "print(get_src(\"file3.py\"))"
   ]
  },
  {
   "cell_type": "markdown",
   "metadata": {
    "slideshow": {
     "slide_type": "skip"
    }
   },
   "source": [
    "... or as a shorcut to define a function:"
   ]
  },
  {
   "cell_type": "code",
   "execution_count": 73,
   "metadata": {
    "collapsed": false,
    "slideshow": {
     "slide_type": "skip"
    }
   },
   "outputs": [
    {
     "data": {
      "text/plain": [
       "[44, 20, 18, 48, 38, 3]"
      ]
     },
     "execution_count": 74,
     "metadata": {},
     "output_type": "execute_result"
    }
   ],
   "source": [
    "import random\n",
    "\n",
    "def bonoloto():\n",
    "    \"\"\"Get a random ticket to play BonoLoto.\"\"\"\n",
    "    return random.sample(range(1, 50), 6)\n",
    "\n",
    "\n",
    "bonoloto()"
   ]
  },
  {
   "cell_type": "code",
   "execution_count": 75,
   "metadata": {
    "collapsed": false,
    "slideshow": {
     "slide_type": "skip"
    }
   },
   "outputs": [
    {
     "data": {
      "text/plain": [
       "[13, 7, 33, 45, 40, 41]"
      ]
     },
     "execution_count": 76,
     "metadata": {},
     "output_type": "execute_result"
    }
   ],
   "source": [
    "import functools\n",
    "import random\n",
    "\n",
    "bonoloto = functools.partial(random.sample, range(1, 50), 6)\n",
    "bonoloto()"
   ]
  },
  {
   "cell_type": "markdown",
   "metadata": {
    "slideshow": {
     "slide_type": "skip"
    }
   },
   "source": [
    "## Attempt 8\n",
    "So going back to our function..."
   ]
  },
  {
   "cell_type": "code",
   "execution_count": 77,
   "metadata": {
    "collapsed": true,
    "slideshow": {
     "slide_type": "skip"
    }
   },
   "outputs": [],
   "source": [
    "def get_primes(how_many):\n",
    "    \"\"\"Return the first 'how_many' prime numbers.\"\"\"\n",
    "\n",
    "    primes = filter(is_prime, itertools.count(2))\n",
    "    yield from itertools.islice(primes, how_many)"
   ]
  },
  {
   "cell_type": "markdown",
   "metadata": {
    "slideshow": {
     "slide_type": "skip"
    }
   },
   "source": [
    "We can do instead:"
   ]
  },
  {
   "cell_type": "code",
   "execution_count": 78,
   "metadata": {
    "collapsed": false,
    "slideshow": {
     "slide_type": "skip"
    }
   },
   "outputs": [
    {
     "name": "stdout",
     "output_type": "stream",
     "text": [
      "2\n",
      "3\n",
      "5\n",
      "7\n",
      "11\n"
     ]
    }
   ],
   "source": [
    "primes = filter(is_prime, itertools.count(2))\n",
    "get_primes = functools.partial(itertools.islice, primes)\n",
    "        \n",
    "for n in get_primes(5):\n",
    "    print(n)"
   ]
  },
  {
   "cell_type": "markdown",
   "metadata": {
    "slideshow": {
     "slide_type": "subslide"
    }
   },
   "source": [
    "<img src=\"./images/Shi_DeRu_and_Shi_DeYang.jpg\" style=\"height: 400px; width:auto\"/>\n",
    "\n",
    "[Photo](https://commons.wikimedia.org/wiki/File:Shi_DeRu_and_Shi_DeYang.jpg) by Shi Deru / [CC BY-SA 3.0](https://creativecommons.org/licenses/by-sa/3.0/deed.en) / Cropped from original"
   ]
  },
  {
   "cell_type": "markdown",
   "metadata": {
    "slideshow": {
     "slide_type": "slide"
    }
   },
   "source": [
    "# Integer factorization, Part II\n",
    "\n",
    "- This is all neat and good, but not exactly what we need here.\n",
    "- We don't want the first whatever prime numbers...\n",
    "- ... but all the prime numbers $\\le \\sqrt{n}$.\n",
    "- For example, to factorize 15 we need to test all the primes until $\\left \\lceil{\\sqrt{15}}\\right \\rceil = 3$:"
   ]
  },
  {
   "cell_type": "markdown",
   "metadata": {
    "slideshow": {
     "slide_type": "subslide"
    }
   },
   "source": [
    "## Generating all the divisors $\\le x$\n",
    "### Naive attempt"
   ]
  },
  {
   "cell_type": "code",
   "execution_count": 79,
   "metadata": {
    "collapsed": false
   },
   "outputs": [
    {
     "name": "stdout",
     "output_type": "stream",
     "text": [
      "[2, 3, 5, 7, 11, 13]\n"
     ]
    }
   ],
   "source": [
    "def primes_until(stop):\n",
    "    \"\"\"Return all the prime numbers <= stop.\"\"\"\n",
    "\n",
    "    primes = filter(is_prime, itertools.count(2))\n",
    "    for p in primes:\n",
    "        if p <= stop:\n",
    "            yield p\n",
    "        else:\n",
    "            break\n",
    "\n",
    "            \n",
    "print(list(primes_until(15)))"
   ]
  },
  {
   "cell_type": "markdown",
   "metadata": {},
   "source": [
    "This is also a common pattern: loop over the elements of an iterable, stopping as soon as some condition is no longer satisfied. And this is what `takewhile()` was invented for!"
   ]
  },
  {
   "cell_type": "markdown",
   "metadata": {
    "slideshow": {
     "slide_type": "subslide"
    }
   },
   "source": [
    "## `itertools.takewhile()`\n",
    "- Make an iterator that returns elements.\n",
    "- Stop when the predicate is no longer `True`.\n",
    "- Frequently used in conjunction with lambda functions."
   ]
  },
  {
   "cell_type": "code",
   "execution_count": 80,
   "metadata": {
    "collapsed": false
   },
   "outputs": [
    {
     "name": "stdout",
     "output_type": "stream",
     "text": [
      "1\n",
      "2\n",
      "3\n"
     ]
    },
    {
     "ename": "StopIteration",
     "evalue": "",
     "output_type": "error",
     "traceback": [
      "\u001b[1;31m---------------------------------------------------------------------------\u001b[0m",
      "\u001b[1;31mStopIteration\u001b[0m                             Traceback (most recent call last)",
      "\u001b[1;32m<ipython-input-439-fb1651512d3c>\u001b[0m in \u001b[0;36m<module>\u001b[1;34m()\u001b[0m\n\u001b[0;32m      6\u001b[0m \u001b[0mprint\u001b[0m\u001b[1;33m(\u001b[0m\u001b[0mnext\u001b[0m\u001b[1;33m(\u001b[0m\u001b[0mit\u001b[0m\u001b[1;33m)\u001b[0m\u001b[1;33m)\u001b[0m \u001b[1;31m# 2 is < 4, so we return it\u001b[0m\u001b[1;33m\u001b[0m\u001b[0m\n\u001b[0;32m      7\u001b[0m \u001b[0mprint\u001b[0m\u001b[1;33m(\u001b[0m\u001b[0mnext\u001b[0m\u001b[1;33m(\u001b[0m\u001b[0mit\u001b[0m\u001b[1;33m)\u001b[0m\u001b[1;33m)\u001b[0m \u001b[1;31m# 3 is < 4, so we return it\u001b[0m\u001b[1;33m\u001b[0m\u001b[0m\n\u001b[1;32m----> 8\u001b[1;33m \u001b[0mprint\u001b[0m\u001b[1;33m(\u001b[0m\u001b[0mnext\u001b[0m\u001b[1;33m(\u001b[0m\u001b[0mit\u001b[0m\u001b[1;33m)\u001b[0m\u001b[1;33m)\u001b[0m \u001b[1;31m# 4 is *not* < 4, so stop\u001b[0m\u001b[1;33m\u001b[0m\u001b[0m\n\u001b[0m",
      "\u001b[1;31mStopIteration\u001b[0m: "
     ]
    }
   ],
   "source": [
    "numbers = range(1, 10000)\n",
    "\n",
    "# Take numbers as long as they're < 4\n",
    "it = itertools.takewhile(lambda x: x < 4, numbers)\n",
    "print(next(it)) # 1 is < 4, so we return it\n",
    "print(next(it)) # 2 is < 4, so we return it\n",
    "print(next(it)) # 3 is < 4, so we return it\n",
    "print(next(it)) # 4 is *not* < 4, so stop"
   ]
  },
  {
   "cell_type": "markdown",
   "metadata": {
    "slideshow": {
     "slide_type": "subslide"
    }
   },
   "source": [
    "### Lambda functions are not mandatory"
   ]
  },
  {
   "cell_type": "code",
   "execution_count": 81,
   "metadata": {
    "collapsed": false
   },
   "outputs": [
    {
     "data": {
      "text/plain": [
       "[0, 2, 4, 6, 8]"
      ]
     },
     "execution_count": 82,
     "metadata": {},
     "output_type": "execute_result"
    }
   ],
   "source": [
    "def smaller_than_ten(x):\n",
    "    \"\"\"Checks whether the number is < 10.\"\"\"\n",
    "    return x < 10\n",
    "\n",
    "numbers = range(0, int(1e12), 2)\n",
    "list(itertools.takewhile(smaller_than_ten, numbers))"
   ]
  },
  {
   "cell_type": "markdown",
   "metadata": {
    "slideshow": {
     "slide_type": "skip"
    }
   },
   "source": [
    "### But since we're at it..."
   ]
  },
  {
   "cell_type": "code",
   "execution_count": 83,
   "metadata": {
    "collapsed": false,
    "slideshow": {
     "slide_type": "skip"
    }
   },
   "outputs": [
    {
     "name": "stdout",
     "output_type": "stream",
     "text": [
      "0\n",
      "2\n",
      "4\n",
      "6\n",
      "8\n"
     ]
    }
   ],
   "source": [
    "def is_smaller(x, than=float(\"inf\")):\n",
    "    return x < than\n",
    "\n",
    "numbers = range(0, int(1e18), 2)\n",
    "# functools.partial() + keyword argument = more readable!\n",
    "for n in itertools.takewhile(functools.partial(is_smaller, than=10), numbers):\n",
    "    print(n)"
   ]
  },
  {
   "cell_type": "markdown",
   "metadata": {
    "slideshow": {
     "slide_type": "skip"
    }
   },
   "source": [
    "## `operator`\n",
    "This [must-know module](https://docs.python.org/3/library/operator.html) exports all standard operators as functions."
   ]
  },
  {
   "cell_type": "code",
   "execution_count": 84,
   "metadata": {
    "collapsed": false,
    "slideshow": {
     "slide_type": "skip"
    }
   },
   "outputs": [
    {
     "name": "stdout",
     "output_type": "stream",
     "text": [
      "True\n",
      "False\n",
      "3\n",
      "1\n",
      "[1, 2, 3, 4, 5]\n"
     ]
    }
   ],
   "source": [
    "import operator\n",
    "\n",
    "print(operator.lt(3, 5))   # 3 < 5 -> True\n",
    "print(operator.not_(True)) # not True -> False\n",
    "print(operator.add(2, 1))   # 2 + 1 -> 3\n",
    "print(operator.neg(-1))    # -(-1) -> 1\n",
    "\n",
    "# In-place addition\n",
    "x = [1, 2, 3]\n",
    "operator.iadd(x, [4, 5]) # x += [4, 5]\n",
    "print(x) # [1, 2, 3, 4, 5]"
   ]
  },
  {
   "cell_type": "markdown",
   "metadata": {
    "slideshow": {
     "slide_type": "skip"
    }
   },
   "source": [
    "So we can rewrite our solution as..."
   ]
  },
  {
   "cell_type": "code",
   "execution_count": 85,
   "metadata": {
    "collapsed": false,
    "slideshow": {
     "slide_type": "skip"
    }
   },
   "outputs": [
    {
     "name": "stdout",
     "output_type": "stream",
     "text": [
      "0\n",
      "2\n",
      "4\n",
      "6\n",
      "8\n"
     ]
    }
   ],
   "source": [
    "numbers = range(0, int(1e24), 2)\n",
    "\n",
    "smaller_than_ten = functools.partial(operator.gt, 10)\n",
    "for n in itertools.takewhile(smaller_than_ten, numbers):\n",
    "    print(n)"
   ]
  },
  {
   "cell_type": "markdown",
   "metadata": {
    "slideshow": {
     "slide_type": "skip"
    }
   },
   "source": [
    "- Note that with `partial()` we have to bind arguments left to right.\n",
    "- Instead of testing whether $x < 10$...\n",
    "- ... we're rewriting it as $10 > x$\n",
    "\n",
    "Anyway."
   ]
  },
  {
   "cell_type": "markdown",
   "metadata": {
    "slideshow": {
     "slide_type": "subslide"
    }
   },
   "source": [
    "## Generating all the divisors $\\le x$\n",
    "### Kung Fu version"
   ]
  },
  {
   "cell_type": "code",
   "execution_count": 86,
   "metadata": {
    "collapsed": false
   },
   "outputs": [
    {
     "name": "stdout",
     "output_type": "stream",
     "text": [
      "2\n",
      "3\n",
      "5\n",
      "7\n",
      "11\n",
      "13\n"
     ]
    }
   ],
   "source": [
    "def primes_until(stop):\n",
    "    \"\"\"Return all the prime numbers <= stop.\"\"\"    \n",
    "    primes = filter(is_prime, itertools.count(2))\n",
    "    yield from itertools.takewhile(lambda p: p < stop, primes)\n",
    "    \n",
    "            \n",
    "for x in primes_until(15):\n",
    "    print(x)"
   ]
  },
  {
   "cell_type": "markdown",
   "metadata": {},
   "source": [
    "Woo-hoo! And what about the *opposite*?"
   ]
  },
  {
   "cell_type": "markdown",
   "metadata": {
    "slideshow": {
     "slide_type": "subslide"
    }
   },
   "source": [
    "## `itertools.dropwhile()`\n",
    "- Make an iterator that returns elements.\n",
    "- Ignore elements as long as the predicate is `True`.\n",
    "- As soon as it's not anymore, return everything."
   ]
  },
  {
   "cell_type": "code",
   "execution_count": 87,
   "metadata": {
    "collapsed": false
   },
   "outputs": [
    {
     "name": "stdout",
     "output_type": "stream",
     "text": [
      "4\n",
      "5\n",
      "6\n",
      "7\n",
      "8\n"
     ]
    }
   ],
   "source": [
    "numbers = range(1, 10000)\n",
    "\n",
    "# Ignore numbers as long as they're < 4\n",
    "it = itertools.dropwhile(lambda x: x < 4, numbers)\n",
    "print(next(it)) # 'it' returns 1 -> 1 < 4, so we drop it, so ...\n",
    "                # 'it' returns 2 -> 2 < 4, so we drop it, so ...\n",
    "                # 'it' returns 3 -> 3 < 4, so we drop it, so ...\n",
    "                # returns 4\n",
    "                \n",
    "print(next(it)) # returns 5\n",
    "print(next(it)) # returns 6\n",
    "print(next(it)) # returns 7\n",
    "print(next(it)) # returns 8\n",
    "\n",
    "# ... and so on until we exhaust 'numbers'"
   ]
  },
  {
   "cell_type": "markdown",
   "metadata": {
    "slideshow": {
     "slide_type": "subslide"
    }
   },
   "source": [
    "## Prime numbers within a range\n",
    "Using both `takewhile()` and `dropwhile()` gets us this:"
   ]
  },
  {
   "cell_type": "code",
   "execution_count": 88,
   "metadata": {
    "collapsed": true
   },
   "outputs": [],
   "source": [
    "def primes_range(start=2, stop=float(\"inf\")):\n",
    "    \"\"\"Return all the prime numbers start <= x < stop.\"\"\"\n",
    "    \n",
    "    primes = filter(is_prime, itertools.count(2))\n",
    "    it = itertools.dropwhile(lambda x: x < start, primes)\n",
    "    yield from itertools.takewhile(lambda y: y < stop, it)"
   ]
  },
  {
   "cell_type": "code",
   "execution_count": 89,
   "metadata": {
    "collapsed": false,
    "slideshow": {
     "slide_type": "subslide"
    }
   },
   "outputs": [
    {
     "name": "stdout",
     "output_type": "stream",
     "text": [
      "[101, 103, 107, 109, 113]\n"
     ]
    }
   ],
   "source": [
    "print(list(primes_range(100, 125))) # 100 <= x < 125"
   ]
  },
  {
   "cell_type": "code",
   "execution_count": 90,
   "metadata": {
    "collapsed": false
   },
   "outputs": [
    {
     "name": "stdout",
     "output_type": "stream",
     "text": [
      "[2, 3, 5, 7, 11, 13, 17, 19]\n"
     ]
    }
   ],
   "source": [
    "print(list(primes_range(stop=20)))  # all primes < 20"
   ]
  },
  {
   "cell_type": "code",
   "execution_count": 91,
   "metadata": {
    "collapsed": false
   },
   "outputs": [
    {
     "name": "stdout",
     "output_type": "stream",
     "text": [
      "1009\n",
      "1013\n",
      "1019\n",
      "1021\n"
     ]
    }
   ],
   "source": [
    "it = primes_range(start=1000)       # all primes >= 1000\n",
    "print(next(it)) # 1009\n",
    "print(next(it)) # 1013\n",
    "print(next(it)) # 1019\n",
    "print(next(it)) # 1021\n",
    "\n",
    "# ... and so on until infinity."
   ]
  },
  {
   "cell_type": "markdown",
   "metadata": {
    "slideshow": {
     "slide_type": "subslide"
    }
   },
   "source": [
    "## Integer factorization: The Algorithm\n",
    "\n",
    "\n",
    "- Iterate over the prime numbers $p \\le \\sqrt{n}$\n",
    "- If $n$ is divisible by $p$, then $p$ is a factor.\n",
    "- Divide $n$ by $p$ and factorize the quotient, recursively.\n",
    "- Base case: we ran out of prime numbers, so $n$ is prime too.\n",
    "- The factorization is all found factors."
   ]
  },
  {
   "cell_type": "markdown",
   "metadata": {
    "slideshow": {
     "slide_type": "subslide"
    }
   },
   "source": [
    "## Example: factorize $30$\n",
    "\n",
    "- Is $30$ divisible by $2$? Yes.\n",
    "- Therefore, $2$ is a factor.\n",
    "\n",
    "Factorize now the quotient, $30 \\div 2 = 15$:\n",
    "\n",
    "- Is $15$ divisible by $2$? No.\n",
    "- Is $15$ divisible by $3$? Yes.\n",
    "- Therefore, $3$ is a factor.\n",
    "\n",
    "Factorize now the quotient, $15 \\div 3 = 5$:\n",
    "- There're no primes $\\le \\sqrt{5}$, so $5$ is prime too.\n",
    "- $30 = 2 \\times 3 \\times 5$"
   ]
  },
  {
   "cell_type": "markdown",
   "metadata": {
    "slideshow": {
     "slide_type": "subslide"
    }
   },
   "source": [
    "## Show me the code"
   ]
  },
  {
   "cell_type": "code",
   "execution_count": 92,
   "metadata": {
    "collapsed": false
   },
   "outputs": [
    {
     "name": "stdout",
     "output_type": "stream",
     "text": [
      "[2, 3, 5]\n",
      "[2, 5, 7]\n",
      "[2, 3, 13]\n",
      "[11]\n"
     ]
    }
   ],
   "source": [
    "import math\n",
    "\n",
    "def factorize(n):\n",
    "    \"\"\"Decompose n into prime numbers.\"\"\"\n",
    "\n",
    "    for p in primes_until(int(math.sqrt(n))):\n",
    "        quotient, remainder = divmod(n, p)\n",
    "        if remainder == 0:\n",
    "            # 'p' is a prime factor \n",
    "            return [p] + factorize(quotient)\n",
    "    # Base case, reached only if we run out of primes\n",
    "    return [n] # n is prime\n",
    "\n",
    "\n",
    "print(factorize(30)) # [2, 3, 5]\n",
    "print(factorize(70)) # [2, 3, 7]\n",
    "print(factorize(78)) # [2, 3, 13]\n",
    "print(factorize(11)) # we hit the base case directly"
   ]
  },
  {
   "cell_type": "markdown",
   "metadata": {
    "slideshow": {
     "slide_type": "subslide"
    }
   },
   "source": [
    "<img src=\"./images/Battle_Cry.jpg\" style=\"height: 400px; width:auto\"/>\n",
    "\n",
    "[Photo](https://www.flickr.com/photos/kurt-b/9455997776) by Kurt Bauschardt / [CC BY-SA 2.0](https://creativecommons.org/licenses/by-sa/2.0/) / Cropped from original"
   ]
  },
  {
   "cell_type": "markdown",
   "metadata": {
    "slideshow": {
     "slide_type": "slide"
    }
   },
   "source": [
    "# The `uniq` command\n",
    "\n",
    "A Unix command that collapses adjacent identical lines into one."
   ]
  },
  {
   "cell_type": "code",
   "execution_count": 93,
   "metadata": {
    "collapsed": false
   },
   "outputs": [
    {
     "name": "stdout",
     "output_type": "stream",
     "text": [
      "a\n",
      "a\n",
      "a\n",
      "b\n",
      "b\n",
      "a\n"
     ]
    }
   ],
   "source": [
    "%%bash\n",
    "\n",
    "cat ~/letters.txt"
   ]
  },
  {
   "cell_type": "code",
   "execution_count": 94,
   "metadata": {
    "collapsed": false
   },
   "outputs": [
    {
     "name": "stdout",
     "output_type": "stream",
     "text": [
      "a\n",
      "b\n",
      "a\n"
     ]
    }
   ],
   "source": [
    "%%bash\n",
    "\n",
    "uniq ~/letters.txt"
   ]
  },
  {
   "cell_type": "markdown",
   "metadata": {},
   "source": [
    "Note that we're only removing **consecutive** duplicates."
   ]
  },
  {
   "cell_type": "markdown",
   "metadata": {
    "slideshow": {
     "slide_type": "subslide"
    }
   },
   "source": [
    "## Our own version \n",
    "### Padawan attempt\n",
    "\n",
    "For simplicity's sake, let's accept only strings as input."
   ]
  },
  {
   "cell_type": "code",
   "execution_count": 95,
   "metadata": {
    "collapsed": false
   },
   "outputs": [
    {
     "name": "stdout",
     "output_type": "stream",
     "text": [
      "a\n",
      "b\n",
      "abc\n",
      "abcde\n"
     ]
    }
   ],
   "source": [
    "def uniq(word):\n",
    "    \"\"\"Remove consecutive duplicates letters.\"\"\"\n",
    "    \n",
    "    # Don't break if string is empty\n",
    "    if not word:\n",
    "        return ''\n",
    "    \n",
    "    result = [word[0]]\n",
    "    for letter in word[1:]:\n",
    "        if letter != result[-1]:\n",
    "            result.append(letter)\n",
    "    return ''.join(result)\n",
    "\n",
    "\n",
    "print(uniq(\"a\"))             # 'a'\n",
    "print(uniq(\"bbb\"))           # 'b'    \n",
    "print(uniq(\"abc\"))           # 'abc'\n",
    "print(uniq(\"aabbbccccdee\"))  # 'abcde'"
   ]
  },
  {
   "cell_type": "markdown",
   "metadata": {
    "slideshow": {
     "slide_type": "subslide"
    }
   },
   "source": [
    "## itertools.groupby()\n",
    "\n",
    "- Make an iterator that returns consecutive `keys` and `groups` from the iterable.\n",
    "- A new `group` starts every time the value of the key changes.\n",
    "- The `group` objects are a sub-iterator over the elements in the group."
   ]
  },
  {
   "cell_type": "code",
   "execution_count": 96,
   "metadata": {
    "collapsed": false
   },
   "outputs": [
    {
     "name": "stdout",
     "output_type": "stream",
     "text": [
      "<itertools.groupby object at 0x7fdbbc075188>\n"
     ]
    }
   ],
   "source": [
    "word = \"aabccc\"\n",
    "groups = itertools.groupby(word)\n",
    "print(groups) # a 'groupby' object — an iterable"
   ]
  },
  {
   "cell_type": "code",
   "execution_count": 97,
   "metadata": {
    "collapsed": false,
    "slideshow": {
     "slide_type": "subslide"
    }
   },
   "outputs": [
    {
     "name": "stdout",
     "output_type": "stream",
     "text": [
      "Key: a\n"
     ]
    }
   ],
   "source": [
    "key1, group1 = next(groups) # give me the first group\n",
    "print(\"Key:\", key1) # 'a'"
   ]
  },
  {
   "cell_type": "code",
   "execution_count": 98,
   "metadata": {
    "collapsed": false
   },
   "outputs": [
    {
     "name": "stdout",
     "output_type": "stream",
     "text": [
      "Group: <itertools._grouper object at 0x7fdb9e424358>\n"
     ]
    }
   ],
   "source": [
    "print(\"Group:\", group1) # a '_grouper' object... another iterable"
   ]
  },
  {
   "cell_type": "code",
   "execution_count": 99,
   "metadata": {
    "collapsed": false,
    "slideshow": {
     "slide_type": "-"
    }
   },
   "outputs": [
    {
     "name": "stdout",
     "output_type": "stream",
     "text": [
      "Next: a\n",
      "Next: a\n"
     ]
    },
    {
     "ename": "StopIteration",
     "evalue": "",
     "output_type": "error",
     "traceback": [
      "\u001b[1;31m---------------------------------------------------------------------------\u001b[0m",
      "\u001b[1;31mStopIteration\u001b[0m                             Traceback (most recent call last)",
      "\u001b[1;32m<ipython-input-449-b81af27bb980>\u001b[0m in \u001b[0;36m<module>\u001b[1;34m()\u001b[0m\n\u001b[0;32m      1\u001b[0m \u001b[0mprint\u001b[0m\u001b[1;33m(\u001b[0m\u001b[1;34m\"Next:\"\u001b[0m\u001b[1;33m,\u001b[0m \u001b[0mnext\u001b[0m\u001b[1;33m(\u001b[0m\u001b[0mgroup1\u001b[0m\u001b[1;33m)\u001b[0m\u001b[1;33m)\u001b[0m \u001b[1;31m# the first 'a'\u001b[0m\u001b[1;33m\u001b[0m\u001b[0m\n\u001b[0;32m      2\u001b[0m \u001b[0mprint\u001b[0m\u001b[1;33m(\u001b[0m\u001b[1;34m\"Next:\"\u001b[0m\u001b[1;33m,\u001b[0m \u001b[0mnext\u001b[0m\u001b[1;33m(\u001b[0m\u001b[0mgroup1\u001b[0m\u001b[1;33m)\u001b[0m\u001b[1;33m)\u001b[0m \u001b[1;31m# the second 'a'\u001b[0m\u001b[1;33m\u001b[0m\u001b[0m\n\u001b[1;32m----> 3\u001b[1;33m \u001b[0mprint\u001b[0m\u001b[1;33m(\u001b[0m\u001b[1;34m\"Next:\"\u001b[0m\u001b[1;33m,\u001b[0m \u001b[0mnext\u001b[0m\u001b[1;33m(\u001b[0m\u001b[0mgroup1\u001b[0m\u001b[1;33m)\u001b[0m\u001b[1;33m)\u001b[0m \u001b[1;31m# StopIteration\u001b[0m\u001b[1;33m\u001b[0m\u001b[0m\n\u001b[0m",
      "\u001b[1;31mStopIteration\u001b[0m: "
     ]
    }
   ],
   "source": [
    "print(\"Next:\", next(group1)) # the first 'a'\n",
    "print(\"Next:\", next(group1)) # the second 'a'\n",
    "print(\"Next:\", next(group1)) # StopIteration"
   ]
  },
  {
   "cell_type": "markdown",
   "metadata": {
    "slideshow": {
     "slide_type": "subslide"
    }
   },
   "source": [
    "- Each call to `next()` will return two elements: the `key` and the `group`.\n",
    "- The `key` is what this group contains — e.g., the letter *a*. \n",
    "- The `group` are the actual occurrences of the key — e.g., *\"aa\"*.\n",
    "\n",
    "Let's keep going on..."
   ]
  },
  {
   "cell_type": "code",
   "execution_count": 100,
   "metadata": {
    "collapsed": false
   },
   "outputs": [
    {
     "name": "stdout",
     "output_type": "stream",
     "text": [
      "Word aabccc\n",
      "Key: b\n",
      "Group: <itertools._grouper object at 0x7fdbd8066208>\n",
      "['b']\n"
     ]
    }
   ],
   "source": [
    "print(\"Word\", word)         # 'aabcc'\n",
    "key2, group2 = next(groups) # give me the second group\n",
    "print(\"Key:\", key2)         # ok, so this group contains 'b'\n",
    "\n",
    "# And how many occurrences of 'b' are there?\n",
    "print(\"Group:\", group2) # the occurrences of 'b'\n",
    "print(list(group2))     # ['b'] — oh, only one."
   ]
  },
  {
   "cell_type": "code",
   "execution_count": 101,
   "metadata": {
    "collapsed": false
   },
   "outputs": [
    {
     "name": "stdout",
     "output_type": "stream",
     "text": [
      "Key: c\n",
      "['c', 'c', 'c']\n"
     ]
    }
   ],
   "source": [
    "# The third and last group\n",
    "key3, group3 = next(groups)\n",
    "print(\"Key:\", key3) # 'c'\n",
    "print(list(group3)) # ['c', 'c', 'c']"
   ]
  },
  {
   "cell_type": "markdown",
   "metadata": {
    "slideshow": {
     "slide_type": "subslide"
    }
   },
   "source": [
    "## Using a `for` loop instead"
   ]
  },
  {
   "cell_type": "code",
   "execution_count": 102,
   "metadata": {
    "collapsed": false
   },
   "outputs": [
    {
     "name": "stdout",
     "output_type": "stream",
     "text": [
      "a -> ['a', 'a']\n",
      "b -> ['b']\n",
      "c -> ['c', 'c', 'c']\n"
     ]
    }
   ],
   "source": [
    "word = \"aabccc\"\n",
    "for key, group in itertools.groupby(word):\n",
    "    print(key, \"->\", list(group))"
   ]
  },
  {
   "cell_type": "markdown",
   "metadata": {},
   "source": [
    "This might seem silly, but it's very powerful indeed."
   ]
  },
  {
   "cell_type": "markdown",
   "metadata": {
    "slideshow": {
     "slide_type": "subslide"
    }
   },
   "source": [
    "## Our `uniq` command\n",
    "### Kung Fu version"
   ]
  },
  {
   "cell_type": "code",
   "execution_count": 103,
   "metadata": {
    "collapsed": false
   },
   "outputs": [
    {
     "name": "stdout",
     "output_type": "stream",
     "text": [
      "abcde\n"
     ]
    }
   ],
   "source": [
    "def uniq(word):\n",
    "    result = []\n",
    "    # We don't need the group for all, hence the '_'\n",
    "    for key, _ in itertools.groupby(word):\n",
    "        result.append(key)\n",
    "    return ''.join(result)\n",
    "\n",
    "\n",
    "word = \"aaabbcccccdee\"\n",
    "print(uniq(word))"
   ]
  },
  {
   "cell_type": "markdown",
   "metadata": {},
   "source": [
    "... or even more succinct:"
   ]
  },
  {
   "cell_type": "code",
   "execution_count": 104,
   "metadata": {
    "collapsed": false
   },
   "outputs": [
    {
     "name": "stdout",
     "output_type": "stream",
     "text": [
      "abcde\n"
     ]
    }
   ],
   "source": [
    "def uniq(word):\n",
    "    return ''.join(key for key, _ in itertools.groupby(word))\n",
    "\n",
    "print(uniq(word))"
   ]
  },
  {
   "cell_type": "markdown",
   "metadata": {
    "slideshow": {
     "slide_type": "subslide"
    }
   },
   "source": [
    "# A (rudimentary) compression algorithm\n",
    "\n",
    "- Let's implement a very basic string compression function...\n",
    "- ... using the counts of repeated characters.\n",
    "- For example, \"aaabbcccccdee\" returns \"a3b2c5d1e2\""
   ]
  },
  {
   "cell_type": "markdown",
   "metadata": {
    "slideshow": {
     "slide_type": "subslide"
    }
   },
   "source": [
    "Without `itertools`, the solution brings us pain and misery."
   ]
  },
  {
   "cell_type": "code",
   "execution_count": 105,
   "metadata": {
    "collapsed": false
   },
   "outputs": [
    {
     "name": "stdout",
     "output_type": "stream",
     "text": [
      "a3b2c5d1e2\n"
     ]
    }
   ],
   "source": [
    "def compress(word):\n",
    "    \"\"\"Return a compressed version of the string.\"\"\"\n",
    "    \n",
    "    result = []\n",
    "    current = word[0]\n",
    "    counter = 1\n",
    "    \n",
    "    for letter in word[1:]:\n",
    "        if letter == current:\n",
    "            # We're still in the same group\n",
    "            counter += 1\n",
    "        else:\n",
    "            # We need to start a new group\n",
    "            result += [current, str(counter)]\n",
    "            current = letter # start a new group\n",
    "            counter = 1\n",
    "    result += [current, str(counter)]\n",
    "    return ''.join(result)\n",
    "\n",
    "\n",
    "word = \"aaabbcccccdee\"\n",
    "print(compress(word))  # 'a3b2c5d1e2'"
   ]
  },
  {
   "cell_type": "markdown",
   "metadata": {
    "slideshow": {
     "slide_type": "subslide"
    }
   },
   "source": [
    "### Kung Fu version"
   ]
  },
  {
   "cell_type": "code",
   "execution_count": 106,
   "metadata": {
    "collapsed": false
   },
   "outputs": [
    {
     "name": "stdout",
     "output_type": "stream",
     "text": [
      "a3b2c5d1e2\n"
     ]
    }
   ],
   "source": [
    "def compress(word):\n",
    "    \"\"\"Return a compressed version of the string.\"\"\"\n",
    "    \n",
    "    result = []\n",
    "    for key, group in itertools.groupby(word):\n",
    "        result.append(\"{}{}\".format(key, len(list(group))))\n",
    "    return ''.join(result)\n",
    "\n",
    "word = \"aaabbcccccdee\"\n",
    "print(compress(word))  # 'a3b2c5d1e2'"
   ]
  },
  {
   "cell_type": "markdown",
   "metadata": {
    "slideshow": {
     "slide_type": "skip"
    }
   },
   "source": [
    "## Making it case case-insensitive\n",
    "\n",
    "A problem is that letters in different case are considered to be different."
   ]
  },
  {
   "cell_type": "code",
   "execution_count": 107,
   "metadata": {
    "collapsed": false,
    "slideshow": {
     "slide_type": "skip"
    }
   },
   "outputs": [
    {
     "name": "stdout",
     "output_type": "stream",
     "text": [
      "a2A4\n"
     ]
    }
   ],
   "source": [
    "print(compress(\"aaAAAA\"))  # 'a2A4'"
   ]
  },
  {
   "cell_type": "markdown",
   "metadata": {
    "slideshow": {
     "slide_type": "skip"
    }
   },
   "source": [
    "This might make sense, but we're into compressing our strings so much that we decide to ignore the case... *respecting the case of the first occurrence* — otherwise, we would just `.upper()` or `.lower()` the entire string. That is:\n",
    "\n",
    "- \"aaAAAA\" $\\rightarrow$ \"a6\"\n",
    "- \"AAaaaa\" $\\rightarrow$ \"A6\"\n",
    "- \"BbBccC\" $\\rightarrow$ \"B3c3\".\n",
    "\n",
    "How do we do this?"
   ]
  },
  {
   "cell_type": "markdown",
   "metadata": {
    "slideshow": {
     "slide_type": "subslide"
    }
   },
   "source": [
    "## The `key` function\n",
    "\n",
    "- By default, `groupby()` compares the elements as they are seen.\n",
    "- The keyword argument `key` allows us to specify a different criteria.\n",
    "- It is a function that transforms each elements before it's compared.\n",
    "- This is known as the *\"key value for each element\"*"
   ]
  },
  {
   "cell_type": "markdown",
   "metadata": {},
   "source": [
    "How is this useful?"
   ]
  },
  {
   "cell_type": "markdown",
   "metadata": {
    "slideshow": {
     "slide_type": "skip"
    }
   },
   "source": [
    "### Let's do this:"
   ]
  },
  {
   "cell_type": "code",
   "execution_count": 108,
   "metadata": {
    "collapsed": false,
    "slideshow": {
     "slide_type": "skip"
    }
   },
   "outputs": [
    {
     "name": "stdout",
     "output_type": "stream",
     "text": [
      "a6\n",
      "A6\n",
      "B3c3\n"
     ]
    }
   ],
   "source": [
    "def compress_more(word):\n",
    "    \"\"\"Return an even more compressed version of the string.\"\"\"\n",
    "    \n",
    "    result = []\n",
    "    # Make the comparison between letters case-insensitive.\n",
    "    for _, group in itertools.groupby(word, key=lambda x: x.upper()):\n",
    "        group = list(group)\n",
    "        # Take first element to respect case of the first occurrence.\n",
    "        result.append(\"{}{}\".format(group[0], len(group)))\n",
    "    return ''.join(result)\n",
    "\n",
    "\n",
    "print(compress_more(\"aaAAAA\"))  # 'a6'\n",
    "print(compress_more(\"AAaaaa\"))  # 'A6'\n",
    "print(compress_more(\"BbBccC\"))  # 'B3c3'"
   ]
  },
  {
   "cell_type": "markdown",
   "metadata": {
    "slideshow": {
     "slide_type": "skip"
    }
   },
   "source": [
    "- We can't use the key, as they will always be in upper case.\n",
    "- 'group' is an iterator, so we store it as a list to use slices and `len()`."
   ]
  },
  {
   "cell_type": "markdown",
   "metadata": {
    "slideshow": {
     "slide_type": "subslide"
    }
   },
   "source": [
    "# Grouping letters by length\n",
    "\n",
    "Let's say that we have a series of words, and we want to group them by their length."
   ]
  },
  {
   "cell_type": "code",
   "execution_count": 109,
   "metadata": {
    "collapsed": true
   },
   "outputs": [],
   "source": [
    "words = \"red orange yellow green blue indigo violet gray\".split()"
   ]
  },
  {
   "cell_type": "markdown",
   "metadata": {},
   "source": [
    "### Rookie version"
   ]
  },
  {
   "cell_type": "code",
   "execution_count": 110,
   "metadata": {
    "collapsed": false
   },
   "outputs": [
    {
     "name": "stdout",
     "output_type": "stream",
     "text": [
      "3 -> ['red']\n",
      "4 -> ['blue', 'gray']\n",
      "5 -> ['green']\n",
      "6 -> ['orange', 'yellow', 'indigo', 'violet']\n"
     ]
    }
   ],
   "source": [
    "# Map each length to a list of words\n",
    "lengths = collections.defaultdict(list)\n",
    "\n",
    "for w in words:\n",
    "    lengths[len(w)].append(w)\n",
    "    \n",
    "for key, value in lengths.items():\n",
    "    print(key, '->', value)"
   ]
  },
  {
   "cell_type": "markdown",
   "metadata": {
    "slideshow": {
     "slide_type": "subslide"
    }
   },
   "source": [
    "### Kung Fu version"
   ]
  },
  {
   "cell_type": "code",
   "execution_count": 111,
   "metadata": {
    "collapsed": false
   },
   "outputs": [
    {
     "name": "stdout",
     "output_type": "stream",
     "text": [
      "3 -> ['red']\n",
      "4 -> ['blue', 'gray']\n",
      "5 -> ['green']\n",
      "6 -> ['orange', 'yellow', 'indigo', 'violet']\n"
     ]
    }
   ],
   "source": [
    "words.sort(key=len)\n",
    "for key, group in itertools.groupby(words, key=len):\n",
    "    print(key, '->', list(group))"
   ]
  },
  {
   "cell_type": "markdown",
   "metadata": {},
   "source": [
    "Two things to note:\n",
    "\n",
    "- We have to sort the list first; otherwise it only groups consecutive items.\n",
    "- The first solution is $\\mathcal{O}(n)$ vs $\\mathcal{O}(n \\log n)$, because we have to sort the list. But `groupby()` is arguably better here as it's shorter and clearly conveys what we're doing: grouping the words according to a criteria."
   ]
  },
  {
   "cell_type": "markdown",
   "metadata": {
    "slideshow": {
     "slide_type": "skip"
    }
   },
   "source": [
    "# Anagrams\n",
    "\n",
    "How do we find anagrams in a list of wors?"
   ]
  },
  {
   "cell_type": "code",
   "execution_count": 112,
   "metadata": {
    "collapsed": false,
    "slideshow": {
     "slide_type": "skip"
    }
   },
   "outputs": [
    {
     "name": "stdout",
     "output_type": "stream",
     "text": [
      "['e', 'i', 'l', 'n', 's', 't']\n",
      "['e', 'i', 'l', 'n', 's', 't']\n"
     ]
    }
   ],
   "source": [
    "words = ['listen', 'meteor', 'dawn', 'remote', 'silent']\n",
    "\n",
    "# If two words are an anagram, sorted() returns the same\n",
    "print(sorted('listen')) # ['e', 'i', 'l', 'n', 's', 't']\n",
    "print(sorted('silent')) # ['e', 'i', 'l', 'n', 's', 't']"
   ]
  },
  {
   "cell_type": "markdown",
   "metadata": {
    "slideshow": {
     "slide_type": "skip"
    }
   },
   "source": [
    "### Neophyte version"
   ]
  },
  {
   "cell_type": "code",
   "execution_count": 113,
   "metadata": {
    "collapsed": false,
    "slideshow": {
     "slide_type": "skip"
    }
   },
   "outputs": [
    {
     "name": "stdout",
     "output_type": "stream",
     "text": [
      "['listen', 'silent']\n",
      "['meteor', 'remote']\n"
     ]
    }
   ],
   "source": [
    "anagrams = collections.defaultdict(list)\n",
    "for w in words:\n",
    "    # Because lists are not hashable\n",
    "    anagrams[tuple(sorted(w))].append(w)\n",
    "\n",
    "for words_ in anagrams.values():\n",
    "    # 'dawn' doesn't match anything else\n",
    "    if len(words_) >= 2:\n",
    "        print(words_)"
   ]
  },
  {
   "cell_type": "markdown",
   "metadata": {
    "slideshow": {
     "slide_type": "skip"
    }
   },
   "source": [
    "### Kung Fu version"
   ]
  },
  {
   "cell_type": "code",
   "execution_count": 114,
   "metadata": {
    "collapsed": false,
    "slideshow": {
     "slide_type": "skip"
    }
   },
   "outputs": [
    {
     "name": "stdout",
     "output_type": "stream",
     "text": [
      "['meteor', 'remote']\n",
      "['listen', 'silent']\n"
     ]
    }
   ],
   "source": [
    "words.sort(key=sorted)\n",
    "for _, group in itertools.groupby(words, key=sorted):\n",
    "    words_ = list(group)\n",
    "    if len(words_) >= 2:\n",
    "        print(words_)"
   ]
  },
  {
   "cell_type": "code",
   "execution_count": 115,
   "metadata": {
    "collapsed": true,
    "slideshow": {
     "slide_type": "skip"
    }
   },
   "outputs": [],
   "source": [
    "%matplotlib inline"
   ]
  },
  {
   "cell_type": "markdown",
   "metadata": {
    "slideshow": {
     "slide_type": "subslide"
    }
   },
   "source": [
    "# Consecutive values over a threshold\n",
    "\n",
    "Let's say we have this function:\n",
    "\n",
    "$\\frac{x^3}{14} + \\frac{x^2}{14} - \\frac{13 x}{14} - \\frac{1}{14}$"
   ]
  },
  {
   "cell_type": "code",
   "execution_count": 116,
   "metadata": {
    "collapsed": false
   },
   "outputs": [
    {
     "data": {
      "text/plain": [
       "-0.5089285714285714"
      ]
     },
     "execution_count": 117,
     "metadata": {},
     "output_type": "execute_result"
    }
   ],
   "source": [
    "import numpy\n",
    "\n",
    "# Build polynomial from coefficients\n",
    "coeffs = [1/14, 1/14, -13/14, -1/14]\n",
    "func = numpy.poly1d(coeffs)\n",
    "\n",
    "func(0.5) # evaluate function at 0.5"
   ]
  },
  {
   "cell_type": "markdown",
   "metadata": {
    "slideshow": {
     "slide_type": "-"
    }
   },
   "source": [
    "Maths! Run for your lives!"
   ]
  },
  {
   "cell_type": "markdown",
   "metadata": {
    "slideshow": {
     "slide_type": "subslide"
    }
   },
   "source": [
    "### It looks like this"
   ]
  },
  {
   "cell_type": "code",
   "execution_count": 118,
   "metadata": {
    "collapsed": false,
    "slideshow": {
     "slide_type": "-"
    }
   },
   "outputs": [],
   "source": [
    "from matplotlib import pyplot\n",
    "xp = numpy.linspace(-4, 4.5, 100)\n",
    "pyplot.plot(xp, func(xp), 'b', alpha = 0.7)\n",
    "pyplot.grid(True)"
   ]
  },
  {
   "cell_type": "markdown",
   "metadata": {
    "slideshow": {
     "slide_type": "-"
    }
   },
   "source": [
    "<img src=\"./images/curve-one.svg\"/>"
   ]
  },
  {
   "cell_type": "markdown",
   "metadata": {
    "slideshow": {
     "slide_type": "subslide"
    }
   },
   "source": [
    "### Let's say it's time versus some value we're monitoring"
   ]
  },
  {
   "cell_type": "markdown",
   "metadata": {
    "slideshow": {
     "slide_type": "-"
    }
   },
   "source": [
    "<img src=\"./images/curve-two.svg\"/>"
   ]
  },
  {
   "cell_type": "markdown",
   "metadata": {},
   "source": [
    "We want to **trigger an alarm** if we spent $>= 3$ seconds below zero."
   ]
  },
  {
   "cell_type": "code",
   "execution_count": 119,
   "metadata": {
    "collapsed": false,
    "slideshow": {
     "slide_type": "skip"
    }
   },
   "outputs": [
    {
     "name": "stdout",
     "output_type": "stream",
     "text": [
      "[-4.106  3.183 -0.077]\n"
     ]
    },
    {
     "data": {
      "image/png": "[encoded data removed]",
      "text/plain": [
       "<matplotlib.figure.Figure at 0x7fdb81ff0f28>"
      ]
     },
     "metadata": {},
     "output_type": "display_data"
    }
   ],
   "source": [
    "import numpy\n",
    "from matplotlib import pyplot\n",
    "\n",
    "coeffs = [1/14, 1/14, -13/14, -1/14]\n",
    "func = numpy.poly1d(coeffs)\n",
    "\n",
    "print(numpy.roots(coeffs))\n",
    "\n",
    "\n",
    "xp = numpy.linspace(-4, 4.5, 100)\n",
    "\n",
    "xzero = numpy.linspace(-0.077, 3.183, 100)\n",
    "yzero = func(xzero)\n",
    "\n",
    "pyplot.plot(xp, func(xp), 'b', alpha = 0.7)\n",
    "pyplot.grid(True)\n",
    "pyplot.xlabel(\"Time\")\n",
    "pyplot.ylabel(\"Important Thing\")\n",
    "pyplot.fill_between(xzero, 0, func(xzero), facecolor='red')\n",
    "pyplot.savefig(\"images/curve-three.svg\")"
   ]
  },
  {
   "cell_type": "markdown",
   "metadata": {
    "slideshow": {
     "slide_type": "subslide"
    }
   },
   "source": [
    "We know that the answer is yes...\n",
    "\n",
    "<img src=\"./images/curve-three.svg\"/>\n",
    "\n",
    "How do we do it... in code?"
   ]
  },
  {
   "cell_type": "code",
   "execution_count": 120,
   "metadata": {
    "collapsed": true,
    "slideshow": {
     "slide_type": "skip"
    }
   },
   "outputs": [],
   "source": [
    "# Use three decimal digits\n",
    "numpy.set_printoptions(precision=3)"
   ]
  },
  {
   "cell_type": "markdown",
   "metadata": {
    "slideshow": {
     "slide_type": "subslide"
    }
   },
   "source": [
    "For simplicity, evaluate it only at integers."
   ]
  },
  {
   "cell_type": "code",
   "execution_count": 121,
   "metadata": {
    "collapsed": false
   },
   "outputs": [
    {
     "name": "stdout",
     "output_type": "stream",
     "text": [
      "f(-4) -> 0.214\n",
      "f(-3) -> 1.429\n",
      "f(-2) -> 1.500\n",
      "f(-1) -> 0.857\n",
      "f(0) -> -0.071\n",
      "f(1) -> -0.857\n",
      "f(2) -> -1.071\n",
      "f(3) -> -0.286\n",
      "f(4) -> 1.929\n"
     ]
    }
   ],
   "source": [
    "xp = range(-4, 5)\n",
    "yp = func(xp)\n",
    "\n",
    "for x, y in zip(xp, yp):\n",
    "    print(\"f({}) -> {:.3f}\".format(x, y))"
   ]
  },
  {
   "cell_type": "markdown",
   "metadata": {},
   "source": [
    "Are there three consecutive points here with negative sign?"
   ]
  },
  {
   "cell_type": "markdown",
   "metadata": {
    "slideshow": {
     "slide_type": "subslide"
    }
   },
   "source": [
    "## It's as simple as this"
   ]
  },
  {
   "cell_type": "code",
   "execution_count": 122,
   "metadata": {
    "collapsed": false,
    "slideshow": {
     "slide_type": "-"
    }
   },
   "outputs": [
    {
     "name": "stdout",
     "output_type": "stream",
     "text": [
      "False -> [ 0.214  1.429  1.5    0.857]\n",
      "True -> [-0.071 -0.857 -1.071 -0.286]\n",
      "Trigger alarm!!\n"
     ]
    }
   ],
   "source": [
    "# Group the func(x) values by whether they're negative or not.\n",
    "for is_negative, group in itertools.groupby(yp, key=lambda x: x < 0):\n",
    "    values = numpy.array(list(group))\n",
    "    print(is_negative, \"->\", values)\n",
    "    \n",
    "    if is_negative and len(values) >= 3:\n",
    "        print(\"Trigger alarm!!\")\n",
    "        break"
   ]
  },
  {
   "cell_type": "markdown",
   "metadata": {},
   "source": [
    "Don't even try to implement this without `groupby()`."
   ]
  },
  {
   "cell_type": "markdown",
   "metadata": {
    "slideshow": {
     "slide_type": "subslide"
    }
   },
   "source": [
    "<img src=\"./images/Dashi.jpg\" style=\"height: 400px; width:auto\"/>\n",
    "\n",
    "[Photo](https://en.wikipedia.org/wiki/File:Wushu_dao.jpg) by AEMHZ~commonswiki / [CC BY-SA 3.0](https://creativecommons.org/licenses/by-sa/3.0/deed.en) / Cropped from original"
   ]
  },
  {
   "cell_type": "markdown",
   "metadata": {
    "slideshow": {
     "slide_type": "skip"
    }
   },
   "source": [
    "<img src=\"./images/Wushu_Dao.jpg\" style=\"height: 400px; width:auto\"/>\n",
    "\n",
    "[Photo](https://en.wikipedia.org/wiki/File:Wushu_dao.jpg) by Alexandre Ferreira / [CC BY-SA 2.0](https://creativecommons.org/licenses/by-sa/2.0/) / Cropped from original"
   ]
  },
  {
   "cell_type": "markdown",
   "metadata": {
    "slideshow": {
     "slide_type": "skip"
    }
   },
   "source": [
    "# Iterators are a one-way road\n",
    "\n",
    "In order to check how many elements there are in a iterator we need to consume it."
   ]
  },
  {
   "cell_type": "code",
   "execution_count": 123,
   "metadata": {
    "collapsed": false,
    "slideshow": {
     "slide_type": "skip"
    }
   },
   "outputs": [
    {
     "data": {
      "text/plain": [
       "100"
      ]
     },
     "execution_count": 124,
     "metadata": {},
     "output_type": "execute_result"
    }
   ],
   "source": [
    "g = (x ** 2 for x in range(1, 101))\n",
    "sum(1 for _ in g)"
   ]
  },
  {
   "cell_type": "markdown",
   "metadata": {
    "slideshow": {
     "slide_type": "skip"
    }
   },
   "source": [
    "Which... works, but the generator is now exhausted, so we can't use it anymore. "
   ]
  },
  {
   "cell_type": "code",
   "execution_count": 125,
   "metadata": {
    "collapsed": false,
    "slideshow": {
     "slide_type": "skip"
    }
   },
   "outputs": [
    {
     "data": {
      "text/plain": [
       "[]"
      ]
     },
     "execution_count": 126,
     "metadata": {},
     "output_type": "execute_result"
    }
   ],
   "source": [
    "list(g) # iterator is empty, so empty list"
   ]
  },
  {
   "cell_type": "markdown",
   "metadata": {
    "slideshow": {
     "slide_type": "skip"
    }
   },
   "source": [
    "There is no way we can go backwards in the traversal of the iterator."
   ]
  },
  {
   "cell_type": "markdown",
   "metadata": {
    "slideshow": {
     "slide_type": "skip"
    }
   },
   "source": [
    "## There's no going back\n",
    "\n",
    "Every time we call `next()` the iterator moves one step forward — forever."
   ]
  },
  {
   "cell_type": "code",
   "execution_count": 127,
   "metadata": {
    "collapsed": false,
    "slideshow": {
     "slide_type": "skip"
    }
   },
   "outputs": [],
   "source": [
    "it = iter(\"abcdefghijk\")\n",
    "next(it) # 'a'\n",
    "next(it) # now b, we'll never see 'a' again"
   ]
  },
  {
   "cell_type": "markdown",
   "metadata": {
    "slideshow": {
     "slide_type": "skip"
    }
   },
   "source": [
    "That's why, if we'll need each element more than once, we need to store them in a list."
   ]
  },
  {
   "cell_type": "markdown",
   "metadata": {
    "slideshow": {
     "slide_type": "skip"
    }
   },
   "source": [
    "## `itertools.tee()`\n",
    "\n",
    "- Returns $n$ independent iterators from a single iterable.\n",
    "- This allows us to move forward using of these iterators...\n",
    "- ... while the rest still point at the same place."
   ]
  },
  {
   "cell_type": "code",
   "execution_count": 128,
   "metadata": {
    "collapsed": false,
    "slideshow": {
     "slide_type": "skip"
    }
   },
   "outputs": [
    {
     "name": "stdout",
     "output_type": "stream",
     "text": [
      "2\n",
      "4\n"
     ]
    }
   ],
   "source": [
    "even = itertools.count(2, step=2)\n",
    "a, b = itertools.tee(even)\n",
    "\n",
    "print(next(a)) # 2\n",
    "print(next(a)) # 4"
   ]
  },
  {
   "cell_type": "markdown",
   "metadata": {
    "slideshow": {
     "slide_type": "skip"
    }
   },
   "source": [
    "We haven't yet called `next()` with `b`, to it's still at $2$."
   ]
  },
  {
   "cell_type": "code",
   "execution_count": 129,
   "metadata": {
    "collapsed": false,
    "slideshow": {
     "slide_type": "skip"
    }
   },
   "outputs": [
    {
     "name": "stdout",
     "output_type": "stream",
     "text": [
      "4\n"
     ]
    }
   ],
   "source": [
    "print(next(b)) # 2"
   ]
  },
  {
   "cell_type": "markdown",
   "metadata": {
    "slideshow": {
     "slide_type": "skip"
    }
   },
   "source": [
    "## Measuring an iterator, Part II\n",
    "\n",
    "We could be tempted to do something like this:"
   ]
  },
  {
   "cell_type": "code",
   "execution_count": 130,
   "metadata": {
    "collapsed": false,
    "slideshow": {
     "slide_type": "skip"
    }
   },
   "outputs": [
    {
     "name": "stdout",
     "output_type": "stream",
     "text": [
      "Length: 100\n"
     ]
    }
   ],
   "source": [
    "g = (x ** 2 for x in range(1, 101))\n",
    "\n",
    "# Fork the iterator, rebind name 'g'\n",
    "g, tmp = itertools.tee(g)\n",
    "length = sum(1 for _ in tmp)\n",
    "print(\"Length:\", length)"
   ]
  },
  {
   "cell_type": "markdown",
   "metadata": {
    "slideshow": {
     "slide_type": "skip"
    }
   },
   "source": [
    "- We have exahusted the original iterator `g`...\n",
    "- ... but we use the same name for one of the copies.\n",
    "- The other copy, `tmp`, is the one we use for counting."
   ]
  },
  {
   "cell_type": "markdown",
   "metadata": {
    "slideshow": {
     "slide_type": "skip"
    }
   },
   "source": [
    "## However...\n",
    "\n",
    "This is a bad idea. From [the documentation](https://docs.python.org/3/library/itertools.html#itertools.tee):\n",
    "\n",
    "> This itertool may require significant auxiliary storage (depending on how much temporary data needs to be stored). In general, if one iterator uses most or all of the data before another iterator starts, it is faster to use `list()` instead of `tee()`.\n",
    "\n",
    "These independent iterators need to store the elements in memory until they've been consumed by all the elements, so if we are going to exahust one of the iterators we're better off by simply using a list."
   ]
  },
  {
   "cell_type": "code",
   "execution_count": 131,
   "metadata": {
    "collapsed": false,
    "slideshow": {
     "slide_type": "skip"
    }
   },
   "outputs": [
    {
     "name": "stdout",
     "output_type": "stream",
     "text": [
      "10\n"
     ]
    }
   ],
   "source": [
    "g = (x ** 2 for x in range(1, 11))\n",
    "g = list(g)\n",
    "print(len(g))"
   ]
  },
  {
   "cell_type": "code",
   "execution_count": 132,
   "metadata": {
    "collapsed": false,
    "slideshow": {
     "slide_type": "skip"
    }
   },
   "outputs": [
    {
     "name": "stdout",
     "output_type": "stream",
     "text": [
      "[1, 4, 9, 16, 25, 36, 49, 64, 81, 100]\n"
     ]
    }
   ],
   "source": [
    "print(g)"
   ]
  },
  {
   "cell_type": "markdown",
   "metadata": {
    "slideshow": {
     "slide_type": "skip"
    }
   },
   "source": [
    "## When is this iseful, then?\n",
    "\n",
    "When the independent generators are going to be used more or less **at the same time**.\n",
    "\n",
    "For example, if we need to compute the difference between consecutive elements in list:"
   ]
  },
  {
   "cell_type": "code",
   "execution_count": 133,
   "metadata": {
    "collapsed": false,
    "slideshow": {
     "slide_type": "skip"
    }
   },
   "outputs": [
    {
     "data": {
      "text/plain": [
       "[4, 2]"
      ]
     },
     "execution_count": 134,
     "metadata": {},
     "output_type": "execute_result"
    }
   ],
   "source": [
    "numbers = [1, 5, 7]\n",
    "\n",
    "# The output will be [4, 2], because 5 - 1 = 4 and 7 - 5 = 2\n",
    "\n",
    "def diff(sequence):\n",
    "    # Pair element with the previous one\n",
    "    pairs = zip(sequence, sequence[1:])\n",
    "    return [p[1] - p[0] for p in pairs]\n",
    "\n",
    "diff(numbers)"
   ]
  },
  {
   "cell_type": "markdown",
   "metadata": {
    "slideshow": {
     "slide_type": "skip"
    }
   },
   "source": [
    "However, we can't use this with a generator, because **we can't use slicing**."
   ]
  },
  {
   "cell_type": "code",
   "execution_count": 135,
   "metadata": {
    "collapsed": false,
    "slideshow": {
     "slide_type": "skip"
    }
   },
   "outputs": [
    {
     "ename": "TypeError",
     "evalue": "'generator' object is not subscriptable",
     "output_type": "error",
     "traceback": [
      "\u001b[1;31m---------------------------------------------------------------------------\u001b[0m",
      "\u001b[1;31mTypeError\u001b[0m                                 Traceback (most recent call last)",
      "\u001b[1;32m<ipython-input-203-68105e15ad18>\u001b[0m in \u001b[0;36m<module>\u001b[1;34m()\u001b[0m\n\u001b[0;32m      1\u001b[0m \u001b[0mnumbers\u001b[0m \u001b[1;33m=\u001b[0m \u001b[1;33m(\u001b[0m\u001b[0mx\u001b[0m \u001b[1;33m**\u001b[0m \u001b[1;36m2\u001b[0m \u001b[1;32mfor\u001b[0m \u001b[0mx\u001b[0m \u001b[1;32min\u001b[0m \u001b[1;33m[\u001b[0m\u001b[1;36m1\u001b[0m\u001b[1;33m,\u001b[0m \u001b[1;36m5\u001b[0m\u001b[1;33m,\u001b[0m \u001b[1;36m7\u001b[0m\u001b[1;33m]\u001b[0m\u001b[1;33m)\u001b[0m\u001b[1;33m\u001b[0m\u001b[0m\n\u001b[0;32m      2\u001b[0m \u001b[1;33m\u001b[0m\u001b[0m\n\u001b[1;32m----> 3\u001b[1;33m \u001b[0mdiff\u001b[0m\u001b[1;33m(\u001b[0m\u001b[0mnumbers\u001b[0m\u001b[1;33m)\u001b[0m\u001b[1;33m\u001b[0m\u001b[0m\n\u001b[0m",
      "\u001b[1;32m<ipython-input-202-5d32da35753d>\u001b[0m in \u001b[0;36mdiff\u001b[1;34m(sequence)\u001b[0m\n\u001b[0;32m      5\u001b[0m \u001b[1;32mdef\u001b[0m \u001b[0mdiff\u001b[0m\u001b[1;33m(\u001b[0m\u001b[0msequence\u001b[0m\u001b[1;33m)\u001b[0m\u001b[1;33m:\u001b[0m\u001b[1;33m\u001b[0m\u001b[0m\n\u001b[0;32m      6\u001b[0m     \u001b[1;31m# Pair element with the previous one\u001b[0m\u001b[1;33m\u001b[0m\u001b[1;33m\u001b[0m\u001b[0m\n\u001b[1;32m----> 7\u001b[1;33m     \u001b[0mpairs\u001b[0m \u001b[1;33m=\u001b[0m \u001b[0mzip\u001b[0m\u001b[1;33m(\u001b[0m\u001b[0msequence\u001b[0m\u001b[1;33m,\u001b[0m \u001b[0msequence\u001b[0m\u001b[1;33m[\u001b[0m\u001b[1;36m1\u001b[0m\u001b[1;33m:\u001b[0m\u001b[1;33m]\u001b[0m\u001b[1;33m)\u001b[0m\u001b[1;33m\u001b[0m\u001b[0m\n\u001b[0m\u001b[0;32m      8\u001b[0m     \u001b[1;32mreturn\u001b[0m \u001b[1;33m[\u001b[0m\u001b[0mp\u001b[0m\u001b[1;33m[\u001b[0m\u001b[1;36m1\u001b[0m\u001b[1;33m]\u001b[0m \u001b[1;33m-\u001b[0m \u001b[0mp\u001b[0m\u001b[1;33m[\u001b[0m\u001b[1;36m0\u001b[0m\u001b[1;33m]\u001b[0m \u001b[1;32mfor\u001b[0m \u001b[0mp\u001b[0m \u001b[1;32min\u001b[0m \u001b[0mpairs\u001b[0m\u001b[1;33m]\u001b[0m\u001b[1;33m\u001b[0m\u001b[0m\n\u001b[0;32m      9\u001b[0m \u001b[1;33m\u001b[0m\u001b[0m\n",
      "\u001b[1;31mTypeError\u001b[0m: 'generator' object is not subscriptable"
     ]
    }
   ],
   "source": [
    "numbers = (x ** 2 for x in [1, 5, 7])\n",
    "\n",
    "diff(numbers)"
   ]
  },
  {
   "cell_type": "markdown",
   "metadata": {
    "slideshow": {
     "slide_type": "skip"
    }
   },
   "source": [
    "## `tee()`  to the rescue\n",
    "\n",
    "This is a job `tee()` was designed for:"
   ]
  },
  {
   "cell_type": "code",
   "execution_count": 136,
   "metadata": {
    "collapsed": false,
    "slideshow": {
     "slide_type": "skip"
    }
   },
   "outputs": [
    {
     "data": {
      "text/plain": [
       "[4, 2]"
      ]
     },
     "execution_count": 137,
     "metadata": {},
     "output_type": "execute_result"
    }
   ],
   "source": [
    "def diff(iterable):\n",
    "    a, b = itertools.tee(iterable)\n",
    "    next(b)\n",
    "    return [p[1] - p[0] for p in zip(a, b)]\n",
    "\n",
    "numbers = (x for x in [1, 5, 7])\n",
    "diff(numbers)"
   ]
  },
  {
   "cell_type": "markdown",
   "metadata": {
    "slideshow": {
     "slide_type": "skip"
    }
   },
   "source": [
    "## NumPy already did it\n",
    "\n",
    "By the way, if we're working with sequences NumPy already includes [a function for this](http://docs.scipy.org/doc/numpy/reference/generated/numpy.diff.html):"
   ]
  },
  {
   "cell_type": "code",
   "execution_count": 138,
   "metadata": {
    "collapsed": false,
    "slideshow": {
     "slide_type": "skip"
    }
   },
   "outputs": [
    {
     "data": {
      "text/plain": [
       "array([4, 2])"
      ]
     },
     "execution_count": 139,
     "metadata": {},
     "output_type": "execute_result"
    }
   ],
   "source": [
    "import numpy\n",
    "numpy.diff([1, 5, 7])"
   ]
  },
  {
   "cell_type": "markdown",
   "metadata": {
    "slideshow": {
     "slide_type": "skip"
    }
   },
   "source": [
    "Don't reinvent the wheel!"
   ]
  },
  {
   "cell_type": "markdown",
   "metadata": {
    "slideshow": {
     "slide_type": "slide"
    }
   },
   "source": [
    "# A NeverEnding Story\n",
    "\n",
    "How do we alternate indefinitely between -1 and 1?\n",
    "\n",
    "### Absolute n00b version"
   ]
  },
  {
   "cell_type": "code",
   "execution_count": 140,
   "metadata": {
    "collapsed": false
   },
   "outputs": [],
   "source": [
    "x = 1\n",
    "while True:\n",
    "    print(x)\n",
    "    if x == 1:\n",
    "        x = -1\n",
    "    else:\n",
    "        x = 1"
   ]
  },
  {
   "cell_type": "markdown",
   "metadata": {},
   "source": [
    "An infinite loop, of catastrophic consequences if executed."
   ]
  },
  {
   "cell_type": "markdown",
   "metadata": {
    "slideshow": {
     "slide_type": "subslide"
    }
   },
   "source": [
    "### A little-less-beginner version"
   ]
  },
  {
   "cell_type": "code",
   "execution_count": 141,
   "metadata": {
    "collapsed": true
   },
   "outputs": [],
   "source": [
    "x = 1\n",
    "while True:\n",
    "    print(x)\n",
    "    x *= -1"
   ]
  },
  {
   "cell_type": "markdown",
   "metadata": {},
   "source": [
    "We're all still going to die if we run this."
   ]
  },
  {
   "cell_type": "markdown",
   "metadata": {
    "slideshow": {
     "slide_type": "skip"
    }
   },
   "source": [
    "### The FIFO version\n",
    "\n",
    "Using a [first in, first out](https://en.wikipedia.org/wiki/FIFO_(computing_and_electronics) queue."
   ]
  },
  {
   "cell_type": "code",
   "execution_count": 142,
   "metadata": {
    "collapsed": false,
    "slideshow": {
     "slide_type": "skip"
    }
   },
   "outputs": [],
   "source": [
    "import collections\n",
    "\n",
    "class Alternate(object):\n",
    "    \"\"\"Alternate between 1 and -1 endlessly, via pop().\"\"\"\n",
    "    \n",
    "    def __init__(self):\n",
    "        self.values = collections.deque()\n",
    "        self._refill()\n",
    "\n",
    "    def _refill(self):\n",
    "        \"\"\"Insert some 1's and -1's in the queue.\"\"\"\n",
    "        self.values.extend([1, -1] * 10)\n",
    "               \n",
    "    def __len__(self):\n",
    "        return len(self.values)\n",
    "\n",
    "    def pop(self):\n",
    "        \"\"\"Return the next 1 or -1 value.\"\"\"\n",
    "        \n",
    "        # We ran out of values, so generate a few more.\n",
    "        if not len(self):\n",
    "            self._refill()\n",
    "        return self.values.popleft()"
   ]
  },
  {
   "cell_type": "markdown",
   "metadata": {
    "slideshow": {
     "slide_type": "skip"
    }
   },
   "source": [
    "The [`collections`](https://docs.python.org/3/library/collections.html#collections.deque) module is awesome, but this is totally overkill."
   ]
  },
  {
   "cell_type": "markdown",
   "metadata": {
    "slideshow": {
     "slide_type": "subslide"
    }
   },
   "source": [
    "### The pr0 version\n",
    "\n",
    "The *\"I was paying attention, so I know we have to use a generator\"* approach:"
   ]
  },
  {
   "cell_type": "code",
   "execution_count": 143,
   "metadata": {
    "collapsed": false
   },
   "outputs": [
    {
     "name": "stdout",
     "output_type": "stream",
     "text": [
      "1\n",
      "-1\n",
      "1\n"
     ]
    }
   ],
   "source": [
    "def alternate():\n",
    "    \"\"\"Alternate between 1 and -1 endlessly.\"\"\"\n",
    "\n",
    "    x = 1\n",
    "    while True:\n",
    "        yield x\n",
    "        x *= -1\n",
    "\n",
    "        \n",
    "ones = alternate()\n",
    "print(next(ones)) #  1\n",
    "print(next(ones)) # -1\n",
    "print(next(ones)) #  1\n",
    "# ..."
   ]
  },
  {
   "cell_type": "markdown",
   "metadata": {
    "slideshow": {
     "slide_type": "subslide"
    }
   },
   "source": [
    "### Kung Fu version"
   ]
  },
  {
   "cell_type": "code",
   "execution_count": 144,
   "metadata": {
    "collapsed": false
   },
   "outputs": [
    {
     "name": "stdout",
     "output_type": "stream",
     "text": [
      "1\n",
      "-1\n",
      "1\n",
      "-1\n",
      "1\n"
     ]
    }
   ],
   "source": [
    "ones = itertools.cycle([1, -1])\n",
    "\n",
    "print(next(ones)) #  1\n",
    "print(next(ones)) # -1\n",
    "print(next(ones)) #  1\n",
    "print(next(ones)) # -1\n",
    "print(next(ones)) #  1\n",
    "# ..."
   ]
  },
  {
   "cell_type": "markdown",
   "metadata": {
    "slideshow": {
     "slide_type": "subslide"
    }
   },
   "source": [
    "## `itertools.cycle()`\n",
    "- Make an iterator returning elements from the iterable...\n",
    "- ... and save a copy of each of the returned elements.\n",
    "- When the iterable is exhausted, iterate over the saved copy.\n",
    "- Repeat indefinitely, until the end of time."
   ]
  },
  {
   "cell_type": "code",
   "execution_count": 145,
   "metadata": {
    "collapsed": false
   },
   "outputs": [
    {
     "name": "stdout",
     "output_type": "stream",
     "text": [
      "<itertools.cycle object at 0x7fdbbc0929c8>\n",
      "a\n",
      "e\n",
      "i\n",
      "o\n",
      "u\n",
      "a\n",
      "e\n",
      "i\n",
      "o\n",
      "u\n"
     ]
    }
   ],
   "source": [
    "vowels = itertools.cycle(\"aeiou\")\n",
    "\n",
    "# Endless generator, so we need islice()\n",
    "for v in itertools.islice(vowels, 10):\n",
    "    print(v)"
   ]
  },
  {
   "cell_type": "code",
   "execution_count": 146,
   "metadata": {
    "collapsed": false,
    "slideshow": {
     "slide_type": "subslide"
    }
   },
   "outputs": [
    {
     "name": "stdout",
     "output_type": "stream",
     "text": [
      "[1, 4, 9, 1, 4, 9, 1, 4, 9, 1, 4]\n"
     ]
    },
    {
     "ename": "StopIteration",
     "evalue": "",
     "output_type": "error",
     "traceback": [
      "\u001b[1;31m---------------------------------------------------------------------------\u001b[0m",
      "\u001b[1;31mStopIteration\u001b[0m                             Traceback (most recent call last)",
      "\u001b[1;32m<ipython-input-255-72476760cd5d>\u001b[0m in \u001b[0;36m<module>\u001b[1;34m()\u001b[0m\n\u001b[0;32m      5\u001b[0m \u001b[1;33m\u001b[0m\u001b[0m\n\u001b[0;32m      6\u001b[0m \u001b[1;31m# We've exahusted the generator...\u001b[0m\u001b[1;33m\u001b[0m\u001b[1;33m\u001b[0m\u001b[0m\n\u001b[1;32m----> 7\u001b[1;33m \u001b[0mnext\u001b[0m\u001b[1;33m(\u001b[0m\u001b[0mg\u001b[0m\u001b[1;33m)\u001b[0m \u001b[1;31m# StopIteration\u001b[0m\u001b[1;33m\u001b[0m\u001b[0m\n\u001b[0m",
      "\u001b[1;31mStopIteration\u001b[0m: "
     ]
    }
   ],
   "source": [
    "g = (x ** 2  for x in range(1, 4))\n",
    "\n",
    "squares = itertools.cycle(g)\n",
    "print(list(itertools.islice(squares, 11)))\n",
    "\n",
    "# We've exahusted the generator...\n",
    "\n",
    "next(g) # StopIteration"
   ]
  },
  {
   "cell_type": "code",
   "execution_count": 147,
   "metadata": {
    "collapsed": false
   },
   "outputs": [
    {
     "data": {
      "text/plain": [
       "9"
      ]
     },
     "execution_count": 148,
     "metadata": {},
     "output_type": "execute_result"
    }
   ],
   "source": [
    "# ... but 'cycle' still keeps a copy.\n",
    "\n",
    "next(squares) # 9"
   ]
  },
  {
   "cell_type": "markdown",
   "metadata": {
    "slideshow": {
     "slide_type": "skip"
    }
   },
   "source": [
    "## Waiting patiently\n",
    "\n",
    "A real-life case where `cycle()` proves useful:"
   ]
  },
  {
   "cell_type": "code",
   "execution_count": 149,
   "metadata": {
    "collapsed": false,
    "slideshow": {
     "slide_type": "skip"
    }
   },
   "outputs": [],
   "source": [
    "import itertools\n",
    "import sys\n",
    "import time\n",
    "\n",
    "def sleep(seconds):\n",
    "    \"\"\"Show an animated spinner while we sleep.\"\"\"\n",
    "    \n",
    "    symbols = itertools.cycle('-\\|/')\n",
    "    tend = time.time() + seconds\n",
    "    while time.time() < tend:\n",
    "        # '\\r' is carriage return: return cursor to the start of the line.\n",
    "        sys.stdout.write('\\rPlease wait... ' + next(symbols)) # no newline\n",
    "        sys.stdout.flush()\n",
    "        time.sleep(0.1)\n",
    "    print() # newline\n",
    "    \n",
    "if __name__ == \"__main__\":     \n",
    "    sleep(20)"
   ]
  },
  {
   "cell_type": "markdown",
   "metadata": {
    "slideshow": {
     "slide_type": "skip"
    }
   },
   "source": [
    "[![asciicast](https://asciinema.org/a/8ocljajktav6nkm3lbtrv7i8l.png)](https://asciinema.org/a/8ocljajktav6nkm3lbtrv7i8l?size=medium&t=3&autoplay=1)"
   ]
  },
  {
   "cell_type": "markdown",
   "metadata": {
    "slideshow": {
     "slide_type": "subslide"
    }
   },
   "source": [
    "# Iterating over *two* (or more) iterables\n",
    "\n",
    "Let's count from $1$ to $10$, then down to $1$ again, and so on."
   ]
  },
  {
   "cell_type": "code",
   "execution_count": 150,
   "metadata": {
    "collapsed": false
   },
   "outputs": [
    {
     "name": "stdout",
     "output_type": "stream",
     "text": [
      "Up  : [1, 2, 3, 4, 5, 6, 7, 8, 9, 10]\n",
      "Down: [9, 8, 7, 6, 5, 4, 3, 2]\n"
     ]
    }
   ],
   "source": [
    "up   = list(range(1, 11))\n",
    "down = list(reversed(range(2, 10)))\n",
    "\n",
    "print(\"Up  :\", up)\n",
    "print(\"Down:\", down)"
   ]
  },
  {
   "cell_type": "code",
   "execution_count": 151,
   "metadata": {
    "collapsed": false
   },
   "outputs": [
    {
     "ename": "TypeError",
     "evalue": "cycle expected 1 arguments, got 2",
     "output_type": "error",
     "traceback": [
      "\u001b[1;31m---------------------------------------------------------------------------\u001b[0m",
      "\u001b[1;31mTypeError\u001b[0m                                 Traceback (most recent call last)",
      "\u001b[1;32m<ipython-input-280-6bbd502d3adb>\u001b[0m in \u001b[0;36m<module>\u001b[1;34m()\u001b[0m\n\u001b[1;32m----> 1\u001b[1;33m \u001b[0mitertools\u001b[0m\u001b[1;33m.\u001b[0m\u001b[0mcycle\u001b[0m\u001b[1;33m(\u001b[0m\u001b[0mnumbers\u001b[0m\u001b[1;33m,\u001b[0m \u001b[0mvowels\u001b[0m\u001b[1;33m)\u001b[0m\u001b[1;33m\u001b[0m\u001b[0m\n\u001b[0m",
      "\u001b[1;31mTypeError\u001b[0m: cycle expected 1 arguments, got 2"
     ]
    }
   ],
   "source": [
    "itertools.cycle(numbers, vowels)"
   ]
  },
  {
   "cell_type": "markdown",
   "metadata": {},
   "source": [
    "We have a problem — `cycle()` only accepts an iterable."
   ]
  },
  {
   "cell_type": "markdown",
   "metadata": {
    "slideshow": {
     "slide_type": "subslide"
    }
   },
   "source": [
    "And, by extension, what do we do if we want to loop over two iterables? This?"
   ]
  },
  {
   "cell_type": "code",
   "execution_count": 152,
   "metadata": {
    "collapsed": false
   },
   "outputs": [
    {
     "name": "stdout",
     "output_type": "stream",
     "text": [
      "1\n",
      "2\n",
      "3\n",
      "a\n",
      "e\n",
      "i\n",
      "o\n",
      "u\n"
     ]
    }
   ],
   "source": [
    "numbers = [1, 2, 3]\n",
    "vowels = \"aeiou\"\n",
    "\n",
    "for item in numbers:\n",
    "    print(item)\n",
    "for item in vowels:\n",
    "    print(item)"
   ]
  },
  {
   "cell_type": "markdown",
   "metadata": {},
   "source": [
    "There must be a better way — as [Raymond Hettinger always reminds us](https://youtu.be/wf-BqAjZb8M?t=23m7s)."
   ]
  },
  {
   "cell_type": "markdown",
   "metadata": {
    "slideshow": {
     "slide_type": "subslide"
    }
   },
   "source": [
    "## `itertools.chain()`\n",
    "- Make an iterator returning elements from the first iterable...\n",
    "- ... then proceed to the next iterable...\n",
    "- ... and so on until all of the iterables are exhausted."
   ]
  },
  {
   "cell_type": "code",
   "execution_count": 153,
   "metadata": {
    "collapsed": false
   },
   "outputs": [
    {
     "name": "stdout",
     "output_type": "stream",
     "text": [
      "1\n",
      "2\n",
      "3\n",
      "a\n",
      "e\n",
      "i\n",
      "o\n",
      "u\n"
     ]
    }
   ],
   "source": [
    "numbers = [1, 2, 3]\n",
    "vowels = \"aeiou\"\n",
    "\n",
    "for item in itertools.chain(numbers, vowels):\n",
    "    print(item)"
   ]
  },
  {
   "cell_type": "markdown",
   "metadata": {
    "slideshow": {
     "slide_type": "subslide"
    }
   },
   "source": [
    "So going back to what we wanted to do..."
   ]
  },
  {
   "cell_type": "code",
   "execution_count": 154,
   "metadata": {
    "collapsed": false
   },
   "outputs": [
    {
     "data": {
      "text/plain": [
       "[1, 2, 3, 4, 5, 6, 7, 8, 9, 10, 9, 8, 7, 6, 5, 4, 3, 2, 1, 2, 3, 4, 5, 6, 7]"
      ]
     },
     "execution_count": 155,
     "metadata": {},
     "output_type": "execute_result"
    }
   ],
   "source": [
    "up   = range(1, 11)\n",
    "down = reversed(range(2, 10))\n",
    "\n",
    "numbers = itertools.cycle(itertools.chain(up, down))\n",
    "list(itertools.islice(numbers, 25))"
   ]
  },
  {
   "cell_type": "markdown",
   "metadata": {
    "slideshow": {
     "slide_type": "skip"
    }
   },
   "source": [
    "# Doing it lazily\n",
    "\n",
    "And the other way around? What it we have our iterables already in a list?"
   ]
  },
  {
   "cell_type": "code",
   "execution_count": 156,
   "metadata": {
    "collapsed": false,
    "slideshow": {
     "slide_type": "skip"
    }
   },
   "outputs": [
    {
     "name": "stdout",
     "output_type": "stream",
     "text": [
      "['Past', 'glories', 'are', 'poor', 'feeding']\n"
     ]
    }
   ],
   "source": [
    "words = \"Past glories are poor feeding\".split() # ― Isaac Asimov\n",
    "print(words)"
   ]
  },
  {
   "cell_type": "markdown",
   "metadata": {
    "slideshow": {
     "slide_type": "skip"
    }
   },
   "source": [
    "We want to loop other the letters of all the words."
   ]
  },
  {
   "cell_type": "markdown",
   "metadata": {
    "slideshow": {
     "slide_type": "skip"
    }
   },
   "source": [
    "## I'll use `chain()` then"
   ]
  },
  {
   "cell_type": "code",
   "execution_count": 157,
   "metadata": {
    "collapsed": false,
    "slideshow": {
     "slide_type": "skip"
    }
   },
   "outputs": [
    {
     "name": "stdout",
     "output_type": "stream",
     "text": [
      "Past\n",
      "glories\n",
      "are\n",
      "poor\n",
      "feeding\n"
     ]
    }
   ],
   "source": [
    "for letter in itertools.chain(words):\n",
    "    print(letter)"
   ]
  },
  {
   "cell_type": "markdown",
   "metadata": {
    "slideshow": {
     "slide_type": "skip"
    }
   },
   "source": [
    "It doesn't work! `chain()` iterates over the strings of the single iterable (the list) it receives. What we want is to chain the *letters* in each word — so each word will need to be an input argument."
   ]
  },
  {
   "cell_type": "markdown",
   "metadata": {
    "slideshow": {
     "slide_type": "skip"
    }
   },
   "source": [
    "## Unpacking Arguments\n",
    "\n",
    "- Here's where we would normally use **argument unpacking**.\n",
    "- From list or tuple to separate positional arguments...\n",
    "- ... using the `*` operator to unpack the arguments out."
   ]
  },
  {
   "cell_type": "code",
   "execution_count": 158,
   "metadata": {
    "collapsed": false,
    "slideshow": {
     "slide_type": "skip"
    }
   },
   "outputs": [
    {
     "data": {
      "text/plain": [
       "5"
      ]
     },
     "execution_count": 159,
     "metadata": {},
     "output_type": "execute_result"
    }
   ],
   "source": [
    "def add(x, y):\n",
    "    return x + y\n",
    "\n",
    "values = [2, 3]\n",
    "\n",
    "# Works, but terribly ugly\n",
    "add(values[0], values[1])"
   ]
  },
  {
   "cell_type": "code",
   "execution_count": 160,
   "metadata": {
    "collapsed": false,
    "slideshow": {
     "slide_type": "skip"
    }
   },
   "outputs": [
    {
     "data": {
      "text/plain": [
       "5"
      ]
     },
     "execution_count": 161,
     "metadata": {},
     "output_type": "execute_result"
    }
   ],
   "source": [
    "# values[0] becomes the first positional argument...\n",
    "# ... and values[1] becomes the second one.\n",
    "add(*values)"
   ]
  },
  {
   "cell_type": "markdown",
   "metadata": {
    "slideshow": {
     "slide_type": "skip"
    }
   },
   "source": [
    "## Unpacking our words"
   ]
  },
  {
   "cell_type": "code",
   "execution_count": 162,
   "metadata": {
    "collapsed": false,
    "slideshow": {
     "slide_type": "skip"
    }
   },
   "outputs": [
    {
     "data": {
      "text/plain": [
       "['P', 'a', 's', 't', 'g', 'l', 'o', 'r', 'i', 'e', 's', 'a', 'r', 'e', 'p']"
      ]
     },
     "execution_count": 163,
     "metadata": {},
     "output_type": "execute_result"
    }
   ],
   "source": [
    "words = \"Past glories are poor feeding\".split() # ― Isaac Asimov\n",
    "\n",
    "letters = itertools.chain(*words) # notice the *\n",
    "list(itertools.islice(letters, 15))"
   ]
  },
  {
   "cell_type": "markdown",
   "metadata": {
    "slideshow": {
     "slide_type": "skip"
    }
   },
   "source": [
    "Works! But —"
   ]
  },
  {
   "cell_type": "markdown",
   "metadata": {
    "slideshow": {
     "slide_type": "skip"
    }
   },
   "source": [
    "## Intertwining iterators"
   ]
  },
  {
   "cell_type": "code",
   "execution_count": 164,
   "metadata": {
    "collapsed": false,
    "slideshow": {
     "slide_type": "skip"
    }
   },
   "outputs": [
    {
     "name": "stdout",
     "output_type": "stream",
     "text": [
      "(4, '->')\n",
      "(9, '->')\n",
      "(16, '->')\n"
     ]
    }
   ],
   "source": [
    "squares = (x ** 2 for x in range(2, 100000000)) # 1e8\n",
    "sep     = itertools.cycle([\"->\"])\n",
    "powers  = zip(squares, sep)\n",
    "\n",
    "print(next(powers)) # (4, '->')\n",
    "print(next(powers)) # (9, '->')\n",
    "print(next(powers)) # (16, '->')"
   ]
  },
  {
   "cell_type": "markdown",
   "metadata": {
    "slideshow": {
     "slide_type": "skip"
    }
   },
   "source": [
    "How do we chain these values? That is: $4 \\rightarrow 9 \\rightarrow 16 \\rightarrow$..."
   ]
  },
  {
   "cell_type": "markdown",
   "metadata": {
    "slideshow": {
     "slide_type": "skip"
    }
   },
   "source": [
    "Do we... unpack it, as we just said?"
   ]
  },
  {
   "cell_type": "code",
   "execution_count": 165,
   "metadata": {
    "collapsed": false,
    "slideshow": {
     "slide_type": "skip"
    }
   },
   "outputs": [],
   "source": [
    "squares = (x ** 2 for x in range(2, 100000000)) # 1e8\n",
    "sep     = itertools.cycle([\"->\"])\n",
    "powers  = zip(squares, sep)\n",
    "\n",
    "it = itertools.chain(*powers) # unpacks 1e8 arguments"
   ]
  },
  {
   "cell_type": "markdown",
   "metadata": {
    "slideshow": {
     "slide_type": "skip"
    }
   },
   "source": [
    "Blood, toil, tears, and sweat ensue."
   ]
  },
  {
   "cell_type": "markdown",
   "metadata": {
    "slideshow": {
     "slide_type": "skip"
    }
   },
   "source": [
    "## `itertools.chain.from_iterable()`\n",
    "- Alternate constructor for `chain()`\n",
    "- Chained inputs from a **single iterable argument**...\n",
    "- ... that is evaluated lazily."
   ]
  },
  {
   "cell_type": "code",
   "execution_count": 166,
   "metadata": {
    "collapsed": false,
    "slideshow": {
     "slide_type": "skip"
    }
   },
   "outputs": [
    {
     "name": "stdout",
     "output_type": "stream",
     "text": [
      "1\n",
      "2\n",
      "3\n",
      "a\n",
      "e\n",
      "i\n",
      "o\n",
      "u\n"
     ]
    }
   ],
   "source": [
    "numbers = [1, 2, 3]\n",
    "vowels = \"aeiou\"\n",
    "things = [numbers, vowels]\n",
    "\n",
    "# Instead of chain() + argument unpacking\n",
    "for item in itertools.chain.from_iterable(things):\n",
    "    print(item)"
   ]
  },
  {
   "cell_type": "markdown",
   "metadata": {
    "slideshow": {
     "slide_type": "skip"
    }
   },
   "source": [
    "Since the evaluation is lazy, we could even chain an *infinite* number of iterables."
   ]
  },
  {
   "cell_type": "code",
   "execution_count": 167,
   "metadata": {
    "collapsed": false,
    "slideshow": {
     "slide_type": "skip"
    }
   },
   "outputs": [
    {
     "data": {
      "text/plain": [
       "[4, '->', 9, '->', 16, '->', 25, '->', 36, '->']"
      ]
     },
     "execution_count": 168,
     "metadata": {},
     "output_type": "execute_result"
    }
   ],
   "source": [
    "squares = (x ** 2 for x in range(2, 100000000)) # 1e8\n",
    "sep     = itertools.cycle([\"->\"])\n",
    "powers  = zip(squares, sep)\n",
    "\n",
    "it = itertools.chain.from_iterable(powers) # doesn't explode\n",
    "list(itertools.islice(it, 10)) # just the first ten elements"
   ]
  },
  {
   "cell_type": "markdown",
   "metadata": {
    "slideshow": {
     "slide_type": "subslide"
    }
   },
   "source": [
    "<img src=\"./images/Steven_Ho_540_Kick.jpg\" style=\"height: 400px; width:auto\"/>\n",
    "\n",
    "[Photo](https://commons.wikimedia.org/wiki/File:Steven_ho_about.jpg) by Jane Davees / [CC BY 3.0](https://creativecommons.org/licenses/by/3.0/)"
   ]
  },
  {
   "cell_type": "markdown",
   "metadata": {
    "slideshow": {
     "slide_type": "slide"
    }
   },
   "source": [
    "# Rolling dices\n",
    "\n",
    "If we roll two six-sided dices, how many unique combinations are there?"
   ]
  },
  {
   "cell_type": "code",
   "execution_count": 169,
   "metadata": {
    "collapsed": false,
    "slideshow": {
     "slide_type": "-"
    }
   },
   "outputs": [
    {
     "data": {
      "text/plain": [
       "[(1, 1), (1, 2), (1, 3), (1, 4), (1, 5), (1, 6), (2, 1), (2, 2)]"
      ]
     },
     "execution_count": 170,
     "metadata": {},
     "output_type": "execute_result"
    }
   ],
   "source": [
    "def product(first, second):\n",
    "    \"\"\"A generator of the Cartesian product of two iterables.\"\"\"\n",
    "    \n",
    "    for x in first:\n",
    "        for y in second:\n",
    "            yield (x, y)\n",
    "            \n",
    "\n",
    "dice = range(1, 7)\n",
    "pairs = list(product(dice, dice))\n",
    "pairs[:8]"
   ]
  },
  {
   "cell_type": "code",
   "execution_count": 171,
   "metadata": {
    "collapsed": false,
    "slideshow": {
     "slide_type": "skip"
    }
   },
   "outputs": [
    {
     "data": {
      "text/plain": [
       "36"
      ]
     },
     "execution_count": 172,
     "metadata": {},
     "output_type": "execute_result"
    }
   ],
   "source": [
    "# set() needed because (1, 3) is the same result as (3, 1)\n",
    "len(set(pairs))"
   ]
  },
  {
   "cell_type": "markdown",
   "metadata": {
    "slideshow": {
     "slide_type": "-"
    }
   },
   "source": [
    "What if it's *three* dices?"
   ]
  },
  {
   "cell_type": "markdown",
   "metadata": {
    "slideshow": {
     "slide_type": "subslide"
    }
   },
   "source": [
    "## Three (or more) dices\n",
    "\n",
    "We need to generalize our solution. For example, via recursion:"
   ]
  },
  {
   "cell_type": "code",
   "execution_count": 173,
   "metadata": {
    "collapsed": false
   },
   "outputs": [
    {
     "name": "stdout",
     "output_type": "stream",
     "text": [
      "(1, 1, 1)\n",
      "(1, 1, 2)\n",
      "(1, 1, 3)\n",
      "(1, 1, 4)\n",
      "(1, 1, 5)\n",
      "(1, 1, 6)\n",
      "(1, 2, 1)\n"
     ]
    }
   ],
   "source": [
    "def product(*args):\n",
    "    \"\"\"A generator of the Cartesian product of multiple iterables.\"\"\"\n",
    "    \n",
    "    # Base case\n",
    "    if not args:\n",
    "        yield ()\n",
    "        return\n",
    "    \n",
    "    for element in args[0]:\n",
    "        for subproduct in product(*args[1:]):\n",
    "            yield (element,) + subproduct\n",
    "            \n",
    "            \n",
    "dice = range(1, 7)\n",
    "triplets = product(dice, dice, dice)\n",
    "for x in itertools.islice(triplets, 7):\n",
    "    print(x)"
   ]
  },
  {
   "cell_type": "markdown",
   "metadata": {
    "slideshow": {
     "slide_type": "subslide"
    }
   },
   "source": [
    "## `itertools.product()`\n",
    "\n",
    "- Make an iterator returning the Cartesian product of the input iterables.\n",
    "- Cycles with the rightmost element advancing on every iteration.\n",
    "- To compute the product of an iterable with itself, we use `repeat`."
   ]
  },
  {
   "cell_type": "code",
   "execution_count": 174,
   "metadata": {
    "collapsed": false
   },
   "outputs": [
    {
     "name": "stdout",
     "output_type": "stream",
     "text": [
      "<itertools.product object at 0x7fdb9e4153a8>\n"
     ]
    }
   ],
   "source": [
    "g = itertools.product([1, 2], \"ab\")\n",
    "print(g)"
   ]
  },
  {
   "cell_type": "code",
   "execution_count": 175,
   "metadata": {
    "collapsed": false
   },
   "outputs": [
    {
     "name": "stdout",
     "output_type": "stream",
     "text": [
      "(1, 'a')\n",
      "(1, 'b')\n",
      "(2, 'a')\n",
      "(2, 'b')\n"
     ]
    }
   ],
   "source": [
    "for pair in g:\n",
    "    print(pair)"
   ]
  },
  {
   "cell_type": "markdown",
   "metadata": {
    "slideshow": {
     "slide_type": "subslide"
    }
   },
   "source": [
    "### `repeat` keyword argument\n",
    "\n",
    "Instead of writing several times the same input iterable:"
   ]
  },
  {
   "cell_type": "code",
   "execution_count": 176,
   "metadata": {
    "collapsed": false
   },
   "outputs": [
    {
     "name": "stdout",
     "output_type": "stream",
     "text": [
      "(1, 1)\n",
      "(1, 2)\n",
      "(1, 3)\n",
      "(1, 4)\n",
      "(1, 5)\n",
      "(1, 6)\n",
      "(2, 1)\n",
      "(2, 2)\n",
      "(2, 3)\n",
      "(2, 4)\n"
     ]
    }
   ],
   "source": [
    "dice = range(1, 7)\n",
    "pairs = itertools.product(dice, repeat=2)\n",
    "\n",
    "for pair in itertools.islice(pairs, 10):\n",
    "    print(pair)"
   ]
  },
  {
   "cell_type": "markdown",
   "metadata": {
    "slideshow": {
     "slide_type": "subslide"
    }
   },
   "source": [
    "## An easy question\n",
    "\n",
    "If we roll four six-sided dices, in how many outcomes they add up to 5?"
   ]
  },
  {
   "cell_type": "code",
   "execution_count": 177,
   "metadata": {
    "collapsed": false
   },
   "outputs": [
    {
     "name": "stdout",
     "output_type": "stream",
     "text": [
      "(1, 1, 1, 2)\n",
      "(1, 1, 2, 1)\n",
      "(1, 2, 1, 1)\n",
      "(2, 1, 1, 1)\n"
     ]
    }
   ],
   "source": [
    "results = itertools.product(range(1, 7), repeat=4)\n",
    "results = filter(lambda x: sum(x) == 5, results)\n",
    "\n",
    "for x in results:\n",
    "    print(x)"
   ]
  },
  {
   "cell_type": "markdown",
   "metadata": {},
   "source": [
    "That is — we need a $2$ in one dice and $1$ in the other three."
   ]
  },
  {
   "cell_type": "markdown",
   "metadata": {
    "slideshow": {
     "slide_type": "subslide"
    }
   },
   "source": [
    "## Pixels\n",
    "\n",
    "Let's say we need to work with pixels — lots of them!"
   ]
  },
  {
   "cell_type": "code",
   "execution_count": 178,
   "metadata": {
    "collapsed": false
   },
   "outputs": [
    {
     "name": "stdout",
     "output_type": "stream",
     "text": [
      "Pixel(row=2, column=3)\n"
     ]
    }
   ],
   "source": [
    "class Pixel(object):\n",
    "\n",
    "    def __init__(self, row, column):\n",
    "        self.row = row\n",
    "        self.column = column\n",
    "\n",
    "    def __repr__(self):\n",
    "        \"\"\"Return a nicely formatted representation string.\"\"\"\n",
    "        return \"Pixel(row={}, column={})\".format(self.row, self.column)\n",
    "    \n",
    "    \n",
    "p = Pixel(2, 3)\n",
    "print(p)"
   ]
  },
  {
   "cell_type": "markdown",
   "metadata": {
    "slideshow": {
     "slide_type": "subslide"
    }
   },
   "source": [
    "### [`collections.namedtuple()`](https://docs.python.org/3/library/collections.html#collections.namedtuple)\n",
    "\n",
    "- Factory function for creating tuple subclasses with named fields.\n",
    "- Makes our live much easier if we don't need our class to be mutable...\n",
    "- ... because we get `__init__()`, `__repr__()` and others for free.\n",
    "- We can add our own methods via inheritance."
   ]
  },
  {
   "cell_type": "code",
   "execution_count": 179,
   "metadata": {
    "collapsed": false
   },
   "outputs": [],
   "source": [
    "Pixel = collections.namedtuple(\"Pixel\", \"row, column\")"
   ]
  },
  {
   "cell_type": "markdown",
   "metadata": {},
   "source": [
    "That's all."
   ]
  },
  {
   "cell_type": "code",
   "execution_count": 180,
   "metadata": {
    "collapsed": false
   },
   "outputs": [
    {
     "name": "stdout",
     "output_type": "stream",
     "text": [
      "Pixel(row=5, column=1)\n"
     ]
    }
   ],
   "source": [
    "p = Pixel(5, 1)\n",
    "print(p)"
   ]
  },
  {
   "cell_type": "markdown",
   "metadata": {
    "slideshow": {
     "slide_type": "subslide"
    }
   },
   "source": [
    "### Adding a method\n",
    "\n",
    "To compute the distance between two points:"
   ]
  },
  {
   "cell_type": "code",
   "execution_count": 181,
   "metadata": {
    "collapsed": false
   },
   "outputs": [
    {
     "name": "stdout",
     "output_type": "stream",
     "text": [
      "Distance: 3.605551275463989 pixels\n"
     ]
    }
   ],
   "source": [
    "class Pixel(collections.namedtuple(\"Pixel\", \"row, column\")):\n",
    "    \n",
    "    def distance(self, other):\n",
    "        \"\"\"Return the Euclidean distance between two picels.\"\"\"\n",
    "        \n",
    "        delta_x = self.row    - other.row\n",
    "        delta_y = self.column - other.column\n",
    "        return math.sqrt(delta_x ** 2 + delta_y ** 2)\n",
    "    \n",
    "    \n",
    "p1 = Pixel(2, 3)\n",
    "p2 = Pixel(5, 1)\n",
    "print(\"Distance:\", p1.distance(p2), \"pixels\")"
   ]
  },
  {
   "cell_type": "markdown",
   "metadata": {
    "slideshow": {
     "slide_type": "subslide"
    }
   },
   "source": [
    "## Getting the neighbors\n",
    "\n",
    "Let's add a method to get the eight neighbors, lateral and diagonal:\n",
    "\n",
    "### Naive version:"
   ]
  },
  {
   "cell_type": "code",
   "execution_count": 182,
   "metadata": {
    "collapsed": false
   },
   "outputs": [],
   "source": [
    "class Pixel(collections.namedtuple(\"Pixel\", \"row, column\")):\n",
    "\n",
    "    def neighbours(self):\n",
    "        \"\"\"Return a generator of the eight neighbours of the Pixel.\"\"\"\n",
    "        \n",
    "        yield Pixel(self.row - 1, self.column - 1)\n",
    "        yield Pixel(self.row - 1, self.column    )\n",
    "        yield Pixel(self.row - 1, self.column + 1)\n",
    "        yield Pixel(self.row    , self.column - 1)\n",
    "        yield Pixel(self.row    , self.column + 1)\n",
    "        yield Pixel(self.row + 1, self.column - 1)\n",
    "        yield Pixel(self.row + 1, self.column    )\n",
    "        yield Pixel(self.row + 1, self.column + 1)"
   ]
  },
  {
   "cell_type": "markdown",
   "metadata": {},
   "source": [
    "That's a lot of code."
   ]
  },
  {
   "cell_type": "markdown",
   "metadata": {
    "slideshow": {
     "slide_type": "subslide"
    }
   },
   "source": [
    "### Kung Fu version"
   ]
  },
  {
   "cell_type": "code",
   "execution_count": 183,
   "metadata": {
    "collapsed": false
   },
   "outputs": [
    {
     "name": "stdout",
     "output_type": "stream",
     "text": [
      "Pixel(row=2, column=3)\n",
      "Pixel(row=2, column=4)\n",
      "Pixel(row=2, column=5)\n",
      "Pixel(row=3, column=3)\n",
      "Pixel(row=3, column=5)\n",
      "Pixel(row=4, column=3)\n",
      "Pixel(row=4, column=4)\n",
      "Pixel(row=4, column=5)\n"
     ]
    }
   ],
   "source": [
    "class Pixel(collections.namedtuple(\"Pixel\", \"row column\")):\n",
    "    \n",
    "    def neighbours(self):\n",
    "        \"\"\"Return a generator of the eight neighbours of the Pixel.\"\"\"\n",
    "        \n",
    "        for x_delta, y_delta in itertools.product([-1, 0, 1], repeat=2):\n",
    "            if x_delta or y_delta:  # ignore delta (0, 0)\n",
    "                yield Pixel(self.row + x_delta, self.column + y_delta)\n",
    "                \n",
    "                \n",
    "for p in Pixel(3, 4).neighbours():\n",
    "    print(p)"
   ]
  },
  {
   "cell_type": "markdown",
   "metadata": {
    "slideshow": {
     "slide_type": "subslide"
    }
   },
   "source": [
    "### Kung Fu Master version\n",
    "\n",
    "Don't hardcode the class name."
   ]
  },
  {
   "cell_type": "code",
   "execution_count": 184,
   "metadata": {
    "collapsed": false,
    "slideshow": {
     "slide_type": "-"
    }
   },
   "outputs": [
    {
     "name": "stdout",
     "output_type": "stream",
     "text": [
      "Pixel(row=3, column=6)\n",
      "Pixel(row=3, column=7)\n",
      "Pixel(row=3, column=8)\n",
      "Pixel(row=4, column=6)\n",
      "Pixel(row=4, column=8)\n",
      "Pixel(row=5, column=6)\n",
      "Pixel(row=5, column=7)\n",
      "Pixel(row=5, column=8)\n"
     ]
    }
   ],
   "source": [
    "class Pixel(collections.namedtuple(\"Pixel\", \"row column\")):\n",
    "    \n",
    "    def neighbours(self):\n",
    "        \"\"\"Return a generator of the eight neighbours of the Pixel.\"\"\"\n",
    "        \n",
    "        cls = type(self)  # we can use now 'cls' to create new objects\n",
    "        for x_delta, y_delta in itertools.product([-1, 0, 1], repeat=2):\n",
    "            if x_delta or y_delta:  # ignore delta (0, 0)\n",
    "                yield cls(self.row + x_delta, self.column + y_delta)\n",
    "                \n",
    "                \n",
    "for p in Pixel(4, 7).neighbours():\n",
    "    print(p)"
   ]
  },
  {
   "cell_type": "markdown",
   "metadata": {
    "slideshow": {
     "slide_type": "subslide"
    }
   },
   "source": [
    "<img src=\"./images/Bulletproof_Bruce_Lee.jpg\" style=\"height: 400px; width:auto\"/>\n",
    "\n",
    "[Photo](http://viviannepierre.deviantart.com/art/Bulletproof-Bruce-Lee-103466411) by Vivianne Pierre / [CC BY-SA 3.0](https://creativecommons.org/licenses/by-sa/3.0/)"
   ]
  },
  {
   "cell_type": "markdown",
   "metadata": {
    "slideshow": {
     "slide_type": "slide"
    }
   },
   "source": [
    "# Parting Words\n",
    "\n",
    "We've covered a bunch of stuff ...\n",
    "\n",
    "- [`itertools.count()`](https://docs.python.org/3/library/itertools.html#itertools.count)\n",
    "- [`itertools.islice()`](https://docs.python.org/3/library/itertools.html#itertools.islice)\n",
    "- [`itertools.takewhile()`](https://docs.python.org/3/library/itertools.html#itertools.takewhile)\n",
    "- [`itertools.dropwhile()`](https://docs.python.org/3/library/itertools.html#itertools.dropwhile)\n",
    "- [`itertools.groupby()`](https://docs.python.org/3/library/itertools.html#itertools.groupby)\n",
    "- [`itertools.cycle()`](https://docs.python.org/3/library/itertools.html#itertools.cycle)\n",
    "- [`itertools.chain()`](https://docs.python.org/3/library/itertools.html#itertools.chain)\n",
    "- [`itertools.product()`](https://docs.python.org/3/library/itertools.html#itertools.product)\n",
    "- [`yield from`](https://docs.python.org/3/whatsnew/3.3.html#pep-380)\n",
    "- [`collections.namedtuple()`](https://docs.python.org/3/library/collections.html#collections.namedtuple)"
   ]
  },
  {
   "cell_type": "markdown",
   "metadata": {
    "slideshow": {
     "slide_type": "fragment"
    }
   },
   "source": [
    "... but, still, we just scratched the surface."
   ]
  },
  {
   "cell_type": "markdown",
   "metadata": {
    "slideshow": {
     "slide_type": "subslide"
    }
   },
   "source": [
    "# The head-fake\n",
    "\n",
    "The building blocks provided by `itertools` are inspired in languages like [Haskell](https://www.haskell.org/):\n",
    "\n",
    "- `itertools.count()` $\\rightarrow$ [Infinite lists](https://en.wikibooks.org/wiki/Haskell/Lists_II#Infinite_Lists)\n",
    "- `itertools.islice()` $\\rightarrow$ [`take`](http://hackage.haskell.org/package/base-4.9.0.0/docs/Prelude.html#v:take)\n",
    "- `itertools.takewhile()` $\\rightarrow$ [`takeWhile`](http://hackage.haskell.org/package/base-4.9.0.0/docs/Prelude.html#v:takeWhile)\n",
    "- `itertools.dropwhile()` $\\rightarrow$ [`dropWhile`](http://hackage.haskell.org/package/base-4.9.0.0/docs/Prelude.html#v:dropWhile)\n",
    "- `itertools.groupby()` $\\rightarrow$ [`groupBy`](http://hackage.haskell.org/package/base-4.9.0.0/docs/Data-List.html#v:groupBy)\n",
    "- `itertools.cycle()` $\\rightarrow$ [`cycle`](http://hackage.haskell.org/package/base-4.9.0.0/docs/Prelude.html#v:cycle)"
   ]
  },
  {
   "cell_type": "markdown",
   "metadata": {
    "slideshow": {
     "slide_type": "fragment"
    }
   },
   "source": [
    "— we were also learning [functional programming](https://en.wikipedia.org/wiki/Functional_programming)."
   ]
  },
  {
   "cell_type": "markdown",
   "metadata": {
    "slideshow": {
     "slide_type": "subslide"
    }
   },
   "source": [
    "<img src=\"./images/Bruce_Lee_Statue.jpg\" style=\"height: 400px; width:auto\"/>\n",
    "\n",
    "[Photo](https://www.flickr.com/photos/iqremix/9454511368) by IQRemix / [CC BY-SA 2.0](https://creativecommons.org/licenses/by-sa/2.0/) / Cropped from original"
   ]
  }
 ],
 "metadata": {
  "celltoolbar": "Slideshow",
  "kernelspec": {
   "display_name": "Python 3",
   "language": "python",
   "name": "python3"
  },
  "language_info": {
   "codemirror_mode": {
    "name": "ipython",
    "version": 3
   },
   "file_extension": ".py",
   "mimetype": "text/x-python",
   "name": "python",
   "nbconvert_exporter": "python",
   "pygments_lexer": "ipython3",
   "version": "3.4.3"
  }
 },
 "nbformat": 4,
 "nbformat_minor": 0
}
